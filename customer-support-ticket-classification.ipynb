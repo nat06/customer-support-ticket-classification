{
 "cells": [
  {
   "cell_type": "markdown",
   "id": "e5d2bb8f",
   "metadata": {},
   "source": [
    "## Customer Service Ticket Classification"
   ]
  },
  {
   "cell_type": "code",
   "execution_count": 23,
   "id": "1610efa4",
   "metadata": {},
   "outputs": [],
   "source": [
    "import os\n",
    "import json\n",
    "import pandas as pd\n",
    "from tqdm import tqdm\n",
    "from mistralai import Mistral\n",
    "from utils import clean_text, normalize_prediction\n",
    "from dotenv import load_dotenv"
   ]
  },
  {
   "cell_type": "code",
   "execution_count": 24,
   "id": "6702384c",
   "metadata": {},
   "outputs": [],
   "source": [
    "load_dotenv() \n",
    "API_KEY = os.getenv(\"MISTRAL_API_KEY\")\n",
    "client = Mistral(api_key=API_KEY)"
   ]
  },
  {
   "cell_type": "markdown",
   "id": "79581306",
   "metadata": {},
   "source": [
    "#### HuggingFace dataset"
   ]
  },
  {
   "cell_type": "code",
   "execution_count": 3,
   "id": "4d5ee045",
   "metadata": {},
   "outputs": [
    {
     "name": "stderr",
     "output_type": "stream",
     "text": [
      "/Users/nathanpollet/Desktop/mistralAI/mistral_final/lib/python3.9/site-packages/tqdm/auto.py:21: TqdmWarning: IProgress not found. Please update jupyter and ipywidgets. See https://ipywidgets.readthedocs.io/en/stable/user_install.html\n",
      "  from .autonotebook import tqdm as notebook_tqdm\n"
     ]
    }
   ],
   "source": [
    "from datasets import load_dataset\n",
    "ds = load_dataset(\"Tobi-Bueck/customer-support-tickets\")"
   ]
  },
  {
   "cell_type": "code",
   "execution_count": 4,
   "id": "77e29264",
   "metadata": {},
   "outputs": [
    {
     "name": "stdout",
     "output_type": "stream",
     "text": [
      "DatasetDict({\n",
      "    train: Dataset({\n",
      "        features: ['subject', 'body', 'answer', 'type', 'queue', 'priority', 'language', 'tag_1', 'tag_2', 'tag_3', 'tag_4', 'tag_5', 'tag_6', 'tag_7', 'tag_8'],\n",
      "        num_rows: 20000\n",
      "    })\n",
      "})\n"
     ]
    }
   ],
   "source": [
    "print(ds)"
   ]
  },
  {
   "cell_type": "code",
   "execution_count": 5,
   "id": "4f8b35ab",
   "metadata": {},
   "outputs": [
    {
     "name": "stdout",
     "output_type": "stream",
     "text": [
      "20000\n"
     ]
    },
    {
     "data": {
      "text/html": [
       "<div>\n",
       "<style scoped>\n",
       "    .dataframe tbody tr th:only-of-type {\n",
       "        vertical-align: middle;\n",
       "    }\n",
       "\n",
       "    .dataframe tbody tr th {\n",
       "        vertical-align: top;\n",
       "    }\n",
       "\n",
       "    .dataframe thead th {\n",
       "        text-align: right;\n",
       "    }\n",
       "</style>\n",
       "<table border=\"1\" class=\"dataframe\">\n",
       "  <thead>\n",
       "    <tr style=\"text-align: right;\">\n",
       "      <th></th>\n",
       "      <th>subject</th>\n",
       "      <th>body</th>\n",
       "      <th>answer</th>\n",
       "      <th>type</th>\n",
       "      <th>queue</th>\n",
       "      <th>priority</th>\n",
       "      <th>language</th>\n",
       "      <th>tag_1</th>\n",
       "      <th>tag_2</th>\n",
       "      <th>tag_3</th>\n",
       "      <th>tag_4</th>\n",
       "      <th>tag_5</th>\n",
       "      <th>tag_6</th>\n",
       "      <th>tag_7</th>\n",
       "      <th>tag_8</th>\n",
       "    </tr>\n",
       "  </thead>\n",
       "  <tbody>\n",
       "    <tr>\n",
       "      <th>0</th>\n",
       "      <td>Unvorhergesehener Absturz der Datenanalyse-Pla...</td>\n",
       "      <td>Die Datenanalyse-Plattform brach unerwartet ab...</td>\n",
       "      <td>Ich werde Ihnen bei der Lösung des Problems he...</td>\n",
       "      <td>Incident</td>\n",
       "      <td>General Inquiry</td>\n",
       "      <td>low</td>\n",
       "      <td>de</td>\n",
       "      <td>Crash</td>\n",
       "      <td>Technical</td>\n",
       "      <td>Bug</td>\n",
       "      <td>Hardware</td>\n",
       "      <td>Resolution</td>\n",
       "      <td>Outage</td>\n",
       "      <td>Documentation</td>\n",
       "      <td>None</td>\n",
       "    </tr>\n",
       "    <tr>\n",
       "      <th>1</th>\n",
       "      <td>Customer Support Inquiry</td>\n",
       "      <td>Seeking information on digital strategies that...</td>\n",
       "      <td>We offer a variety of digital strategies and s...</td>\n",
       "      <td>Request</td>\n",
       "      <td>Customer Service</td>\n",
       "      <td>medium</td>\n",
       "      <td>en</td>\n",
       "      <td>Feedback</td>\n",
       "      <td>Sales</td>\n",
       "      <td>IT</td>\n",
       "      <td>Tech Support</td>\n",
       "      <td>None</td>\n",
       "      <td>None</td>\n",
       "      <td>None</td>\n",
       "      <td>None</td>\n",
       "    </tr>\n",
       "  </tbody>\n",
       "</table>\n",
       "</div>"
      ],
      "text/plain": [
       "                                             subject  \\\n",
       "0  Unvorhergesehener Absturz der Datenanalyse-Pla...   \n",
       "1                           Customer Support Inquiry   \n",
       "\n",
       "                                                body  \\\n",
       "0  Die Datenanalyse-Plattform brach unerwartet ab...   \n",
       "1  Seeking information on digital strategies that...   \n",
       "\n",
       "                                              answer      type  \\\n",
       "0  Ich werde Ihnen bei der Lösung des Problems he...  Incident   \n",
       "1  We offer a variety of digital strategies and s...   Request   \n",
       "\n",
       "              queue priority language     tag_1      tag_2 tag_3  \\\n",
       "0   General Inquiry      low       de     Crash  Technical   Bug   \n",
       "1  Customer Service   medium       en  Feedback      Sales    IT   \n",
       "\n",
       "          tag_4       tag_5   tag_6          tag_7 tag_8  \n",
       "0      Hardware  Resolution  Outage  Documentation  None  \n",
       "1  Tech Support        None    None           None  None  "
      ]
     },
     "execution_count": 5,
     "metadata": {},
     "output_type": "execute_result"
    }
   ],
   "source": [
    "df = ds['train'].to_pandas()\n",
    "print(df.shape[0])  \n",
    "df.head(2)"
   ]
  },
  {
   "cell_type": "markdown",
   "id": "dd6fd45b",
   "metadata": {},
   "source": [
    "## Predicting `queue` category from the ticket `text`"
   ]
  },
  {
   "cell_type": "markdown",
   "id": "13387ab8",
   "metadata": {},
   "source": [
    "### Data Preprocessing"
   ]
  },
  {
   "cell_type": "markdown",
   "id": "f1e5ede8",
   "metadata": {},
   "source": [
    "Combine Subject + Body"
   ]
  },
  {
   "cell_type": "code",
   "execution_count": 6,
   "id": "af29dacb",
   "metadata": {},
   "outputs": [],
   "source": [
    "df[\"text\"] = df[\"subject\"].fillna(\"\") + \"\\n\" + df[\"body\"].fillna(\"\")\n",
    "df[\"text\"] = df[\"text\"].str.strip() "
   ]
  },
  {
   "cell_type": "markdown",
   "id": "34bb586c",
   "metadata": {},
   "source": [
    "Clean + Drop Missing Queues"
   ]
  },
  {
   "cell_type": "code",
   "execution_count": 7,
   "id": "81d0aa32",
   "metadata": {},
   "outputs": [],
   "source": [
    "df = df.dropna(subset=[\"queue\", \"text\"])  # drop rows without target or input"
   ]
  },
  {
   "cell_type": "code",
   "execution_count": 8,
   "id": "abf6cbca",
   "metadata": {},
   "outputs": [],
   "source": [
    "df[\"clean_text\"] = df[\"text\"].astype(str).apply(clean_text)"
   ]
  },
  {
   "cell_type": "code",
   "execution_count": 9,
   "id": "52896166",
   "metadata": {},
   "outputs": [
    {
     "data": {
      "text/html": [
       "<div>\n",
       "<style scoped>\n",
       "    .dataframe tbody tr th:only-of-type {\n",
       "        vertical-align: middle;\n",
       "    }\n",
       "\n",
       "    .dataframe tbody tr th {\n",
       "        vertical-align: top;\n",
       "    }\n",
       "\n",
       "    .dataframe thead th {\n",
       "        text-align: right;\n",
       "    }\n",
       "</style>\n",
       "<table border=\"1\" class=\"dataframe\">\n",
       "  <thead>\n",
       "    <tr style=\"text-align: right;\">\n",
       "      <th></th>\n",
       "      <th>subject</th>\n",
       "      <th>body</th>\n",
       "      <th>answer</th>\n",
       "      <th>type</th>\n",
       "      <th>queue</th>\n",
       "      <th>priority</th>\n",
       "      <th>language</th>\n",
       "      <th>tag_1</th>\n",
       "      <th>tag_2</th>\n",
       "      <th>tag_3</th>\n",
       "      <th>tag_4</th>\n",
       "      <th>tag_5</th>\n",
       "      <th>tag_6</th>\n",
       "      <th>tag_7</th>\n",
       "      <th>tag_8</th>\n",
       "      <th>text</th>\n",
       "      <th>clean_text</th>\n",
       "    </tr>\n",
       "  </thead>\n",
       "  <tbody>\n",
       "    <tr>\n",
       "      <th>0</th>\n",
       "      <td>Unvorhergesehener Absturz der Datenanalyse-Pla...</td>\n",
       "      <td>Die Datenanalyse-Plattform brach unerwartet ab...</td>\n",
       "      <td>Ich werde Ihnen bei der Lösung des Problems he...</td>\n",
       "      <td>Incident</td>\n",
       "      <td>General Inquiry</td>\n",
       "      <td>low</td>\n",
       "      <td>de</td>\n",
       "      <td>Crash</td>\n",
       "      <td>Technical</td>\n",
       "      <td>Bug</td>\n",
       "      <td>Hardware</td>\n",
       "      <td>Resolution</td>\n",
       "      <td>Outage</td>\n",
       "      <td>Documentation</td>\n",
       "      <td>None</td>\n",
       "      <td>Unvorhergesehener Absturz der Datenanalyse-Pla...</td>\n",
       "      <td>unvorhergesehener absturz der datenanalyse-pla...</td>\n",
       "    </tr>\n",
       "    <tr>\n",
       "      <th>1</th>\n",
       "      <td>Customer Support Inquiry</td>\n",
       "      <td>Seeking information on digital strategies that...</td>\n",
       "      <td>We offer a variety of digital strategies and s...</td>\n",
       "      <td>Request</td>\n",
       "      <td>Customer Service</td>\n",
       "      <td>medium</td>\n",
       "      <td>en</td>\n",
       "      <td>Feedback</td>\n",
       "      <td>Sales</td>\n",
       "      <td>IT</td>\n",
       "      <td>Tech Support</td>\n",
       "      <td>None</td>\n",
       "      <td>None</td>\n",
       "      <td>None</td>\n",
       "      <td>None</td>\n",
       "      <td>Customer Support Inquiry\\nSeeking information ...</td>\n",
       "      <td>customer support inquiry seeking information o...</td>\n",
       "    </tr>\n",
       "  </tbody>\n",
       "</table>\n",
       "</div>"
      ],
      "text/plain": [
       "                                             subject  \\\n",
       "0  Unvorhergesehener Absturz der Datenanalyse-Pla...   \n",
       "1                           Customer Support Inquiry   \n",
       "\n",
       "                                                body  \\\n",
       "0  Die Datenanalyse-Plattform brach unerwartet ab...   \n",
       "1  Seeking information on digital strategies that...   \n",
       "\n",
       "                                              answer      type  \\\n",
       "0  Ich werde Ihnen bei der Lösung des Problems he...  Incident   \n",
       "1  We offer a variety of digital strategies and s...   Request   \n",
       "\n",
       "              queue priority language     tag_1      tag_2 tag_3  \\\n",
       "0   General Inquiry      low       de     Crash  Technical   Bug   \n",
       "1  Customer Service   medium       en  Feedback      Sales    IT   \n",
       "\n",
       "          tag_4       tag_5   tag_6          tag_7 tag_8  \\\n",
       "0      Hardware  Resolution  Outage  Documentation  None   \n",
       "1  Tech Support        None    None           None  None   \n",
       "\n",
       "                                                text  \\\n",
       "0  Unvorhergesehener Absturz der Datenanalyse-Pla...   \n",
       "1  Customer Support Inquiry\\nSeeking information ...   \n",
       "\n",
       "                                          clean_text  \n",
       "0  unvorhergesehener absturz der datenanalyse-pla...  \n",
       "1  customer support inquiry seeking information o...  "
      ]
     },
     "execution_count": 9,
     "metadata": {},
     "output_type": "execute_result"
    }
   ],
   "source": [
    "df.head(2)"
   ]
  },
  {
   "cell_type": "code",
   "execution_count": 10,
   "id": "5cd52013",
   "metadata": {},
   "outputs": [
    {
     "data": {
      "image/png": "[encoded data removed]",
      "text/plain": [
       "<Figure size 1200x800 with 1 Axes>"
      ]
     },
     "metadata": {},
     "output_type": "display_data"
    }
   ],
   "source": [
    "import matplotlib.pyplot as plt\n",
    "import seaborn as sns\n",
    "\n",
    "sns.set_style(\"whitegrid\")\n",
    "plt.figure(figsize=(12, 8))\n",
    "df[\"queue\"].value_counts().sort_values().plot(kind=\"barh\", color=sns.color_palette(\"viridis\"))\n",
    "plt.title(\"Class Distribution\", fontsize=16)\n",
    "plt.ylabel(\"Queue\", fontsize=12)\n",
    "plt.xlabel(\"Count\", fontsize=12)\n",
    "plt.tight_layout()\n",
    "plt.show()"
   ]
  },
  {
   "cell_type": "markdown",
   "id": "cbdc5ec1",
   "metadata": {},
   "source": [
    "### Dataset Splitting"
   ]
  },
  {
   "cell_type": "code",
   "execution_count": 11,
   "id": "3ddc5933",
   "metadata": {},
   "outputs": [
    {
     "name": "stdout",
     "output_type": "stream",
     "text": [
      "train.shape: (16000, 17), test.shape: (4000, 17)\n"
     ]
    }
   ],
   "source": [
    "from sklearn.model_selection import train_test_split\n",
    "train_df, test_df = train_test_split(df, test_size=0.2, stratify=df[\"queue\"], random_state=42)\n",
    "print(f\"train.shape: {train_df.shape}, test.shape: {test_df.shape}\")"
   ]
  },
  {
   "cell_type": "markdown",
   "id": "25434223",
   "metadata": {},
   "source": [
    "Evaluation on Balanced Subset"
   ]
  },
  {
   "cell_type": "code",
   "execution_count": null,
   "id": "a7ae575a",
   "metadata": {},
   "outputs": [
    {
     "name": "stdout",
     "output_type": "stream",
     "text": [
      "Minimum class size: 53\n",
      "(530, 17)\n"
     ]
    },
    {
     "name": "stderr",
     "output_type": "stream",
     "text": [
      "/var/folders/nd/krrp0gv1723f5lj3w_6bpt8c0000gn/T/ipykernel_91774/818358947.py:6: FutureWarning: DataFrameGroupBy.apply operated on the grouping columns. This behavior is deprecated, and in a future version of pandas the grouping columns will be excluded from the operation. Either pass `include_groups=False` to exclude the groupings or explicitly select the grouping columns after groupby to silence this warning.\n",
      "  test_df.groupby(\"queue\")\n"
     ]
    }
   ],
   "source": [
    "min_class_size = test_df[\"queue\"].value_counts().min()\n",
    "print(f\"Minimum class size: {min_class_size}\")\n",
    "\n",
    "balanced_eval_df = (\n",
    "    test_df.groupby(\"queue\")\n",
    "    .apply(lambda g: g.sample(min_class_size, random_state=42))\n",
    "    .reset_index(drop=True)\n",
    ")\n",
    "print(balanced_eval_df.shape)"
   ]
  },
  {
   "cell_type": "markdown",
   "id": "e2046b1a",
   "metadata": {},
   "source": [
    "### LLM Baselines"
   ]
  },
  {
   "cell_type": "code",
   "execution_count": 13,
   "id": "e03d8ac1",
   "metadata": {},
   "outputs": [
    {
     "name": "stdout",
     "output_type": "stream",
     "text": [
      "['Billing and Payments', 'Customer Service', 'General Inquiry', 'Human Resources', 'IT Support', 'Product Support', 'Returns and Exchanges', 'Sales and Pre-Sales', 'Service Outages and Maintenance', 'Technical Support']\n"
     ]
    }
   ],
   "source": [
    "queue_list = sorted(df[\"queue\"].dropna().unique().tolist()) \n",
    "print(queue_list) "
   ]
  },
  {
   "cell_type": "code",
   "execution_count": 18,
   "id": "5b82ede7",
   "metadata": {},
   "outputs": [],
   "source": [
    "def build_prompt(ticket_text, queue_list):\n",
    "    return f\"\"\"You are a support triage assistant. Classify the following ticket into one of the queues listed.\n",
    "\n",
    "-----\n",
    "Ticket information:\n",
    "{ticket_text}\n",
    "-----\n",
    "\n",
    "Possible queues: {\", \".join(queue_list)}\n",
    "\n",
    "What is the most appropriate queue for this ticket? Just output the name of the queue.\"\"\""
   ]
  },
  {
   "cell_type": "code",
   "execution_count": 19,
   "id": "06b7d5b7",
   "metadata": {},
   "outputs": [
    {
     "name": "stdout",
     "output_type": "stream",
     "text": [
      "You are a support triage assistant. Classify the following ticket into one of the queues listed.\n",
      "\n",
      "-----\n",
      "Ticket information:\n",
      "My computer is not working,\n",
      "I cannot access my emails and the screen is black.\n",
      "-----\n",
      "\n",
      "Possible queues: Billing and Payments, Customer Service, General Inquiry, Human Resources, IT Support, Product Support, Returns and Exchanges, Sales and Pre-Sales, Service Outages and Maintenance, Technical Support\n",
      "\n",
      "What is the most appropriate queue for this ticket? Just output the name of the queue.\n"
     ]
    }
   ],
   "source": [
    "print(build_prompt(\"My computer is not working,\\nI cannot access my emails and the screen is black.\", queue_list))"
   ]
  },
  {
   "cell_type": "code",
   "execution_count": 25,
   "id": "f03e322c",
   "metadata": {},
   "outputs": [],
   "source": [
    "def LLM_call(prompt, model=\"ministral-3b-2410\"):\n",
    "    client = Mistral(api_key=API_KEY)\n",
    "    response = client.chat.complete(\n",
    "        model=model,\n",
    "        messages=[{\"role\": \"user\", \"content\": f\"{prompt}\"}],\n",
    "    )\n",
    "\n",
    "    return response.choices[0].message.content.strip()"
   ]
  },
  {
   "cell_type": "code",
   "execution_count": 26,
   "id": "5096f2c5",
   "metadata": {},
   "outputs": [
    {
     "name": "stdout",
     "output_type": "stream",
     "text": [
      "IT Support\n"
     ]
    }
   ],
   "source": [
    "response = LLM_call(build_prompt(\"My computer is not working\\nI cannot access my emails and the screen is black.\", queue_list))\n",
    "print(response) "
   ]
  },
  {
   "cell_type": "markdown",
   "id": "7ab13e00",
   "metadata": {},
   "source": [
    "#### Zero-shot, Evaluating Various Model Performances"
   ]
  },
  {
   "cell_type": "markdown",
   "id": "015b7933",
   "metadata": {},
   "source": [
    "##### Evaluation on Balanced Subset"
   ]
  },
  {
   "cell_type": "code",
   "execution_count": 27,
   "id": "7cbb0c55",
   "metadata": {},
   "outputs": [],
   "source": [
    "prompts = balanced_eval_df[\"text\"].apply(lambda t: build_prompt(t, queue_list))"
   ]
  },
  {
   "cell_type": "code",
   "execution_count": 243,
   "id": "61f249b4",
   "metadata": {},
   "outputs": [
    {
     "name": "stderr",
     "output_type": "stream",
     "text": [
      "LLM calls: 100%|██████████| 530/530 [02:22<00:00,  3.71it/s]\n"
     ]
    }
   ],
   "source": [
    "balanced_eval_df[\"ministral3b-zeroShot-preds\"] = [LLM_call(p) for p in tqdm(prompts, desc=\"LLM calls\")]\n",
    "balanced_eval_df[\"ministral3b-zeroShot-preds-normalized\"] = balanced_eval_df[\"ministral3b-zeroShot-preds\"].apply(lambda x: normalize_prediction(x, queue_list))\n",
    "assert \"UNKNOWN\" not in balanced_eval_df[\"ministral3b-zeroShot-preds-normalized\"], \"There are 'UNKNOWN' predictions, LLM output format error.\""
   ]
  },
  {
   "cell_type": "code",
   "execution_count": 35,
   "id": "613cbda2",
   "metadata": {},
   "outputs": [
    {
     "name": "stdout",
     "output_type": "stream",
     "text": [
      "accuracy = 0.2018867924528302\n",
      "Macro F1: 0.1880\n",
      "Weighted F1: 0.1880\n"
     ]
    }
   ],
   "source": [
    "print(f\"accuracy = {accuracy_score(balanced_eval_df['queue'], balanced_eval_df['ministral3b-zeroShot-preds-normalized'])}\")\n",
    "macro_f1 = f1_score(balanced_eval_df[\"queue\"], balanced_eval_df[\"ministral3b-zeroShot-preds-normalized\"], average=\"macro\")\n",
    "weighted_f1 = f1_score(balanced_eval_df[\"queue\"], balanced_eval_df[\"ministral3b-zeroShot-preds-normalized\"], average=\"weighted\")\n",
    "print(f\"Macro F1: {macro_f1:.4f}\")\n",
    "print(f\"Weighted F1: {weighted_f1:.4f}\")"
   ]
  },
  {
   "cell_type": "code",
   "execution_count": 36,
   "id": "31ff1e47",
   "metadata": {},
   "outputs": [
    {
     "name": "stdout",
     "output_type": "stream",
     "text": [
      "                                 precision    recall  f1-score   support\n",
      "\n",
      "           Billing and Payments       1.00      0.42      0.59        53\n",
      "               Customer Service       0.00      0.00      0.00        53\n",
      "                General Inquiry       0.17      0.06      0.08        53\n",
      "                Human Resources       1.00      0.19      0.32        53\n",
      "                     IT Support       0.12      0.91      0.22        53\n",
      "                Product Support       0.04      0.02      0.03        53\n",
      "          Returns and Exchanges       0.00      0.00      0.00        53\n",
      "            Sales and Pre-Sales       0.42      0.19      0.26        53\n",
      "Service Outages and Maintenance       0.92      0.23      0.36        53\n",
      "              Technical Support       0.04      0.02      0.02        53\n",
      "\n",
      "                       accuracy                           0.20       530\n",
      "                      macro avg       0.37      0.20      0.19       530\n",
      "                   weighted avg       0.37      0.20      0.19       530\n",
      "\n"
     ]
    },
    {
     "name": "stderr",
     "output_type": "stream",
     "text": [
      "/Users/nathanpollet/Desktop/mistralAI/mistral_final/lib/python3.9/site-packages/sklearn/metrics/_classification.py:1565: UndefinedMetricWarning: Precision is ill-defined and being set to 0.0 in labels with no predicted samples. Use `zero_division` parameter to control this behavior.\n",
      "  _warn_prf(average, modifier, f\"{metric.capitalize()} is\", len(result))\n",
      "/Users/nathanpollet/Desktop/mistralAI/mistral_final/lib/python3.9/site-packages/sklearn/metrics/_classification.py:1565: UndefinedMetricWarning: Precision is ill-defined and being set to 0.0 in labels with no predicted samples. Use `zero_division` parameter to control this behavior.\n",
      "  _warn_prf(average, modifier, f\"{metric.capitalize()} is\", len(result))\n",
      "/Users/nathanpollet/Desktop/mistralAI/mistral_final/lib/python3.9/site-packages/sklearn/metrics/_classification.py:1565: UndefinedMetricWarning: Precision is ill-defined and being set to 0.0 in labels with no predicted samples. Use `zero_division` parameter to control this behavior.\n",
      "  _warn_prf(average, modifier, f\"{metric.capitalize()} is\", len(result))\n"
     ]
    }
   ],
   "source": [
    "print(\n",
    "    classification_report(\n",
    "        balanced_eval_df[\"queue\"],\n",
    "        balanced_eval_df[\"ministral3b-zeroShot-preds-normalized\"],\n",
    "        labels=queue_list,\n",
    "    )\n",
    ")"
   ]
  },
  {
   "cell_type": "markdown",
   "id": "7a8824c0",
   "metadata": {},
   "source": [
    "With mistral medium model"
   ]
  },
  {
   "cell_type": "code",
   "execution_count": 37,
   "id": "8677a359",
   "metadata": {},
   "outputs": [
    {
     "name": "stderr",
     "output_type": "stream",
     "text": [
      "LLM calls: 100%|██████████| 530/530 [03:18<00:00,  2.67it/s]\n"
     ]
    }
   ],
   "source": [
    "balanced_eval_df[\"mistralmedium-zeroShot-preds\"] = [LLM_call(p, model=\"mistral-medium-2505\") for p in tqdm(prompts, desc=\"LLM calls\")]\n",
    "balanced_eval_df[\"mistralmedium-zeroShot-preds-normalized\"] = balanced_eval_df[\"mistralmedium-zeroShot-preds\"].apply(lambda x: normalize_prediction(x, queue_list))\n",
    "\n",
    "assert \"UNKNOWN\" not in balanced_eval_df[\"mistralmedium-zeroShot-preds-normalized\"], \"There are 'UNKNOWN' predictions, LLM output format error.\""
   ]
  },
  {
   "cell_type": "code",
   "execution_count": 40,
   "id": "9bd8fcc5",
   "metadata": {},
   "outputs": [
    {
     "name": "stdout",
     "output_type": "stream",
     "text": [
      "accuracy = 0.2641509433962264\n",
      "Macro F1: 0.2631\n",
      "Weighted F1: 0.2631\n"
     ]
    }
   ],
   "source": [
    "print(f\"accuracy = {accuracy_score(balanced_eval_df['queue'], balanced_eval_df['mistralmedium-zeroShot-preds-normalized'])}\")\n",
    "macro_f1 = f1_score(balanced_eval_df[\"queue\"], balanced_eval_df[\"mistralmedium-zeroShot-preds-normalized\"], average=\"macro\")\n",
    "weighted_f1 = f1_score(balanced_eval_df[\"queue\"], balanced_eval_df[\"mistralmedium-zeroShot-preds-normalized\"], average=\"weighted\")\n",
    "print(f\"Macro F1: {macro_f1:.4f}\")\n",
    "print(f\"Weighted F1: {weighted_f1:.4f}\") "
   ]
  },
  {
   "cell_type": "code",
   "execution_count": 43,
   "id": "b33f5902",
   "metadata": {},
   "outputs": [
    {
     "name": "stdout",
     "output_type": "stream",
     "text": [
      "                                 precision    recall  f1-score   support\n",
      "\n",
      "           Billing and Payments       1.00      0.47      0.64        53\n",
      "               Customer Service       0.20      0.02      0.03        53\n",
      "                General Inquiry       0.23      0.15      0.18        53\n",
      "                Human Resources       1.00      0.21      0.34        53\n",
      "                     IT Support       0.16      0.26      0.20        53\n",
      "                Product Support       0.09      0.15      0.11        53\n",
      "          Returns and Exchanges       0.00      0.00      0.00        53\n",
      "            Sales and Pre-Sales       0.30      0.38      0.33        53\n",
      "Service Outages and Maintenance       0.61      0.47      0.53        53\n",
      "              Technical Support       0.17      0.53      0.26        53\n",
      "\n",
      "                       accuracy                           0.26       530\n",
      "                      macro avg       0.38      0.26      0.26       530\n",
      "                   weighted avg       0.38      0.26      0.26       530\n",
      "\n"
     ]
    },
    {
     "name": "stderr",
     "output_type": "stream",
     "text": [
      "/Users/nathanpollet/Desktop/mistralAI/mistral_final/lib/python3.9/site-packages/sklearn/metrics/_classification.py:1565: UndefinedMetricWarning: Precision is ill-defined and being set to 0.0 in labels with no predicted samples. Use `zero_division` parameter to control this behavior.\n",
      "  _warn_prf(average, modifier, f\"{metric.capitalize()} is\", len(result))\n",
      "/Users/nathanpollet/Desktop/mistralAI/mistral_final/lib/python3.9/site-packages/sklearn/metrics/_classification.py:1565: UndefinedMetricWarning: Precision is ill-defined and being set to 0.0 in labels with no predicted samples. Use `zero_division` parameter to control this behavior.\n",
      "  _warn_prf(average, modifier, f\"{metric.capitalize()} is\", len(result))\n",
      "/Users/nathanpollet/Desktop/mistralAI/mistral_final/lib/python3.9/site-packages/sklearn/metrics/_classification.py:1565: UndefinedMetricWarning: Precision is ill-defined and being set to 0.0 in labels with no predicted samples. Use `zero_division` parameter to control this behavior.\n",
      "  _warn_prf(average, modifier, f\"{metric.capitalize()} is\", len(result))\n"
     ]
    }
   ],
   "source": [
    "print(\n",
    "    classification_report(\n",
    "        balanced_eval_df[\"queue\"],\n",
    "        balanced_eval_df[\"mistralmedium-zeroShot-preds-normalized\"],\n",
    "        labels=queue_list,\n",
    "    )\n",
    ")"
   ]
  },
  {
   "cell_type": "code",
   "execution_count": null,
   "id": "0fc2c44e",
   "metadata": {},
   "outputs": [],
   "source": [
    "balanced_eval_df.to_csv(\"./data/balanced_eval_df.csv\")"
   ]
  },
  {
   "cell_type": "markdown",
   "id": "42f78e26",
   "metadata": {},
   "source": [
    "##### Evaluation on Unbalanced Test set"
   ]
  },
  {
   "cell_type": "code",
   "execution_count": 181,
   "id": "5aa48237",
   "metadata": {},
   "outputs": [],
   "source": [
    "prompts = test_df[\"text\"].apply(lambda t: build_prompt(t, queue_list))"
   ]
  },
  {
   "cell_type": "code",
   "execution_count": 182,
   "id": "0b1a8e7f",
   "metadata": {},
   "outputs": [
    {
     "name": "stderr",
     "output_type": "stream",
     "text": [
      "LLM calls: 100%|██████████| 4000/4000 [16:53<00:00,  3.95it/s]  \n"
     ]
    }
   ],
   "source": [
    "test_df[\"ministral-zeroShot-preds\"] = [LLM_call(p) for p in tqdm(prompts, desc=\"LLM calls\")] \n",
    "test_df[\"ministral-zeroShot-preds-normalized\"] = test_df[\"ministral-zeroShot-preds\"].apply(lambda x: normalize_prediction(x, queue_list)) \n",
    "assert \"UNKNOWN\" not in test_df[\"ministral-zeroShot-preds-normalized\"], \"There are 'UNKNOWN' predictions, LLM output format error.\""
   ]
  },
  {
   "cell_type": "code",
   "execution_count": 183,
   "id": "0bc36865",
   "metadata": {},
   "outputs": [
    {
     "name": "stdout",
     "output_type": "stream",
     "text": [
      "accuracy = 0.1785\n",
      "Macro F1: 0.1638\n",
      "Weighted F1: 0.1331\n"
     ]
    }
   ],
   "source": [
    "print(f\"accuracy = {accuracy_score(test_df['queue'], test_df['ministral-zeroShot-preds-normalized'])}\")\n",
    "macro_f1 = f1_score(test_df[\"queue\"], test_df[\"ministral-zeroShot-preds-normalized\"], average=\"macro\")\n",
    "weighted_f1 = f1_score(test_df[\"queue\"], test_df[\"ministral-zeroShot-preds-normalized\"], average=\"weighted\")\n",
    "print(f\"Macro F1: {macro_f1:.4f}\")\n",
    "print(f\"Weighted F1: {weighted_f1:.4f}\") "
   ]
  },
  {
   "cell_type": "code",
   "execution_count": 184,
   "id": "35f31b00",
   "metadata": {},
   "outputs": [
    {
     "name": "stdout",
     "output_type": "stream",
     "text": [
      "                                 precision    recall  f1-score   support\n",
      "\n",
      "           Billing and Payments       0.99      0.41      0.58       417\n",
      "               Customer Service       0.19      0.00      0.01       630\n",
      "                General Inquiry       0.02      0.06      0.03        53\n",
      "                Human Resources       0.92      0.18      0.30        68\n",
      "                     IT Support       0.14      0.93      0.24       458\n",
      "                Product Support       0.18      0.04      0.06       742\n",
      "          Returns and Exchanges       1.00      0.01      0.03       200\n",
      "            Sales and Pre-Sales       0.08      0.12      0.10       114\n",
      "Service Outages and Maintenance       0.74      0.15      0.25       153\n",
      "              Technical Support       0.20      0.03      0.05      1165\n",
      "\n",
      "                       accuracy                           0.18      4000\n",
      "                      macro avg       0.45      0.19      0.16      4000\n",
      "                   weighted avg       0.34      0.18      0.13      4000\n",
      "\n"
     ]
    }
   ],
   "source": [
    "print(\n",
    "    classification_report(\n",
    "        test_df[\"queue\"],\n",
    "        test_df[\"ministral-zeroShot-preds-normalized\"],\n",
    "        labels=queue_list,\n",
    "    )\n",
    ")"
   ]
  },
  {
   "cell_type": "markdown",
   "id": "9e6a4fbf",
   "metadata": {},
   "source": [
    "With mistral medium model"
   ]
  },
  {
   "cell_type": "code",
   "execution_count": 186,
   "id": "becf69a9",
   "metadata": {},
   "outputs": [
    {
     "name": "stderr",
     "output_type": "stream",
     "text": [
      "LLM calls: 100%|██████████| 4000/4000 [29:52<00:00,  2.23it/s]  \n"
     ]
    }
   ],
   "source": [
    "test_df[\"mistral-medium-zeroShot-preds\"] = [LLM_call(p, model=\"mistral-medium-2505\") for p in tqdm(prompts, desc=\"LLM calls\")] \n",
    "test_df[\"mistral-medium-zeroShot-preds-normalized\"] = test_df[\"mistral-medium-zeroShot-preds\"].apply(lambda x: normalize_prediction(x, queue_list)) \n",
    "assert \"UNKNOWN\" not in test_df[\"mistral-medium-zeroShot-preds-normalized\"], \"There are 'UNKNOWN' predictions, LLM output format error.\""
   ]
  },
  {
   "cell_type": "code",
   "execution_count": 189,
   "id": "9e7c697b",
   "metadata": {},
   "outputs": [
    {
     "name": "stdout",
     "output_type": "stream",
     "text": [
      "accuracy = 0.29725\n",
      "Macro F1: 0.2354\n",
      "Weighted F1: 0.2829\n"
     ]
    }
   ],
   "source": [
    "print(f\"accuracy = {accuracy_score(test_df['queue'], test_df['mistral-medium-zeroShot-preds-normalized'])}\")\n",
    "macro_f1 = f1_score(test_df[\"queue\"], test_df[\"mistral-medium-zeroShot-preds-normalized\"], average=\"macro\")\n",
    "weighted_f1 = f1_score(test_df[\"queue\"], test_df[\"mistral-medium-zeroShot-preds-normalized\"], average=\"weighted\")\n",
    "print(f\"Macro F1: {macro_f1:.4f}\")\n",
    "print(f\"Weighted F1: {weighted_f1:.4f}\") "
   ]
  },
  {
   "cell_type": "code",
   "execution_count": 190,
   "id": "4fc6b476",
   "metadata": {},
   "outputs": [
    {
     "name": "stdout",
     "output_type": "stream",
     "text": [
      "                                 precision    recall  f1-score   support\n",
      "\n",
      "           Billing and Payments       0.99      0.44      0.61       417\n",
      "               Customer Service       0.22      0.01      0.01       630\n",
      "                General Inquiry       0.04      0.17      0.07        53\n",
      "                Human Resources       1.00      0.19      0.32        68\n",
      "                     IT Support       0.15      0.23      0.18       458\n",
      "                Product Support       0.24      0.20      0.22       742\n",
      "          Returns and Exchanges       1.00      0.01      0.03       200\n",
      "            Sales and Pre-Sales       0.07      0.25      0.11       114\n",
      "Service Outages and Maintenance       0.28      0.48      0.35       153\n",
      "              Technical Support       0.40      0.53      0.46      1165\n",
      "\n",
      "                       accuracy                           0.30      4000\n",
      "                      macro avg       0.44      0.25      0.24      4000\n",
      "                   weighted avg       0.39      0.30      0.28      4000\n",
      "\n"
     ]
    }
   ],
   "source": [
    "print(\n",
    "    classification_report(\n",
    "        test_df[\"queue\"],\n",
    "        test_df[\"mistral-medium-zeroShot-preds-normalized\"],\n",
    "        labels=queue_list,\n",
    "    )\n",
    ")"
   ]
  },
  {
   "cell_type": "markdown",
   "id": "fcceadbb",
   "metadata": {},
   "source": [
    "### Improved Prompt & Few Shot"
   ]
  },
  {
   "cell_type": "code",
   "execution_count": 191,
   "id": "37fc4f8b",
   "metadata": {},
   "outputs": [],
   "source": [
    "def build_prompt_fewShot(ticket_text, queue_list, fewshot_text):\n",
    "    return f\"\"\"You are a support triage assistant. Classify the following IT ticket into one of the queues listed.\n",
    "\n",
    "-----\n",
    "Ticket information:\n",
    "{ticket_text}\n",
    "-----\n",
    "\n",
    "Possible queues: {\", \".join(queue_list)}\n",
    "\n",
    "Queue Details:\n",
    "Technical Support: Technical issues and support requests.\n",
    "Customer Service: Customer inquiries and service requests.\n",
    "Billing and Payments: Billing issues and payment processing.\n",
    "Product Support: Support for product-related issues.\n",
    "IT Support: Internal IT support and infrastructure issues.\n",
    "Returns and Exchanges: Product returns and exchanges.\n",
    "Sales and Pre-Sales: Sales inquiries and pre-sales questions.\n",
    "Human Resources: Employee inquiries and HR-related issues.\n",
    "Service Outages and Maintenance: Service interruptions and maintenance.\n",
    "General Inquiry: General inquiries and information requests.\n",
    "\n",
    "-----\n",
    "Here are some examples:\n",
    "{fewshot_text}\n",
    "-----\n",
    "\n",
    "What is the most appropriate queue for this ticket? Just output the name of the queue.\"\"\""
   ]
  },
  {
   "cell_type": "code",
   "execution_count": 192,
   "id": "9cdc5891",
   "metadata": {},
   "outputs": [
    {
     "name": "stdout",
     "output_type": "stream",
     "text": [
      "Example:\n",
      "Subject: Concerns About Service Outages\n",
      "Body: There were sporadic service outages impacting several applications, which might be related to recent updates or server overload. We have restarted the affected services and are keeping an eye on the server load.\n",
      "Queue: Service Outages and Maintenance\n",
      "\n",
      "Example:\n",
      "Subject: Unterstützung für Datensicherheitslösungen erforderlich\n",
      "Body: Bitte geben Sie Details zu Datensicherheitslösungen an.\n",
      "Queue: Customer Service\n",
      "\n",
      "Example:\n",
      "Subject: Request for Guidance on Jenkins Integration\n",
      "Body: I am contacting you to seek guidance on integrating Jenkins with your project management SaaS solution. Could you share any pertinent information regarding this integration? I would greatly value any available documentation or instructional materials. Specifically, I am keen to understand the advantages and potential obstacles associated with using Jenkins in conjunction with your platform. I am looking forward to your response and to exploring ways to optimize our development process together.\n",
      "Queue: Product Support\n"
     ]
    },
    {
     "name": "stderr",
     "output_type": "stream",
     "text": [
      "/var/folders/nd/krrp0gv1723f5lj3w_6bpt8c0000gn/T/ipykernel_1240/1664327731.py:2: FutureWarning: DataFrameGroupBy.apply operated on the grouping columns. This behavior is deprecated, and in a future version of pandas the grouping columns will be excluded from the operation. Either pass `include_groups=False` to exclude the groupings or explicitly select the grouping columns after groupby to silence this warning.\n",
      "  train_df.groupby(\"queue\", group_keys=False)\n"
     ]
    }
   ],
   "source": [
    "fewshot_df = (\n",
    "    train_df.groupby(\"queue\", group_keys=False)\n",
    "    .apply(lambda x: x.sample(1, random_state=42))\n",
    "    .sample(3, random_state=42)  # ensure we only pick 3 in total\n",
    "    .reset_index(drop=True)\n",
    ")\n",
    "\n",
    "def format_fewshot_examples(fewshot_df):\n",
    "    examples = []\n",
    "    for _, row in fewshot_df.iterrows():\n",
    "        example = f\"\"\"Example:\n",
    "Subject: {row['subject']}\n",
    "Body: {row['body']}\n",
    "Queue: {row['queue']}\"\"\"\n",
    "        examples.append(example)\n",
    "    return \"\\n\\n\".join(examples)\n",
    "\n",
    "fewshot_text = format_fewshot_examples(fewshot_df)\n",
    "print(fewshot_text)"
   ]
  },
  {
   "cell_type": "markdown",
   "id": "68db1f05",
   "metadata": {},
   "source": [
    "##### Evaluation on Balanced Subset"
   ]
  },
  {
   "cell_type": "markdown",
   "id": "18d55f28",
   "metadata": {},
   "source": [
    "ministral-3b"
   ]
  },
  {
   "cell_type": "code",
   "execution_count": 217,
   "id": "a0b661bc",
   "metadata": {},
   "outputs": [],
   "source": [
    "prompts = balanced_eval_df[\"text\"].apply(lambda t: build_prompt_fewShot(t, queue_list, fewshot_text))"
   ]
  },
  {
   "cell_type": "code",
   "execution_count": 77,
   "id": "3d987e7e",
   "metadata": {},
   "outputs": [
    {
     "name": "stderr",
     "output_type": "stream",
     "text": [
      "LLM calls: 100%|██████████| 530/530 [02:02<00:00,  4.33it/s]\n"
     ]
    }
   ],
   "source": [
    "balanced_eval_df[\"ministral3b-fewShot-preds\"] = [LLM_call(p) for p in tqdm(prompts, desc=\"LLM calls\")]\n",
    "balanced_eval_df[\"ministral3b-fewShot-preds-normalized\"] = balanced_eval_df[\"ministral3b-fewShot-preds\"].apply(lambda x: normalize_prediction(x, queue_list))\n",
    "assert \"UNKNOWN\" not in balanced_eval_df[\"ministral3b-fewShot-preds-normalized\"], \"There are 'UNKNOWN' predictions, LLM output format error.\""
   ]
  },
  {
   "cell_type": "code",
   "execution_count": 80,
   "id": "466d4cf7",
   "metadata": {},
   "outputs": [
    {
     "name": "stdout",
     "output_type": "stream",
     "text": [
      "accuracy = 0.2188679245283019\n",
      "Macro F1: 0.2243\n",
      "Weighted F1: 0.2243\n"
     ]
    }
   ],
   "source": [
    "print(f\"accuracy = {accuracy_score(balanced_eval_df['queue'], balanced_eval_df['ministral3b-fewShot-preds-normalized'])}\")\n",
    "macro_f1 = f1_score(balanced_eval_df[\"queue\"], balanced_eval_df[\"ministral3b-fewShot-preds-normalized\"], average=\"macro\")\n",
    "weighted_f1 = f1_score(balanced_eval_df[\"queue\"], balanced_eval_df[\"ministral3b-fewShot-preds-normalized\"], average=\"weighted\")\n",
    "print(f\"Macro F1: {macro_f1:.4f}\")\n",
    "print(f\"Weighted F1: {weighted_f1:.4f}\")"
   ]
  },
  {
   "cell_type": "markdown",
   "id": "f100e0a5",
   "metadata": {},
   "source": [
    "Mistral Small 3.2"
   ]
  },
  {
   "cell_type": "code",
   "execution_count": 94,
   "id": "2f6c06e9",
   "metadata": {},
   "outputs": [
    {
     "name": "stderr",
     "output_type": "stream",
     "text": [
      "LLM calls: 100%|██████████| 530/530 [05:19<00:00,  1.66it/s]\n"
     ]
    }
   ],
   "source": [
    "balanced_eval_df[\"mistral-medium-fewShot-preds\"] = [\n",
    "    LLM_call(p, model=\"mistral-medium-2505\") for p in tqdm(prompts, desc=\"LLM calls\")\n",
    "]\n",
    "balanced_eval_df[\"mistral-medium-fewShot-preds-normalized\"] = balanced_eval_df[\"mistral-medium-fewShot-preds\"].apply(lambda x: normalize_prediction(x, queue_list))\n",
    "assert \"UNKNOWN\" not in balanced_eval_df[\"mistral-medium-fewShot-preds-normalized\"], \"There are 'UNKNOWN' predictions, LLM output format error.\""
   ]
  },
  {
   "cell_type": "code",
   "execution_count": 95,
   "id": "5fe76a8e",
   "metadata": {},
   "outputs": [
    {
     "name": "stdout",
     "output_type": "stream",
     "text": [
      "accuracy = 0.2622641509433962\n",
      "Macro F1: 0.2640\n",
      "Weighted F1: 0.2640\n"
     ]
    }
   ],
   "source": [
    "print(f\"accuracy = {accuracy_score(balanced_eval_df['queue'], balanced_eval_df['mistral-medium-fewShot-preds-normalized'])}\")\n",
    "macro_f1 = f1_score(balanced_eval_df[\"queue\"], balanced_eval_df[\"mistral-medium-fewShot-preds-normalized\"], average=\"macro\")\n",
    "weighted_f1 = f1_score(balanced_eval_df[\"queue\"], balanced_eval_df[\"mistral-medium-fewShot-preds-normalized\"], average=\"weighted\")\n",
    "print(f\"Macro F1: {macro_f1:.4f}\")\n",
    "print(f\"Weighted F1: {weighted_f1:.4f}\")"
   ]
  },
  {
   "cell_type": "markdown",
   "id": "a2d06788",
   "metadata": {},
   "source": [
    "##### Evaluation on Unbalanced Test set"
   ]
  },
  {
   "cell_type": "markdown",
   "id": "155414e2",
   "metadata": {},
   "source": [
    "ministral-3b"
   ]
  },
  {
   "cell_type": "code",
   "execution_count": 200,
   "id": "841acf10",
   "metadata": {},
   "outputs": [],
   "source": [
    "prompts = test_df[\"text\"].apply(lambda t: build_prompt_fewShot(t, queue_list, fewshot_text))"
   ]
  },
  {
   "cell_type": "code",
   "execution_count": 207,
   "id": "138a35f8",
   "metadata": {},
   "outputs": [
    {
     "name": "stderr",
     "output_type": "stream",
     "text": [
      "LLM calls:   0%|          | 0/4000 [00:00<?, ?it/s]"
     ]
    },
    {
     "name": "stderr",
     "output_type": "stream",
     "text": [
      "LLM calls: 100%|██████████| 4000/4000 [16:27<00:00,  4.05it/s]  \n"
     ]
    }
   ],
   "source": [
    "test_df[\"ministral3b-fewShot-preds\"] = [LLM_call(p) for p in tqdm(prompts, desc=\"LLM calls\")]\n",
    "test_df[\"ministral3b-fewShot-preds-normalized\"] = test_df[\"ministral3b-fewShot-preds\"].apply(lambda x: normalize_prediction(x, queue_list))\n",
    "assert \"UNKNOWN\" not in test_df[\"ministral3b-fewShot-preds-normalized\"], \"There are 'UNKNOWN' predictions, LLM output format error.\""
   ]
  },
  {
   "cell_type": "code",
   "execution_count": 209,
   "id": "f276baa7",
   "metadata": {},
   "outputs": [
    {
     "name": "stdout",
     "output_type": "stream",
     "text": [
      "accuracy = 0.21125\n",
      "Macro F1: 0.1973\n",
      "Weighted F1: 0.1998\n"
     ]
    }
   ],
   "source": [
    "print(f\"accuracy = {accuracy_score(test_df['queue'], test_df['ministral3b-fewShot-preds-normalized'])}\")\n",
    "macro_f1 = f1_score(test_df[\"queue\"], test_df[\"ministral3b-fewShot-preds-normalized\"], average=\"macro\")\n",
    "weighted_f1 = f1_score(test_df[\"queue\"], test_df[\"ministral3b-fewShot-preds-normalized\"], average=\"weighted\")\n",
    "print(f\"Macro F1: {macro_f1:.4f}\")\n",
    "print(f\"Weighted F1: {weighted_f1:.4f}\")"
   ]
  },
  {
   "cell_type": "markdown",
   "id": "ef395825",
   "metadata": {},
   "source": [
    "Mistral Small 3.2"
   ]
  },
  {
   "cell_type": "code",
   "execution_count": 210,
   "id": "02a70a27",
   "metadata": {},
   "outputs": [
    {
     "name": "stderr",
     "output_type": "stream",
     "text": [
      "LLM calls: 100%|██████████| 4000/4000 [31:06<00:00,  2.14it/s]  \n"
     ]
    }
   ],
   "source": [
    "test_df[\"mistral-medium-fewShot-preds\"] = [\n",
    "    LLM_call(p, model=\"mistral-medium-2505\") for p in tqdm(prompts, desc=\"LLM calls\")\n",
    "]\n",
    "test_df[\"mistral-medium-fewShot-preds-normalized\"] = test_df[\"mistral-medium-fewShot-preds\"].apply(lambda x: normalize_prediction(x, queue_list))\n",
    "assert \"UNKNOWN\" not in test_df[\"mistral-medium-fewShot-preds-normalized\"], \"There are 'UNKNOWN' predictions, LLM output format error.\""
   ]
  },
  {
   "cell_type": "code",
   "execution_count": 212,
   "id": "189fba37",
   "metadata": {},
   "outputs": [
    {
     "name": "stdout",
     "output_type": "stream",
     "text": [
      "accuracy = 0.301\n",
      "Macro F1: 0.2482\n",
      "Weighted F1: 0.2913\n"
     ]
    }
   ],
   "source": [
    "print(f\"accuracy = {accuracy_score(test_df['queue'], test_df['mistral-medium-fewShot-preds-normalized'])}\")\n",
    "macro_f1 = f1_score(test_df[\"queue\"], test_df[\"mistral-medium-fewShot-preds-normalized\"], average=\"macro\")\n",
    "weighted_f1 = f1_score(test_df[\"queue\"], test_df[\"mistral-medium-fewShot-preds-normalized\"], average=\"weighted\")\n",
    "print(f\"Macro F1: {macro_f1:.4f}\")\n",
    "print(f\"Weighted F1: {weighted_f1:.4f}\")"
   ]
  },
  {
   "cell_type": "markdown",
   "id": "8f26ad68",
   "metadata": {},
   "source": [
    "### LLM Finetuning "
   ]
  },
  {
   "cell_type": "markdown",
   "id": "3761c66a",
   "metadata": {},
   "source": [
    "#### Data Preparation"
   ]
  },
  {
   "cell_type": "markdown",
   "id": "6c8fe87f",
   "metadata": {},
   "source": [
    "#### `Ministral-3B` Completion Finetuning"
   ]
  },
  {
   "cell_type": "code",
   "execution_count": null,
   "id": "917d296b",
   "metadata": {},
   "outputs": [],
   "source": [
    "def clean_str(text):\n",
    "    if not isinstance(text, str):\n",
    "        return \"\"\n",
    "    return text.replace(\"\\n\", \" \").strip()\n",
    "\n",
    "preprompt = f\"You are a support triage assistant. Classify the following IT ticket into one of the queues listed.\\n\\n\"\n",
    "\n",
    "def to_completion_format(row):\n",
    "    user_prompt = f\"{preprompt}-----\\nTicket information:\\nSubject: {clean_str(row['subject'])}\\nBody: {clean_str(row['body'])}\\n-----\\n\\nPossible queues: {', '.join(sorted(train_df['queue'].dropna().unique()))}\\n\\nWhat is the most appropriate queue for this ticket? Just output the name of the queue.\"\n",
    "    return {\n",
    "        \"messages\": [\n",
    "            {\"role\": \"user\", \"content\": user_prompt},\n",
    "            {\"role\": \"assistant\", \"content\": row['queue']}\n",
    "        ]\n",
    "    }\n",
    "\n",
    "completion_data = [to_completion_format(row) for _, row in train_df.iterrows()] \n",
    "with open(\"./finetuning-data/mistral_completion_finetune_train_10072025.jsonl\", \"w\", encoding=\"utf-8\") as f:\n",
    "    for item in completion_data:\n",
    "        f.write(json.dumps(item, ensure_ascii=False) + \"\\n\")"
   ]
  },
  {
   "cell_type": "code",
   "execution_count": null,
   "id": "4781901c",
   "metadata": {},
   "outputs": [],
   "source": [
    "completion_data = [to_completion_format(row) for _, row in test_df.iterrows()]\n",
    "with open(\"/finetuning-data/mistral_completion_finetune_test_10072025.jsonl\", \"w\", encoding=\"utf-8\") as f:\n",
    "    for item in completion_data:\n",
    "        f.write(json.dumps(item, ensure_ascii=False) + \"\\n\") "
   ]
  },
  {
   "cell_type": "markdown",
   "id": "d3fe2e47",
   "metadata": {},
   "source": [
    "Using this data and the Mistral Finetuning API (via Web) to finetune a ministral-3B model for completion.\n",
    "- 5 epochs\n",
    "- learning rate: 1e-5\n",
    "- 14,921,125 training tokens"
   ]
  },
  {
   "cell_type": "markdown",
   "id": "f6794410",
   "metadata": {},
   "source": [
    "#### Testing finetuned ministral-3B"
   ]
  },
  {
   "cell_type": "markdown",
   "id": "b9a6dc51",
   "metadata": {},
   "source": [
    "On balanced eval set"
   ]
  },
  {
   "cell_type": "code",
   "execution_count": 134,
   "id": "5c38ea3a",
   "metadata": {},
   "outputs": [],
   "source": [
    "prompts = balanced_eval_df[\"text\"].apply(lambda t: build_prompt(t, queue_list))"
   ]
  },
  {
   "cell_type": "code",
   "execution_count": 135,
   "id": "2adde3ef",
   "metadata": {},
   "outputs": [
    {
     "name": "stderr",
     "output_type": "stream",
     "text": [
      "LLM calls: 100%|██████████| 530/530 [03:02<00:00,  2.90it/s]\n"
     ]
    }
   ],
   "source": [
    "balanced_eval_df[\"ministral-finetuned-zeroShot-preds\"] = [\n",
    "    LLM_call(p, model=\"ft:ministral-3b-latest:9bdff429:20250709:8369d014\")\n",
    "    for p in tqdm(prompts, desc=\"LLM calls\")\n",
    "]\n",
    "balanced_eval_df[\"ministral-finetuned-zeroShot-preds-normalized\"] = balanced_eval_df[\"ministral-finetuned-zeroShot-preds\"].apply(lambda x: normalize_prediction(x, queue_list))\n",
    "assert (\"UNKNOWN\" not in balanced_eval_df[\"ministral-finetuned-zeroShot-preds-normalized\"]), \"There are 'UNKNOWN' predictions, LLM output format error.\""
   ]
  },
  {
   "cell_type": "code",
   "execution_count": 138,
   "id": "1cabafb0",
   "metadata": {},
   "outputs": [
    {
     "name": "stdout",
     "output_type": "stream",
     "text": [
      "accuracy = 0.25471698113207547\n",
      "Macro F1: 0.2453\n",
      "Weighted F1: 0.2453\n"
     ]
    }
   ],
   "source": [
    "print(f\"accuracy = {accuracy_score(balanced_eval_df['queue'], balanced_eval_df['ministral-finetuned-zeroShot-preds-normalized'])}\")\n",
    "macro_f1 = f1_score(balanced_eval_df[\"queue\"], balanced_eval_df[\"ministral-finetuned-zeroShot-preds-normalized\"], average=\"macro\")\n",
    "weighted_f1 = f1_score(balanced_eval_df[\"queue\"], balanced_eval_df[\"ministral-finetuned-zeroShot-preds-normalized\"], average=\"weighted\")\n",
    "print(f\"Macro F1: {macro_f1:.4f}\")\n",
    "print(f\"Weighted F1: {weighted_f1:.4f}\")"
   ]
  },
  {
   "cell_type": "markdown",
   "id": "35c0ad4a",
   "metadata": {},
   "source": [
    "On unbalanced test set"
   ]
  },
  {
   "cell_type": "code",
   "execution_count": 149,
   "id": "6c8dcb72",
   "metadata": {},
   "outputs": [],
   "source": [
    "prompts = test_df[\"text\"].apply(lambda t: build_prompt(t, queue_list))"
   ]
  },
  {
   "cell_type": "code",
   "execution_count": 150,
   "id": "25b41833",
   "metadata": {},
   "outputs": [
    {
     "name": "stderr",
     "output_type": "stream",
     "text": [
      "LLM calls: 100%|██████████| 4000/4000 [22:35<00:00,  2.95it/s]  \n"
     ]
    }
   ],
   "source": [
    "test_df[\"ministral-finetuned-zeroShot-preds\"] = [\n",
    "    LLM_call(p, model=\"ft:ministral-3b-latest:9bdff429:20250709:8369d014\")\n",
    "    for p in tqdm(prompts, desc=\"LLM calls\")\n",
    "]\n",
    "test_df[\"ministral-finetuned-zeroShot-preds-normalized\"] = test_df[\"ministral-finetuned-zeroShot-preds\"].apply(lambda x: normalize_prediction(x, queue_list))\n",
    "assert (\"UNKNOWN\" not in test_df[\"ministral-finetuned-zeroShot-preds-normalized\"]), \"There are 'UNKNOWN' predictions, LLM output format error.\""
   ]
  },
  {
   "cell_type": "code",
   "execution_count": 151,
   "id": "447a1e39",
   "metadata": {},
   "outputs": [
    {
     "name": "stdout",
     "output_type": "stream",
     "text": [
      "accuracy = 0.38325\n",
      "Macro F1: 0.2687\n",
      "Weighted F1: 0.3352\n"
     ]
    }
   ],
   "source": [
    "print(f\"accuracy = {accuracy_score(test_df['queue'], test_df['ministral-finetuned-zeroShot-preds-normalized'])}\")\n",
    "macro_f1 = f1_score(test_df[\"queue\"], test_df[\"ministral-finetuned-zeroShot-preds-normalized\"], average=\"macro\")\n",
    "weighted_f1 = f1_score(test_df[\"queue\"], test_df[\"ministral-finetuned-zeroShot-preds-normalized\"], average=\"weighted\")\n",
    "print(f\"Macro F1: {macro_f1:.4f}\")\n",
    "print(f\"Weighted F1: {weighted_f1:.4f}\")"
   ]
  },
  {
   "cell_type": "markdown",
   "id": "45a9d58a",
   "metadata": {},
   "source": [
    "#### Testing finetuned mistral-medium"
   ]
  },
  {
   "cell_type": "markdown",
   "id": "e8958e8a",
   "metadata": {},
   "source": [
    "Using this data and the Mistral Finetuning API (via Web) to finetune a ministral-3B model for completion.\n",
    "- 4 epochs\n",
    "- learning rate: 1e-5\n",
    "- 11,936,900 tokens training tokens"
   ]
  },
  {
   "cell_type": "markdown",
   "id": "33998912",
   "metadata": {},
   "source": [
    "On balanced eval set"
   ]
  },
  {
   "cell_type": "code",
   "execution_count": 152,
   "id": "c7961762",
   "metadata": {},
   "outputs": [],
   "source": [
    "prompts = balanced_eval_df[\"text\"].apply(lambda t: build_prompt(t, queue_list))"
   ]
  },
  {
   "cell_type": "code",
   "execution_count": 153,
   "id": "62638f40",
   "metadata": {},
   "outputs": [
    {
     "name": "stderr",
     "output_type": "stream",
     "text": [
      "LLM calls: 100%|██████████| 530/530 [08:19<00:00,  1.06it/s]\n"
     ]
    }
   ],
   "source": [
    "balanced_eval_df[\"mistral-medium-finetuned-zeroShot-preds\"] = [\n",
    "    LLM_call(p, model=\"ft:mistral-medium-latest:9bdff429:20250709:9bdbabc3\")\n",
    "    for p in tqdm(prompts, desc=\"LLM calls\")\n",
    "]\n",
    "balanced_eval_df[\"mistral-medium-finetuned-zeroShot-preds-normalized\"] = balanced_eval_df[\"mistral-medium-finetuned-zeroShot-preds\"].apply(lambda x: normalize_prediction(x, queue_list))\n",
    "assert (\"UNKNOWN\" not in balanced_eval_df[\"mistral-medium-finetuned-zeroShot-preds-normalized\"]), \"There are 'UNKNOWN' predictions, LLM output format error.\""
   ]
  },
  {
   "cell_type": "code",
   "execution_count": 154,
   "id": "8f421063",
   "metadata": {},
   "outputs": [
    {
     "name": "stdout",
     "output_type": "stream",
     "text": [
      "accuracy = 0.27169811320754716\n",
      "Macro F1: 0.2550\n",
      "Weighted F1: 0.2550\n"
     ]
    }
   ],
   "source": [
    "print(f\"accuracy = {accuracy_score(balanced_eval_df['queue'], balanced_eval_df['mistral-medium-finetuned-zeroShot-preds-normalized'])}\")\n",
    "macro_f1 = f1_score(balanced_eval_df[\"queue\"], balanced_eval_df[\"mistral-medium-finetuned-zeroShot-preds-normalized\"], average=\"macro\")\n",
    "weighted_f1 = f1_score(balanced_eval_df[\"queue\"], balanced_eval_df[\"mistral-medium-finetuned-zeroShot-preds-normalized\"], average=\"weighted\")\n",
    "print(f\"Macro F1: {macro_f1:.4f}\")\n",
    "print(f\"Weighted F1: {weighted_f1:.4f}\")"
   ]
  },
  {
   "cell_type": "code",
   "execution_count": 155,
   "id": "d93a06be",
   "metadata": {},
   "outputs": [],
   "source": [
    "balanced_eval_df.to_csv(\"./data/balanced_eval_with_predictions2.csv\")"
   ]
  },
  {
   "cell_type": "markdown",
   "id": "d26ed1f7",
   "metadata": {},
   "source": [
    "On unbalanced test set"
   ]
  },
  {
   "cell_type": "code",
   "execution_count": 156,
   "id": "7f260cbc",
   "metadata": {},
   "outputs": [],
   "source": [
    "prompts = test_df[\"text\"].apply(lambda t: build_prompt(t, queue_list))"
   ]
  },
  {
   "cell_type": "code",
   "execution_count": 157,
   "id": "eb44eb9a",
   "metadata": {},
   "outputs": [
    {
     "name": "stderr",
     "output_type": "stream",
     "text": [
      "LLM calls: 100%|██████████| 4000/4000 [46:56<00:00,  1.42it/s]  \n"
     ]
    }
   ],
   "source": [
    "test_df[\"mistral-medium-finetuned-zeroShot-preds\"] = [\n",
    "    LLM_call(p, model=\"ft:mistral-medium-latest:9bdff429:20250709:9bdbabc3\")\n",
    "    for p in tqdm(prompts, desc=\"LLM calls\")\n",
    "]\n",
    "test_df[\"mistral-medium-finetuned-zeroShot-preds-normalized\"] = test_df[\"mistral-medium-finetuned-zeroShot-preds\"].apply(lambda x: normalize_prediction(x, queue_list))\n",
    "assert (\"UNKNOWN\" not in test_df[\"mistral-medium-finetuned-zeroShot-preds-normalized\"]), \"There are 'UNKNOWN' predictions, LLM output format error.\""
   ]
  },
  {
   "cell_type": "code",
   "execution_count": 160,
   "id": "90009314",
   "metadata": {},
   "outputs": [
    {
     "name": "stdout",
     "output_type": "stream",
     "text": [
      "accuracy = 0.38775\n",
      "Macro F1: 0.2657\n",
      "Weighted F1: 0.3359\n"
     ]
    }
   ],
   "source": [
    "print(f\"accuracy = {accuracy_score(test_df['queue'], test_df['mistral-medium-finetuned-zeroShot-preds-normalized'])}\")\n",
    "macro_f1 = f1_score(test_df[\"queue\"], test_df[\"mistral-medium-finetuned-zeroShot-preds-normalized\"], average=\"macro\")\n",
    "weighted_f1 = f1_score(test_df[\"queue\"], test_df[\"mistral-medium-finetuned-zeroShot-preds-normalized\"], average=\"weighted\")\n",
    "print(f\"Macro F1: {macro_f1:.4f}\")\n",
    "print(f\"Weighted F1: {weighted_f1:.4f}\")"
   ]
  },
  {
   "cell_type": "code",
   "execution_count": 159,
   "id": "eb4e3055",
   "metadata": {},
   "outputs": [
    {
     "name": "stdout",
     "output_type": "stream",
     "text": [
      "                                 precision    recall  f1-score   support\n",
      "\n",
      "           Billing and Payments       0.95      0.64      0.76       417\n",
      "               Customer Service       0.27      0.21      0.23       630\n",
      "                General Inquiry       0.00      0.00      0.00        53\n",
      "                Human Resources       0.94      0.22      0.36        68\n",
      "                     IT Support       0.37      0.02      0.04       458\n",
      "                Product Support       0.24      0.20      0.22       742\n",
      "          Returns and Exchanges       1.00      0.02      0.04       200\n",
      "            Sales and Pre-Sales       0.17      0.03      0.05       114\n",
      "Service Outages and Maintenance       0.60      0.36      0.45       153\n",
      "              Technical Support       0.37      0.79      0.51      1165\n",
      "\n",
      "                       accuracy                           0.39      4000\n",
      "                      macro avg       0.49      0.25      0.27      4000\n",
      "                   weighted avg       0.43      0.39      0.34      4000\n",
      "\n"
     ]
    },
    {
     "name": "stderr",
     "output_type": "stream",
     "text": [
      "/Users/nathanpollet/Desktop/mistralAI/mistral_final/lib/python3.9/site-packages/sklearn/metrics/_classification.py:1565: UndefinedMetricWarning: Precision is ill-defined and being set to 0.0 in labels with no predicted samples. Use `zero_division` parameter to control this behavior.\n",
      "  _warn_prf(average, modifier, f\"{metric.capitalize()} is\", len(result))\n",
      "/Users/nathanpollet/Desktop/mistralAI/mistral_final/lib/python3.9/site-packages/sklearn/metrics/_classification.py:1565: UndefinedMetricWarning: Precision is ill-defined and being set to 0.0 in labels with no predicted samples. Use `zero_division` parameter to control this behavior.\n",
      "  _warn_prf(average, modifier, f\"{metric.capitalize()} is\", len(result))\n",
      "/Users/nathanpollet/Desktop/mistralAI/mistral_final/lib/python3.9/site-packages/sklearn/metrics/_classification.py:1565: UndefinedMetricWarning: Precision is ill-defined and being set to 0.0 in labels with no predicted samples. Use `zero_division` parameter to control this behavior.\n",
      "  _warn_prf(average, modifier, f\"{metric.capitalize()} is\", len(result))\n"
     ]
    }
   ],
   "source": [
    "print(\n",
    "    classification_report(\n",
    "        test_df[\"queue\"],\n",
    "        test_df[\"mistral-medium-finetuned-zeroShot-preds-normalized\"],\n",
    "        labels=queue_list,\n",
    "    )\n",
    ")"
   ]
  },
  {
   "cell_type": "markdown",
   "id": "ddbe5758",
   "metadata": {},
   "source": [
    "## Improved LLM Finetuning with Stratified Undersampling"
   ]
  },
  {
   "cell_type": "code",
   "execution_count": 168,
   "id": "afaa869b",
   "metadata": {},
   "outputs": [
    {
     "name": "stdout",
     "output_type": "stream",
     "text": [
      "(16000, 18)\n",
      "(2100, 18)\n"
     ]
    }
   ],
   "source": [
    "print(train_df.shape)\n",
    "\n",
    "# Stratified undersampling for balanced finetuning set\n",
    "min_class_count = train_df[\"queue\"].value_counts().min()\n",
    "balanced_train_df = (\n",
    "    train_df.groupby(\"queue\")\n",
    "    .sample(n=min_class_count, random_state=42)\n",
    "    .reset_index(drop=True)\n",
    ")\n",
    "print(balanced_train_df.shape)"
   ]
  },
  {
   "cell_type": "code",
   "execution_count": null,
   "id": "dd12222e",
   "metadata": {},
   "outputs": [],
   "source": [
    "def clean_str(text):\n",
    "    if not isinstance(text, str):\n",
    "        return \"\"\n",
    "    return text.replace(\"\\n\", \" \").strip()\n",
    "\n",
    "preprompt = f\"You are a support triage assistant. Classify the following IT ticket into one of the queues listed.\\n\\n\"\n",
    "queue_details = \"\"\"Queue Details:\n",
    "Technical Support: Technical issues and support requests.\n",
    "Customer Service: Customer inquiries and service requests.\n",
    "Billing and Payments: Billing issues and payment processing.\n",
    "Product Support: Support for product-related issues.\n",
    "IT Support: Internal IT support and infrastructure issues.\n",
    "Returns and Exchanges: Product returns and exchanges.\n",
    "Sales and Pre-Sales: Sales inquiries and pre-sales questions.\n",
    "Human Resources: Employee inquiries and HR-related issues.\n",
    "Service Outages and Maintenance: Service interruptions and maintenance.\n",
    "General Inquiry: General inquiries and information requests.\"\"\"\n",
    "\n",
    "def to_completion_format(row):\n",
    "    user_prompt = f\"{preprompt}-----\\nTicket information:\\nSubject: {clean_str(row['subject'])}\\nBody: {clean_str(row['body'])}\\n-----\\n\\nPossible queues: {', '.join(sorted(train_df['queue'].dropna().unique()))}\\n\\n{queue_details}\\n\\nWhat is the most appropriate queue for this ticket? Just output the name of the queue.\"\n",
    "    return {\n",
    "        \"messages\": [\n",
    "            {\"role\": \"user\", \"content\": user_prompt},\n",
    "            {\"role\": \"assistant\", \"content\": row['queue']}\n",
    "        ]\n",
    "    }\n",
    "\n",
    "completion_data = [to_completion_format(row) for _, row in balanced_train_df.iterrows()] \n",
    "with open(\"/finetuning-data/mistral_completion_finetune_train_balanced.jsonl\", \"w\", encoding=\"utf-8\") as f:\n",
    "    for item in completion_data:\n",
    "        f.write(json.dumps(item, ensure_ascii=False) + \"\\n\")"
   ]
  },
  {
   "cell_type": "code",
   "execution_count": null,
   "id": "0fd4c20f",
   "metadata": {},
   "outputs": [
    {
     "name": "stdout",
     "output_type": "stream",
     "text": [
      "✅ Uploaded: ca302b87-7b6a-4c9e-b3b1-6096cb662e6d\n"
     ]
    }
   ],
   "source": [
    "with open(\"/finetuning-data/mistral_completion_finetune_train_balanced.jsonl\", \"rb\") as f:\n",
    "    upload_response = client.files.upload(\n",
    "        file={\n",
    "            \"file_name\": \"mistral_completion_finetune_train_balanced.jsonl\",\n",
    "            \"content\": f,\n",
    "        }\n",
    "    )\n",
    "\n",
    "print(f\"✅ Uploaded: {upload_response.id}\")"
   ]
  },
  {
   "cell_type": "markdown",
   "id": "67cb41a6",
   "metadata": {},
   "source": [
    "Could not perform finetuning job due to an issue with/in mistral's finetuning service."
   ]
  },
  {
   "cell_type": "markdown",
   "id": "f0bb6579",
   "metadata": {},
   "source": [
    "## Non-LLM Baseline Model1: TF-IDF + Label Encoding + Logistic Regression"
   ]
  },
  {
   "cell_type": "markdown",
   "id": "bfe06644",
   "metadata": {},
   "source": [
    "TF-IDF + Label Encoding"
   ]
  },
  {
   "cell_type": "code",
   "execution_count": null,
   "id": "b9a577cd",
   "metadata": {},
   "outputs": [],
   "source": [
    "from sklearn.preprocessing import LabelEncoder\n",
    "from sklearn.linear_model import LogisticRegression\n",
    "from sklearn.feature_extraction.text import TfidfVectorizer\n",
    "from sklearn.metrics import classification_report, confusion_matrix\n",
    "from sklearn.metrics import accuracy_score, f1_score, classification_report"
   ]
  },
  {
   "cell_type": "code",
   "execution_count": null,
   "id": "23ed74e3",
   "metadata": {},
   "outputs": [],
   "source": [
    "X_train = train_df[\"text\"]\n",
    "y_train = train_df[\"queue\"]\n",
    "X_test = test_df[\"text\"]\n",
    "y_test = test_df[\"queue\"]\n",
    "\n",
    "vectorizer = TfidfVectorizer(max_features=5000, ngram_range=(1, 2))\n",
    "X_train_tfidf = vectorizer.fit_transform(X_train)\n",
    "X_test_tfidf = vectorizer.transform(X_test)\n",
    "\n",
    "label_encoder = LabelEncoder()\n",
    "y_train_enc = label_encoder.fit_transform(y_train)\n",
    "y_test_enc = label_encoder.transform(y_test)"
   ]
  },
  {
   "cell_type": "code",
   "execution_count": null,
   "id": "04831ad6",
   "metadata": {},
   "outputs": [
    {
     "data": {
      "text/html": [
       "<style>#sk-container-id-1 {\n",
       "  /* Definition of color scheme common for light and dark mode */\n",
       "  --sklearn-color-text: #000;\n",
       "  --sklearn-color-text-muted: #666;\n",
       "  --sklearn-color-line: gray;\n",
       "  /* Definition of color scheme for unfitted estimators */\n",
       "  --sklearn-color-unfitted-level-0: #fff5e6;\n",
       "  --sklearn-color-unfitted-level-1: #f6e4d2;\n",
       "  --sklearn-color-unfitted-level-2: #ffe0b3;\n",
       "  --sklearn-color-unfitted-level-3: chocolate;\n",
       "  /* Definition of color scheme for fitted estimators */\n",
       "  --sklearn-color-fitted-level-0: #f0f8ff;\n",
       "  --sklearn-color-fitted-level-1: #d4ebff;\n",
       "  --sklearn-color-fitted-level-2: #b3dbfd;\n",
       "  --sklearn-color-fitted-level-3: cornflowerblue;\n",
       "\n",
       "  /* Specific color for light theme */\n",
       "  --sklearn-color-text-on-default-background: var(--sg-text-color, var(--theme-code-foreground, var(--jp-content-font-color1, black)));\n",
       "  --sklearn-color-background: var(--sg-background-color, var(--theme-background, var(--jp-layout-color0, white)));\n",
       "  --sklearn-color-border-box: var(--sg-text-color, var(--theme-code-foreground, var(--jp-content-font-color1, black)));\n",
       "  --sklearn-color-icon: #696969;\n",
       "\n",
       "  @media (prefers-color-scheme: dark) {\n",
       "    /* Redefinition of color scheme for dark theme */\n",
       "    --sklearn-color-text-on-default-background: var(--sg-text-color, var(--theme-code-foreground, var(--jp-content-font-color1, white)));\n",
       "    --sklearn-color-background: var(--sg-background-color, var(--theme-background, var(--jp-layout-color0, #111)));\n",
       "    --sklearn-color-border-box: var(--sg-text-color, var(--theme-code-foreground, var(--jp-content-font-color1, white)));\n",
       "    --sklearn-color-icon: #878787;\n",
       "  }\n",
       "}\n",
       "\n",
       "#sk-container-id-1 {\n",
       "  color: var(--sklearn-color-text);\n",
       "}\n",
       "\n",
       "#sk-container-id-1 pre {\n",
       "  padding: 0;\n",
       "}\n",
       "\n",
       "#sk-container-id-1 input.sk-hidden--visually {\n",
       "  border: 0;\n",
       "  clip: rect(1px 1px 1px 1px);\n",
       "  clip: rect(1px, 1px, 1px, 1px);\n",
       "  height: 1px;\n",
       "  margin: -1px;\n",
       "  overflow: hidden;\n",
       "  padding: 0;\n",
       "  position: absolute;\n",
       "  width: 1px;\n",
       "}\n",
       "\n",
       "#sk-container-id-1 div.sk-dashed-wrapped {\n",
       "  border: 1px dashed var(--sklearn-color-line);\n",
       "  margin: 0 0.4em 0.5em 0.4em;\n",
       "  box-sizing: border-box;\n",
       "  padding-bottom: 0.4em;\n",
       "  background-color: var(--sklearn-color-background);\n",
       "}\n",
       "\n",
       "#sk-container-id-1 div.sk-container {\n",
       "  /* jupyter's `normalize.less` sets `[hidden] { display: none; }`\n",
       "     but bootstrap.min.css set `[hidden] { display: none !important; }`\n",
       "     so we also need the `!important` here to be able to override the\n",
       "     default hidden behavior on the sphinx rendered scikit-learn.org.\n",
       "     See: https://github.com/scikit-learn/scikit-learn/issues/21755 */\n",
       "  display: inline-block !important;\n",
       "  position: relative;\n",
       "}\n",
       "\n",
       "#sk-container-id-1 div.sk-text-repr-fallback {\n",
       "  display: none;\n",
       "}\n",
       "\n",
       "div.sk-parallel-item,\n",
       "div.sk-serial,\n",
       "div.sk-item {\n",
       "  /* draw centered vertical line to link estimators */\n",
       "  background-image: linear-gradient(var(--sklearn-color-text-on-default-background), var(--sklearn-color-text-on-default-background));\n",
       "  background-size: 2px 100%;\n",
       "  background-repeat: no-repeat;\n",
       "  background-position: center center;\n",
       "}\n",
       "\n",
       "/* Parallel-specific style estimator block */\n",
       "\n",
       "#sk-container-id-1 div.sk-parallel-item::after {\n",
       "  content: \"\";\n",
       "  width: 100%;\n",
       "  border-bottom: 2px solid var(--sklearn-color-text-on-default-background);\n",
       "  flex-grow: 1;\n",
       "}\n",
       "\n",
       "#sk-container-id-1 div.sk-parallel {\n",
       "  display: flex;\n",
       "  align-items: stretch;\n",
       "  justify-content: center;\n",
       "  background-color: var(--sklearn-color-background);\n",
       "  position: relative;\n",
       "}\n",
       "\n",
       "#sk-container-id-1 div.sk-parallel-item {\n",
       "  display: flex;\n",
       "  flex-direction: column;\n",
       "}\n",
       "\n",
       "#sk-container-id-1 div.sk-parallel-item:first-child::after {\n",
       "  align-self: flex-end;\n",
       "  width: 50%;\n",
       "}\n",
       "\n",
       "#sk-container-id-1 div.sk-parallel-item:last-child::after {\n",
       "  align-self: flex-start;\n",
       "  width: 50%;\n",
       "}\n",
       "\n",
       "#sk-container-id-1 div.sk-parallel-item:only-child::after {\n",
       "  width: 0;\n",
       "}\n",
       "\n",
       "/* Serial-specific style estimator block */\n",
       "\n",
       "#sk-container-id-1 div.sk-serial {\n",
       "  display: flex;\n",
       "  flex-direction: column;\n",
       "  align-items: center;\n",
       "  background-color: var(--sklearn-color-background);\n",
       "  padding-right: 1em;\n",
       "  padding-left: 1em;\n",
       "}\n",
       "\n",
       "\n",
       "/* Toggleable style: style used for estimator/Pipeline/ColumnTransformer box that is\n",
       "clickable and can be expanded/collapsed.\n",
       "- Pipeline and ColumnTransformer use this feature and define the default style\n",
       "- Estimators will overwrite some part of the style using the `sk-estimator` class\n",
       "*/\n",
       "\n",
       "/* Pipeline and ColumnTransformer style (default) */\n",
       "\n",
       "#sk-container-id-1 div.sk-toggleable {\n",
       "  /* Default theme specific background. It is overwritten whether we have a\n",
       "  specific estimator or a Pipeline/ColumnTransformer */\n",
       "  background-color: var(--sklearn-color-background);\n",
       "}\n",
       "\n",
       "/* Toggleable label */\n",
       "#sk-container-id-1 label.sk-toggleable__label {\n",
       "  cursor: pointer;\n",
       "  display: flex;\n",
       "  width: 100%;\n",
       "  margin-bottom: 0;\n",
       "  padding: 0.5em;\n",
       "  box-sizing: border-box;\n",
       "  text-align: center;\n",
       "  align-items: start;\n",
       "  justify-content: space-between;\n",
       "  gap: 0.5em;\n",
       "}\n",
       "\n",
       "#sk-container-id-1 label.sk-toggleable__label .caption {\n",
       "  font-size: 0.6rem;\n",
       "  font-weight: lighter;\n",
       "  color: var(--sklearn-color-text-muted);\n",
       "}\n",
       "\n",
       "#sk-container-id-1 label.sk-toggleable__label-arrow:before {\n",
       "  /* Arrow on the left of the label */\n",
       "  content: \"▸\";\n",
       "  float: left;\n",
       "  margin-right: 0.25em;\n",
       "  color: var(--sklearn-color-icon);\n",
       "}\n",
       "\n",
       "#sk-container-id-1 label.sk-toggleable__label-arrow:hover:before {\n",
       "  color: var(--sklearn-color-text);\n",
       "}\n",
       "\n",
       "/* Toggleable content - dropdown */\n",
       "\n",
       "#sk-container-id-1 div.sk-toggleable__content {\n",
       "  max-height: 0;\n",
       "  max-width: 0;\n",
       "  overflow: hidden;\n",
       "  text-align: left;\n",
       "  /* unfitted */\n",
       "  background-color: var(--sklearn-color-unfitted-level-0);\n",
       "}\n",
       "\n",
       "#sk-container-id-1 div.sk-toggleable__content.fitted {\n",
       "  /* fitted */\n",
       "  background-color: var(--sklearn-color-fitted-level-0);\n",
       "}\n",
       "\n",
       "#sk-container-id-1 div.sk-toggleable__content pre {\n",
       "  margin: 0.2em;\n",
       "  border-radius: 0.25em;\n",
       "  color: var(--sklearn-color-text);\n",
       "  /* unfitted */\n",
       "  background-color: var(--sklearn-color-unfitted-level-0);\n",
       "}\n",
       "\n",
       "#sk-container-id-1 div.sk-toggleable__content.fitted pre {\n",
       "  /* unfitted */\n",
       "  background-color: var(--sklearn-color-fitted-level-0);\n",
       "}\n",
       "\n",
       "#sk-container-id-1 input.sk-toggleable__control:checked~div.sk-toggleable__content {\n",
       "  /* Expand drop-down */\n",
       "  max-height: 200px;\n",
       "  max-width: 100%;\n",
       "  overflow: auto;\n",
       "}\n",
       "\n",
       "#sk-container-id-1 input.sk-toggleable__control:checked~label.sk-toggleable__label-arrow:before {\n",
       "  content: \"▾\";\n",
       "}\n",
       "\n",
       "/* Pipeline/ColumnTransformer-specific style */\n",
       "\n",
       "#sk-container-id-1 div.sk-label input.sk-toggleable__control:checked~label.sk-toggleable__label {\n",
       "  color: var(--sklearn-color-text);\n",
       "  background-color: var(--sklearn-color-unfitted-level-2);\n",
       "}\n",
       "\n",
       "#sk-container-id-1 div.sk-label.fitted input.sk-toggleable__control:checked~label.sk-toggleable__label {\n",
       "  background-color: var(--sklearn-color-fitted-level-2);\n",
       "}\n",
       "\n",
       "/* Estimator-specific style */\n",
       "\n",
       "/* Colorize estimator box */\n",
       "#sk-container-id-1 div.sk-estimator input.sk-toggleable__control:checked~label.sk-toggleable__label {\n",
       "  /* unfitted */\n",
       "  background-color: var(--sklearn-color-unfitted-level-2);\n",
       "}\n",
       "\n",
       "#sk-container-id-1 div.sk-estimator.fitted input.sk-toggleable__control:checked~label.sk-toggleable__label {\n",
       "  /* fitted */\n",
       "  background-color: var(--sklearn-color-fitted-level-2);\n",
       "}\n",
       "\n",
       "#sk-container-id-1 div.sk-label label.sk-toggleable__label,\n",
       "#sk-container-id-1 div.sk-label label {\n",
       "  /* The background is the default theme color */\n",
       "  color: var(--sklearn-color-text-on-default-background);\n",
       "}\n",
       "\n",
       "/* On hover, darken the color of the background */\n",
       "#sk-container-id-1 div.sk-label:hover label.sk-toggleable__label {\n",
       "  color: var(--sklearn-color-text);\n",
       "  background-color: var(--sklearn-color-unfitted-level-2);\n",
       "}\n",
       "\n",
       "/* Label box, darken color on hover, fitted */\n",
       "#sk-container-id-1 div.sk-label.fitted:hover label.sk-toggleable__label.fitted {\n",
       "  color: var(--sklearn-color-text);\n",
       "  background-color: var(--sklearn-color-fitted-level-2);\n",
       "}\n",
       "\n",
       "/* Estimator label */\n",
       "\n",
       "#sk-container-id-1 div.sk-label label {\n",
       "  font-family: monospace;\n",
       "  font-weight: bold;\n",
       "  display: inline-block;\n",
       "  line-height: 1.2em;\n",
       "}\n",
       "\n",
       "#sk-container-id-1 div.sk-label-container {\n",
       "  text-align: center;\n",
       "}\n",
       "\n",
       "/* Estimator-specific */\n",
       "#sk-container-id-1 div.sk-estimator {\n",
       "  font-family: monospace;\n",
       "  border: 1px dotted var(--sklearn-color-border-box);\n",
       "  border-radius: 0.25em;\n",
       "  box-sizing: border-box;\n",
       "  margin-bottom: 0.5em;\n",
       "  /* unfitted */\n",
       "  background-color: var(--sklearn-color-unfitted-level-0);\n",
       "}\n",
       "\n",
       "#sk-container-id-1 div.sk-estimator.fitted {\n",
       "  /* fitted */\n",
       "  background-color: var(--sklearn-color-fitted-level-0);\n",
       "}\n",
       "\n",
       "/* on hover */\n",
       "#sk-container-id-1 div.sk-estimator:hover {\n",
       "  /* unfitted */\n",
       "  background-color: var(--sklearn-color-unfitted-level-2);\n",
       "}\n",
       "\n",
       "#sk-container-id-1 div.sk-estimator.fitted:hover {\n",
       "  /* fitted */\n",
       "  background-color: var(--sklearn-color-fitted-level-2);\n",
       "}\n",
       "\n",
       "/* Specification for estimator info (e.g. \"i\" and \"?\") */\n",
       "\n",
       "/* Common style for \"i\" and \"?\" */\n",
       "\n",
       ".sk-estimator-doc-link,\n",
       "a:link.sk-estimator-doc-link,\n",
       "a:visited.sk-estimator-doc-link {\n",
       "  float: right;\n",
       "  font-size: smaller;\n",
       "  line-height: 1em;\n",
       "  font-family: monospace;\n",
       "  background-color: var(--sklearn-color-background);\n",
       "  border-radius: 1em;\n",
       "  height: 1em;\n",
       "  width: 1em;\n",
       "  text-decoration: none !important;\n",
       "  margin-left: 0.5em;\n",
       "  text-align: center;\n",
       "  /* unfitted */\n",
       "  border: var(--sklearn-color-unfitted-level-1) 1pt solid;\n",
       "  color: var(--sklearn-color-unfitted-level-1);\n",
       "}\n",
       "\n",
       ".sk-estimator-doc-link.fitted,\n",
       "a:link.sk-estimator-doc-link.fitted,\n",
       "a:visited.sk-estimator-doc-link.fitted {\n",
       "  /* fitted */\n",
       "  border: var(--sklearn-color-fitted-level-1) 1pt solid;\n",
       "  color: var(--sklearn-color-fitted-level-1);\n",
       "}\n",
       "\n",
       "/* On hover */\n",
       "div.sk-estimator:hover .sk-estimator-doc-link:hover,\n",
       ".sk-estimator-doc-link:hover,\n",
       "div.sk-label-container:hover .sk-estimator-doc-link:hover,\n",
       ".sk-estimator-doc-link:hover {\n",
       "  /* unfitted */\n",
       "  background-color: var(--sklearn-color-unfitted-level-3);\n",
       "  color: var(--sklearn-color-background);\n",
       "  text-decoration: none;\n",
       "}\n",
       "\n",
       "div.sk-estimator.fitted:hover .sk-estimator-doc-link.fitted:hover,\n",
       ".sk-estimator-doc-link.fitted:hover,\n",
       "div.sk-label-container:hover .sk-estimator-doc-link.fitted:hover,\n",
       ".sk-estimator-doc-link.fitted:hover {\n",
       "  /* fitted */\n",
       "  background-color: var(--sklearn-color-fitted-level-3);\n",
       "  color: var(--sklearn-color-background);\n",
       "  text-decoration: none;\n",
       "}\n",
       "\n",
       "/* Span, style for the box shown on hovering the info icon */\n",
       ".sk-estimator-doc-link span {\n",
       "  display: none;\n",
       "  z-index: 9999;\n",
       "  position: relative;\n",
       "  font-weight: normal;\n",
       "  right: .2ex;\n",
       "  padding: .5ex;\n",
       "  margin: .5ex;\n",
       "  width: min-content;\n",
       "  min-width: 20ex;\n",
       "  max-width: 50ex;\n",
       "  color: var(--sklearn-color-text);\n",
       "  box-shadow: 2pt 2pt 4pt #999;\n",
       "  /* unfitted */\n",
       "  background: var(--sklearn-color-unfitted-level-0);\n",
       "  border: .5pt solid var(--sklearn-color-unfitted-level-3);\n",
       "}\n",
       "\n",
       ".sk-estimator-doc-link.fitted span {\n",
       "  /* fitted */\n",
       "  background: var(--sklearn-color-fitted-level-0);\n",
       "  border: var(--sklearn-color-fitted-level-3);\n",
       "}\n",
       "\n",
       ".sk-estimator-doc-link:hover span {\n",
       "  display: block;\n",
       "}\n",
       "\n",
       "/* \"?\"-specific style due to the `<a>` HTML tag */\n",
       "\n",
       "#sk-container-id-1 a.estimator_doc_link {\n",
       "  float: right;\n",
       "  font-size: 1rem;\n",
       "  line-height: 1em;\n",
       "  font-family: monospace;\n",
       "  background-color: var(--sklearn-color-background);\n",
       "  border-radius: 1rem;\n",
       "  height: 1rem;\n",
       "  width: 1rem;\n",
       "  text-decoration: none;\n",
       "  /* unfitted */\n",
       "  color: var(--sklearn-color-unfitted-level-1);\n",
       "  border: var(--sklearn-color-unfitted-level-1) 1pt solid;\n",
       "}\n",
       "\n",
       "#sk-container-id-1 a.estimator_doc_link.fitted {\n",
       "  /* fitted */\n",
       "  border: var(--sklearn-color-fitted-level-1) 1pt solid;\n",
       "  color: var(--sklearn-color-fitted-level-1);\n",
       "}\n",
       "\n",
       "/* On hover */\n",
       "#sk-container-id-1 a.estimator_doc_link:hover {\n",
       "  /* unfitted */\n",
       "  background-color: var(--sklearn-color-unfitted-level-3);\n",
       "  color: var(--sklearn-color-background);\n",
       "  text-decoration: none;\n",
       "}\n",
       "\n",
       "#sk-container-id-1 a.estimator_doc_link.fitted:hover {\n",
       "  /* fitted */\n",
       "  background-color: var(--sklearn-color-fitted-level-3);\n",
       "}\n",
       "</style><div id=\"sk-container-id-1\" class=\"sk-top-container\"><div class=\"sk-text-repr-fallback\"><pre>LogisticRegression(max_iter=1000)</pre><b>In a Jupyter environment, please rerun this cell to show the HTML representation or trust the notebook. <br />On GitHub, the HTML representation is unable to render, please try loading this page with nbviewer.org.</b></div><div class=\"sk-container\" hidden><div class=\"sk-item\"><div class=\"sk-estimator fitted sk-toggleable\"><input class=\"sk-toggleable__control sk-hidden--visually\" id=\"sk-estimator-id-1\" type=\"checkbox\" checked><label for=\"sk-estimator-id-1\" class=\"sk-toggleable__label fitted sk-toggleable__label-arrow\"><div><div>LogisticRegression</div></div><div><a class=\"sk-estimator-doc-link fitted\" rel=\"noreferrer\" target=\"_blank\" href=\"https://scikit-learn.org/1.6/modules/generated/sklearn.linear_model.LogisticRegression.html\">?<span>Documentation for LogisticRegression</span></a><span class=\"sk-estimator-doc-link fitted\">i<span>Fitted</span></span></div></label><div class=\"sk-toggleable__content fitted\"><pre>LogisticRegression(max_iter=1000)</pre></div> </div></div></div></div>"
      ],
      "text/plain": [
       "LogisticRegression(max_iter=1000)"
      ]
     },
     "metadata": {},
     "output_type": "display_data"
    }
   ],
   "source": [
    "clf = LogisticRegression(max_iter=1000)\n",
    "clf.fit(X_train_tfidf, y_train_enc)"
   ]
  },
  {
   "cell_type": "code",
   "execution_count": null,
   "id": "c71f037c",
   "metadata": {},
   "outputs": [
    {
     "data": {
      "image/png": "[encoded data removed]",
      "text/plain": [
       "<Figure size 1000x700 with 2 Axes>"
      ]
     },
     "metadata": {},
     "output_type": "display_data"
    },
    {
     "name": "stdout",
     "output_type": "stream",
     "text": [
      "accuracy = 0.4175\n",
      "Macro F1: 0.2854\n",
      "Weighted F1: 0.3821\n",
      "                                 precision    recall  f1-score   support\n",
      "\n",
      "           Billing and Payments       0.76      0.63      0.69       417\n",
      "               Customer Service       0.33      0.34      0.33       630\n",
      "                General Inquiry       0.00      0.00      0.00        53\n",
      "                Human Resources       1.00      0.15      0.26        68\n",
      "                     IT Support       0.33      0.12      0.17       458\n",
      "                Product Support       0.33      0.31      0.32       742\n",
      "          Returns and Exchanges       0.62      0.05      0.09       200\n",
      "            Sales and Pre-Sales       0.62      0.04      0.08       114\n",
      "Service Outages and Maintenance       0.86      0.25      0.39       153\n",
      "              Technical Support       0.41      0.73      0.52      1165\n",
      "\n",
      "                       accuracy                           0.42      4000\n",
      "                      macro avg       0.53      0.26      0.29      4000\n",
      "                   weighted avg       0.45      0.42      0.38      4000\n",
      "\n"
     ]
    },
    {
     "name": "stderr",
     "output_type": "stream",
     "text": [
      "/Users/nathanpollet/Desktop/mistralAI/mistral_final/lib/python3.9/site-packages/sklearn/metrics/_classification.py:1565: UndefinedMetricWarning: Precision is ill-defined and being set to 0.0 in labels with no predicted samples. Use `zero_division` parameter to control this behavior.\n",
      "  _warn_prf(average, modifier, f\"{metric.capitalize()} is\", len(result))\n",
      "/Users/nathanpollet/Desktop/mistralAI/mistral_final/lib/python3.9/site-packages/sklearn/metrics/_classification.py:1565: UndefinedMetricWarning: Precision is ill-defined and being set to 0.0 in labels with no predicted samples. Use `zero_division` parameter to control this behavior.\n",
      "  _warn_prf(average, modifier, f\"{metric.capitalize()} is\", len(result))\n",
      "/Users/nathanpollet/Desktop/mistralAI/mistral_final/lib/python3.9/site-packages/sklearn/metrics/_classification.py:1565: UndefinedMetricWarning: Precision is ill-defined and being set to 0.0 in labels with no predicted samples. Use `zero_division` parameter to control this behavior.\n",
      "  _warn_prf(average, modifier, f\"{metric.capitalize()} is\", len(result))\n"
     ]
    }
   ],
   "source": [
    "y_pred = clf.predict(X_test_tfidf)\n",
    "cm = confusion_matrix(y_test_enc, y_pred)\n",
    "plt.figure(figsize=(10, 7))\n",
    "sns.heatmap(\n",
    "    cm,\n",
    "    annot=True,\n",
    "    fmt=\"d\",\n",
    "    xticklabels=label_encoder.classes_,\n",
    "    yticklabels=label_encoder.classes_,\n",
    "    cmap=\"Blues\",\n",
    ")\n",
    "plt.xlabel(\"Predicted\")\n",
    "plt.ylabel(\"True\")\n",
    "plt.title(\"Confusion Matrix\")\n",
    "plt.show()\n",
    "\n",
    "print(f\"accuracy = {accuracy_score(y_test_enc, y_pred)}\")\n",
    "macro_f1 = f1_score(y_test_enc, y_pred, average=\"macro\")\n",
    "weighted_f1 = f1_score(y_test_enc, y_pred, average=\"weighted\")\n",
    "print(f\"Macro F1: {macro_f1:.4f}\")\n",
    "print(f\"Weighted F1: {weighted_f1:.4f}\")\n",
    "print(classification_report(y_test_enc, y_pred, target_names=label_encoder.classes_))"
   ]
  },
  {
   "cell_type": "markdown",
   "id": "84fb763b",
   "metadata": {},
   "source": [
    "Run inference on balanced eval set"
   ]
  },
  {
   "cell_type": "code",
   "execution_count": null,
   "id": "8951de17",
   "metadata": {},
   "outputs": [
    {
     "name": "stdout",
     "output_type": "stream",
     "text": [
      "accuracy = 0.2528\n",
      "Macro F1: 0.2395\n",
      "Weighted F1: 0.2395\n",
      "                                 precision    recall  f1-score   support\n",
      "\n",
      "           Billing and Payments       0.77      0.64      0.70        53\n",
      "               Customer Service       0.18      0.32      0.23        53\n",
      "                General Inquiry       0.00      0.00      0.00        53\n",
      "                Human Resources       1.00      0.15      0.26        53\n",
      "                     IT Support       0.19      0.09      0.13        53\n",
      "                Product Support       0.09      0.19      0.12        53\n",
      "          Returns and Exchanges       0.33      0.02      0.04        53\n",
      "            Sales and Pre-Sales       1.00      0.08      0.14        53\n",
      "Service Outages and Maintenance       1.00      0.34      0.51        53\n",
      "              Technical Support       0.17      0.70      0.27        53\n",
      "\n",
      "                       accuracy                           0.25       530\n",
      "                      macro avg       0.47      0.25      0.24       530\n",
      "                   weighted avg       0.47      0.25      0.24       530\n",
      "\n"
     ]
    },
    {
     "name": "stderr",
     "output_type": "stream",
     "text": [
      "/Users/nathanpollet/Desktop/mistralAI/mistral_final/lib/python3.9/site-packages/sklearn/metrics/_classification.py:1565: UndefinedMetricWarning: Precision is ill-defined and being set to 0.0 in labels with no predicted samples. Use `zero_division` parameter to control this behavior.\n",
      "  _warn_prf(average, modifier, f\"{metric.capitalize()} is\", len(result))\n",
      "/Users/nathanpollet/Desktop/mistralAI/mistral_final/lib/python3.9/site-packages/sklearn/metrics/_classification.py:1565: UndefinedMetricWarning: Precision is ill-defined and being set to 0.0 in labels with no predicted samples. Use `zero_division` parameter to control this behavior.\n",
      "  _warn_prf(average, modifier, f\"{metric.capitalize()} is\", len(result))\n",
      "/Users/nathanpollet/Desktop/mistralAI/mistral_final/lib/python3.9/site-packages/sklearn/metrics/_classification.py:1565: UndefinedMetricWarning: Precision is ill-defined and being set to 0.0 in labels with no predicted samples. Use `zero_division` parameter to control this behavior.\n",
      "  _warn_prf(average, modifier, f\"{metric.capitalize()} is\", len(result))\n"
     ]
    },
    {
     "data": {
      "image/png": "[encoded data removed]",
      "text/plain": [
       "<Figure size 1000x700 with 2 Axes>"
      ]
     },
     "metadata": {},
     "output_type": "display_data"
    }
   ],
   "source": [
    "X_eval = balanced_eval_df[\"text\"].astype(str)\n",
    "X_eval_tfidf = vectorizer.transform(X_eval)\n",
    "\n",
    "y_eval_true = label_encoder.transform(balanced_eval_df[\"queue\"])\n",
    "y_eval_pred = clf.predict(X_eval_tfidf)\n",
    "\n",
    "print(f\"accuracy = {accuracy_score(y_eval_true, y_eval_pred):.4f}\")\n",
    "print(f\"Macro F1: {f1_score(y_eval_true, y_eval_pred, average='macro'):.4f}\")\n",
    "print(f\"Weighted F1: {f1_score(y_eval_true, y_eval_pred, average='weighted'):.4f}\")\n",
    "print(classification_report(y_eval_true, y_eval_pred, target_names=label_encoder.classes_))\n",
    "\n",
    "cm = confusion_matrix(y_eval_true, y_eval_pred)\n",
    "plt.figure(figsize=(10, 7))\n",
    "sns.heatmap(\n",
    "    cm,\n",
    "    annot=True,\n",
    "    fmt=\"d\",\n",
    "    xticklabels=label_encoder.classes_,\n",
    "    yticklabels=label_encoder.classes_,\n",
    "    cmap=\"Blues\",\n",
    ")\n",
    "plt.xlabel(\"Predicted\")\n",
    "plt.ylabel(\"True\")\n",
    "plt.title(\"Confusion Matrix - Balanced Eval Set\")\n",
    "plt.show()"
   ]
  },
  {
   "cell_type": "markdown",
   "id": "0403e3db",
   "metadata": {},
   "source": [
    "#### Addressing class imbalance"
   ]
  },
  {
   "cell_type": "code",
   "execution_count": null,
   "id": "4e66c17d",
   "metadata": {},
   "outputs": [],
   "source": [
    "from sklearn.linear_model import LogisticRegression\n",
    "clf = LogisticRegression(max_iter=1000, class_weight='balanced')"
   ]
  },
  {
   "cell_type": "code",
   "execution_count": null,
   "id": "061a1039",
   "metadata": {},
   "outputs": [
    {
     "data": {
      "text/html": [
       "<style>#sk-container-id-2 {\n",
       "  /* Definition of color scheme common for light and dark mode */\n",
       "  --sklearn-color-text: #000;\n",
       "  --sklearn-color-text-muted: #666;\n",
       "  --sklearn-color-line: gray;\n",
       "  /* Definition of color scheme for unfitted estimators */\n",
       "  --sklearn-color-unfitted-level-0: #fff5e6;\n",
       "  --sklearn-color-unfitted-level-1: #f6e4d2;\n",
       "  --sklearn-color-unfitted-level-2: #ffe0b3;\n",
       "  --sklearn-color-unfitted-level-3: chocolate;\n",
       "  /* Definition of color scheme for fitted estimators */\n",
       "  --sklearn-color-fitted-level-0: #f0f8ff;\n",
       "  --sklearn-color-fitted-level-1: #d4ebff;\n",
       "  --sklearn-color-fitted-level-2: #b3dbfd;\n",
       "  --sklearn-color-fitted-level-3: cornflowerblue;\n",
       "\n",
       "  /* Specific color for light theme */\n",
       "  --sklearn-color-text-on-default-background: var(--sg-text-color, var(--theme-code-foreground, var(--jp-content-font-color1, black)));\n",
       "  --sklearn-color-background: var(--sg-background-color, var(--theme-background, var(--jp-layout-color0, white)));\n",
       "  --sklearn-color-border-box: var(--sg-text-color, var(--theme-code-foreground, var(--jp-content-font-color1, black)));\n",
       "  --sklearn-color-icon: #696969;\n",
       "\n",
       "  @media (prefers-color-scheme: dark) {\n",
       "    /* Redefinition of color scheme for dark theme */\n",
       "    --sklearn-color-text-on-default-background: var(--sg-text-color, var(--theme-code-foreground, var(--jp-content-font-color1, white)));\n",
       "    --sklearn-color-background: var(--sg-background-color, var(--theme-background, var(--jp-layout-color0, #111)));\n",
       "    --sklearn-color-border-box: var(--sg-text-color, var(--theme-code-foreground, var(--jp-content-font-color1, white)));\n",
       "    --sklearn-color-icon: #878787;\n",
       "  }\n",
       "}\n",
       "\n",
       "#sk-container-id-2 {\n",
       "  color: var(--sklearn-color-text);\n",
       "}\n",
       "\n",
       "#sk-container-id-2 pre {\n",
       "  padding: 0;\n",
       "}\n",
       "\n",
       "#sk-container-id-2 input.sk-hidden--visually {\n",
       "  border: 0;\n",
       "  clip: rect(1px 1px 1px 1px);\n",
       "  clip: rect(1px, 1px, 1px, 1px);\n",
       "  height: 1px;\n",
       "  margin: -1px;\n",
       "  overflow: hidden;\n",
       "  padding: 0;\n",
       "  position: absolute;\n",
       "  width: 1px;\n",
       "}\n",
       "\n",
       "#sk-container-id-2 div.sk-dashed-wrapped {\n",
       "  border: 1px dashed var(--sklearn-color-line);\n",
       "  margin: 0 0.4em 0.5em 0.4em;\n",
       "  box-sizing: border-box;\n",
       "  padding-bottom: 0.4em;\n",
       "  background-color: var(--sklearn-color-background);\n",
       "}\n",
       "\n",
       "#sk-container-id-2 div.sk-container {\n",
       "  /* jupyter's `normalize.less` sets `[hidden] { display: none; }`\n",
       "     but bootstrap.min.css set `[hidden] { display: none !important; }`\n",
       "     so we also need the `!important` here to be able to override the\n",
       "     default hidden behavior on the sphinx rendered scikit-learn.org.\n",
       "     See: https://github.com/scikit-learn/scikit-learn/issues/21755 */\n",
       "  display: inline-block !important;\n",
       "  position: relative;\n",
       "}\n",
       "\n",
       "#sk-container-id-2 div.sk-text-repr-fallback {\n",
       "  display: none;\n",
       "}\n",
       "\n",
       "div.sk-parallel-item,\n",
       "div.sk-serial,\n",
       "div.sk-item {\n",
       "  /* draw centered vertical line to link estimators */\n",
       "  background-image: linear-gradient(var(--sklearn-color-text-on-default-background), var(--sklearn-color-text-on-default-background));\n",
       "  background-size: 2px 100%;\n",
       "  background-repeat: no-repeat;\n",
       "  background-position: center center;\n",
       "}\n",
       "\n",
       "/* Parallel-specific style estimator block */\n",
       "\n",
       "#sk-container-id-2 div.sk-parallel-item::after {\n",
       "  content: \"\";\n",
       "  width: 100%;\n",
       "  border-bottom: 2px solid var(--sklearn-color-text-on-default-background);\n",
       "  flex-grow: 1;\n",
       "}\n",
       "\n",
       "#sk-container-id-2 div.sk-parallel {\n",
       "  display: flex;\n",
       "  align-items: stretch;\n",
       "  justify-content: center;\n",
       "  background-color: var(--sklearn-color-background);\n",
       "  position: relative;\n",
       "}\n",
       "\n",
       "#sk-container-id-2 div.sk-parallel-item {\n",
       "  display: flex;\n",
       "  flex-direction: column;\n",
       "}\n",
       "\n",
       "#sk-container-id-2 div.sk-parallel-item:first-child::after {\n",
       "  align-self: flex-end;\n",
       "  width: 50%;\n",
       "}\n",
       "\n",
       "#sk-container-id-2 div.sk-parallel-item:last-child::after {\n",
       "  align-self: flex-start;\n",
       "  width: 50%;\n",
       "}\n",
       "\n",
       "#sk-container-id-2 div.sk-parallel-item:only-child::after {\n",
       "  width: 0;\n",
       "}\n",
       "\n",
       "/* Serial-specific style estimator block */\n",
       "\n",
       "#sk-container-id-2 div.sk-serial {\n",
       "  display: flex;\n",
       "  flex-direction: column;\n",
       "  align-items: center;\n",
       "  background-color: var(--sklearn-color-background);\n",
       "  padding-right: 1em;\n",
       "  padding-left: 1em;\n",
       "}\n",
       "\n",
       "\n",
       "/* Toggleable style: style used for estimator/Pipeline/ColumnTransformer box that is\n",
       "clickable and can be expanded/collapsed.\n",
       "- Pipeline and ColumnTransformer use this feature and define the default style\n",
       "- Estimators will overwrite some part of the style using the `sk-estimator` class\n",
       "*/\n",
       "\n",
       "/* Pipeline and ColumnTransformer style (default) */\n",
       "\n",
       "#sk-container-id-2 div.sk-toggleable {\n",
       "  /* Default theme specific background. It is overwritten whether we have a\n",
       "  specific estimator or a Pipeline/ColumnTransformer */\n",
       "  background-color: var(--sklearn-color-background);\n",
       "}\n",
       "\n",
       "/* Toggleable label */\n",
       "#sk-container-id-2 label.sk-toggleable__label {\n",
       "  cursor: pointer;\n",
       "  display: flex;\n",
       "  width: 100%;\n",
       "  margin-bottom: 0;\n",
       "  padding: 0.5em;\n",
       "  box-sizing: border-box;\n",
       "  text-align: center;\n",
       "  align-items: start;\n",
       "  justify-content: space-between;\n",
       "  gap: 0.5em;\n",
       "}\n",
       "\n",
       "#sk-container-id-2 label.sk-toggleable__label .caption {\n",
       "  font-size: 0.6rem;\n",
       "  font-weight: lighter;\n",
       "  color: var(--sklearn-color-text-muted);\n",
       "}\n",
       "\n",
       "#sk-container-id-2 label.sk-toggleable__label-arrow:before {\n",
       "  /* Arrow on the left of the label */\n",
       "  content: \"▸\";\n",
       "  float: left;\n",
       "  margin-right: 0.25em;\n",
       "  color: var(--sklearn-color-icon);\n",
       "}\n",
       "\n",
       "#sk-container-id-2 label.sk-toggleable__label-arrow:hover:before {\n",
       "  color: var(--sklearn-color-text);\n",
       "}\n",
       "\n",
       "/* Toggleable content - dropdown */\n",
       "\n",
       "#sk-container-id-2 div.sk-toggleable__content {\n",
       "  max-height: 0;\n",
       "  max-width: 0;\n",
       "  overflow: hidden;\n",
       "  text-align: left;\n",
       "  /* unfitted */\n",
       "  background-color: var(--sklearn-color-unfitted-level-0);\n",
       "}\n",
       "\n",
       "#sk-container-id-2 div.sk-toggleable__content.fitted {\n",
       "  /* fitted */\n",
       "  background-color: var(--sklearn-color-fitted-level-0);\n",
       "}\n",
       "\n",
       "#sk-container-id-2 div.sk-toggleable__content pre {\n",
       "  margin: 0.2em;\n",
       "  border-radius: 0.25em;\n",
       "  color: var(--sklearn-color-text);\n",
       "  /* unfitted */\n",
       "  background-color: var(--sklearn-color-unfitted-level-0);\n",
       "}\n",
       "\n",
       "#sk-container-id-2 div.sk-toggleable__content.fitted pre {\n",
       "  /* unfitted */\n",
       "  background-color: var(--sklearn-color-fitted-level-0);\n",
       "}\n",
       "\n",
       "#sk-container-id-2 input.sk-toggleable__control:checked~div.sk-toggleable__content {\n",
       "  /* Expand drop-down */\n",
       "  max-height: 200px;\n",
       "  max-width: 100%;\n",
       "  overflow: auto;\n",
       "}\n",
       "\n",
       "#sk-container-id-2 input.sk-toggleable__control:checked~label.sk-toggleable__label-arrow:before {\n",
       "  content: \"▾\";\n",
       "}\n",
       "\n",
       "/* Pipeline/ColumnTransformer-specific style */\n",
       "\n",
       "#sk-container-id-2 div.sk-label input.sk-toggleable__control:checked~label.sk-toggleable__label {\n",
       "  color: var(--sklearn-color-text);\n",
       "  background-color: var(--sklearn-color-unfitted-level-2);\n",
       "}\n",
       "\n",
       "#sk-container-id-2 div.sk-label.fitted input.sk-toggleable__control:checked~label.sk-toggleable__label {\n",
       "  background-color: var(--sklearn-color-fitted-level-2);\n",
       "}\n",
       "\n",
       "/* Estimator-specific style */\n",
       "\n",
       "/* Colorize estimator box */\n",
       "#sk-container-id-2 div.sk-estimator input.sk-toggleable__control:checked~label.sk-toggleable__label {\n",
       "  /* unfitted */\n",
       "  background-color: var(--sklearn-color-unfitted-level-2);\n",
       "}\n",
       "\n",
       "#sk-container-id-2 div.sk-estimator.fitted input.sk-toggleable__control:checked~label.sk-toggleable__label {\n",
       "  /* fitted */\n",
       "  background-color: var(--sklearn-color-fitted-level-2);\n",
       "}\n",
       "\n",
       "#sk-container-id-2 div.sk-label label.sk-toggleable__label,\n",
       "#sk-container-id-2 div.sk-label label {\n",
       "  /* The background is the default theme color */\n",
       "  color: var(--sklearn-color-text-on-default-background);\n",
       "}\n",
       "\n",
       "/* On hover, darken the color of the background */\n",
       "#sk-container-id-2 div.sk-label:hover label.sk-toggleable__label {\n",
       "  color: var(--sklearn-color-text);\n",
       "  background-color: var(--sklearn-color-unfitted-level-2);\n",
       "}\n",
       "\n",
       "/* Label box, darken color on hover, fitted */\n",
       "#sk-container-id-2 div.sk-label.fitted:hover label.sk-toggleable__label.fitted {\n",
       "  color: var(--sklearn-color-text);\n",
       "  background-color: var(--sklearn-color-fitted-level-2);\n",
       "}\n",
       "\n",
       "/* Estimator label */\n",
       "\n",
       "#sk-container-id-2 div.sk-label label {\n",
       "  font-family: monospace;\n",
       "  font-weight: bold;\n",
       "  display: inline-block;\n",
       "  line-height: 1.2em;\n",
       "}\n",
       "\n",
       "#sk-container-id-2 div.sk-label-container {\n",
       "  text-align: center;\n",
       "}\n",
       "\n",
       "/* Estimator-specific */\n",
       "#sk-container-id-2 div.sk-estimator {\n",
       "  font-family: monospace;\n",
       "  border: 1px dotted var(--sklearn-color-border-box);\n",
       "  border-radius: 0.25em;\n",
       "  box-sizing: border-box;\n",
       "  margin-bottom: 0.5em;\n",
       "  /* unfitted */\n",
       "  background-color: var(--sklearn-color-unfitted-level-0);\n",
       "}\n",
       "\n",
       "#sk-container-id-2 div.sk-estimator.fitted {\n",
       "  /* fitted */\n",
       "  background-color: var(--sklearn-color-fitted-level-0);\n",
       "}\n",
       "\n",
       "/* on hover */\n",
       "#sk-container-id-2 div.sk-estimator:hover {\n",
       "  /* unfitted */\n",
       "  background-color: var(--sklearn-color-unfitted-level-2);\n",
       "}\n",
       "\n",
       "#sk-container-id-2 div.sk-estimator.fitted:hover {\n",
       "  /* fitted */\n",
       "  background-color: var(--sklearn-color-fitted-level-2);\n",
       "}\n",
       "\n",
       "/* Specification for estimator info (e.g. \"i\" and \"?\") */\n",
       "\n",
       "/* Common style for \"i\" and \"?\" */\n",
       "\n",
       ".sk-estimator-doc-link,\n",
       "a:link.sk-estimator-doc-link,\n",
       "a:visited.sk-estimator-doc-link {\n",
       "  float: right;\n",
       "  font-size: smaller;\n",
       "  line-height: 1em;\n",
       "  font-family: monospace;\n",
       "  background-color: var(--sklearn-color-background);\n",
       "  border-radius: 1em;\n",
       "  height: 1em;\n",
       "  width: 1em;\n",
       "  text-decoration: none !important;\n",
       "  margin-left: 0.5em;\n",
       "  text-align: center;\n",
       "  /* unfitted */\n",
       "  border: var(--sklearn-color-unfitted-level-1) 1pt solid;\n",
       "  color: var(--sklearn-color-unfitted-level-1);\n",
       "}\n",
       "\n",
       ".sk-estimator-doc-link.fitted,\n",
       "a:link.sk-estimator-doc-link.fitted,\n",
       "a:visited.sk-estimator-doc-link.fitted {\n",
       "  /* fitted */\n",
       "  border: var(--sklearn-color-fitted-level-1) 1pt solid;\n",
       "  color: var(--sklearn-color-fitted-level-1);\n",
       "}\n",
       "\n",
       "/* On hover */\n",
       "div.sk-estimator:hover .sk-estimator-doc-link:hover,\n",
       ".sk-estimator-doc-link:hover,\n",
       "div.sk-label-container:hover .sk-estimator-doc-link:hover,\n",
       ".sk-estimator-doc-link:hover {\n",
       "  /* unfitted */\n",
       "  background-color: var(--sklearn-color-unfitted-level-3);\n",
       "  color: var(--sklearn-color-background);\n",
       "  text-decoration: none;\n",
       "}\n",
       "\n",
       "div.sk-estimator.fitted:hover .sk-estimator-doc-link.fitted:hover,\n",
       ".sk-estimator-doc-link.fitted:hover,\n",
       "div.sk-label-container:hover .sk-estimator-doc-link.fitted:hover,\n",
       ".sk-estimator-doc-link.fitted:hover {\n",
       "  /* fitted */\n",
       "  background-color: var(--sklearn-color-fitted-level-3);\n",
       "  color: var(--sklearn-color-background);\n",
       "  text-decoration: none;\n",
       "}\n",
       "\n",
       "/* Span, style for the box shown on hovering the info icon */\n",
       ".sk-estimator-doc-link span {\n",
       "  display: none;\n",
       "  z-index: 9999;\n",
       "  position: relative;\n",
       "  font-weight: normal;\n",
       "  right: .2ex;\n",
       "  padding: .5ex;\n",
       "  margin: .5ex;\n",
       "  width: min-content;\n",
       "  min-width: 20ex;\n",
       "  max-width: 50ex;\n",
       "  color: var(--sklearn-color-text);\n",
       "  box-shadow: 2pt 2pt 4pt #999;\n",
       "  /* unfitted */\n",
       "  background: var(--sklearn-color-unfitted-level-0);\n",
       "  border: .5pt solid var(--sklearn-color-unfitted-level-3);\n",
       "}\n",
       "\n",
       ".sk-estimator-doc-link.fitted span {\n",
       "  /* fitted */\n",
       "  background: var(--sklearn-color-fitted-level-0);\n",
       "  border: var(--sklearn-color-fitted-level-3);\n",
       "}\n",
       "\n",
       ".sk-estimator-doc-link:hover span {\n",
       "  display: block;\n",
       "}\n",
       "\n",
       "/* \"?\"-specific style due to the `<a>` HTML tag */\n",
       "\n",
       "#sk-container-id-2 a.estimator_doc_link {\n",
       "  float: right;\n",
       "  font-size: 1rem;\n",
       "  line-height: 1em;\n",
       "  font-family: monospace;\n",
       "  background-color: var(--sklearn-color-background);\n",
       "  border-radius: 1rem;\n",
       "  height: 1rem;\n",
       "  width: 1rem;\n",
       "  text-decoration: none;\n",
       "  /* unfitted */\n",
       "  color: var(--sklearn-color-unfitted-level-1);\n",
       "  border: var(--sklearn-color-unfitted-level-1) 1pt solid;\n",
       "}\n",
       "\n",
       "#sk-container-id-2 a.estimator_doc_link.fitted {\n",
       "  /* fitted */\n",
       "  border: var(--sklearn-color-fitted-level-1) 1pt solid;\n",
       "  color: var(--sklearn-color-fitted-level-1);\n",
       "}\n",
       "\n",
       "/* On hover */\n",
       "#sk-container-id-2 a.estimator_doc_link:hover {\n",
       "  /* unfitted */\n",
       "  background-color: var(--sklearn-color-unfitted-level-3);\n",
       "  color: var(--sklearn-color-background);\n",
       "  text-decoration: none;\n",
       "}\n",
       "\n",
       "#sk-container-id-2 a.estimator_doc_link.fitted:hover {\n",
       "  /* fitted */\n",
       "  background-color: var(--sklearn-color-fitted-level-3);\n",
       "}\n",
       "</style><div id=\"sk-container-id-2\" class=\"sk-top-container\"><div class=\"sk-text-repr-fallback\"><pre>LogisticRegression(class_weight=&#x27;balanced&#x27;, max_iter=1000)</pre><b>In a Jupyter environment, please rerun this cell to show the HTML representation or trust the notebook. <br />On GitHub, the HTML representation is unable to render, please try loading this page with nbviewer.org.</b></div><div class=\"sk-container\" hidden><div class=\"sk-item\"><div class=\"sk-estimator fitted sk-toggleable\"><input class=\"sk-toggleable__control sk-hidden--visually\" id=\"sk-estimator-id-2\" type=\"checkbox\" checked><label for=\"sk-estimator-id-2\" class=\"sk-toggleable__label fitted sk-toggleable__label-arrow\"><div><div>LogisticRegression</div></div><div><a class=\"sk-estimator-doc-link fitted\" rel=\"noreferrer\" target=\"_blank\" href=\"https://scikit-learn.org/1.6/modules/generated/sklearn.linear_model.LogisticRegression.html\">?<span>Documentation for LogisticRegression</span></a><span class=\"sk-estimator-doc-link fitted\">i<span>Fitted</span></span></div></label><div class=\"sk-toggleable__content fitted\"><pre>LogisticRegression(class_weight=&#x27;balanced&#x27;, max_iter=1000)</pre></div> </div></div></div></div>"
      ],
      "text/plain": [
       "LogisticRegression(class_weight='balanced', max_iter=1000)"
      ]
     },
     "metadata": {},
     "output_type": "display_data"
    }
   ],
   "source": [
    "clf.fit(X_train_tfidf, y_train_enc)"
   ]
  },
  {
   "cell_type": "code",
   "execution_count": null,
   "id": "f29178ba",
   "metadata": {},
   "outputs": [
    {
     "name": "stdout",
     "output_type": "stream",
     "text": [
      "accuracy = 0.35\n",
      "Macro F1: 0.3179\n",
      "Weighted F1: 0.3585\n",
      "                                 precision    recall  f1-score   support\n",
      "\n",
      "           Billing and Payments       0.66      0.70      0.68       417\n",
      "               Customer Service       0.33      0.27      0.30       630\n",
      "                General Inquiry       0.10      0.36      0.16        53\n",
      "                Human Resources       0.19      0.50      0.27        68\n",
      "                     IT Support       0.30      0.32      0.31       458\n",
      "                Product Support       0.37      0.23      0.28       742\n",
      "          Returns and Exchanges       0.16      0.28      0.20       200\n",
      "            Sales and Pre-Sales       0.15      0.43      0.23       114\n",
      "Service Outages and Maintenance       0.26      0.52      0.35       153\n",
      "              Technical Support       0.51      0.33      0.40      1165\n",
      "\n",
      "                       accuracy                           0.35      4000\n",
      "                      macro avg       0.30      0.39      0.32      4000\n",
      "                   weighted avg       0.40      0.35      0.36      4000\n",
      "\n"
     ]
    },
    {
     "data": {
      "image/png": "[encoded data removed]",
      "text/plain": [
       "<Figure size 1000x700 with 2 Axes>"
      ]
     },
     "metadata": {},
     "output_type": "display_data"
    }
   ],
   "source": [
    "y_pred = clf.predict(X_test_tfidf)\n",
    "\n",
    "print(f\"accuracy = {accuracy_score(y_test_enc, y_pred)}\")\n",
    "macro_f1 = f1_score(y_test_enc, y_pred, average=\"macro\")\n",
    "weighted_f1 = f1_score(y_test_enc, y_pred, average=\"weighted\")\n",
    "print(f\"Macro F1: {macro_f1:.4f}\")\n",
    "print(f\"Weighted F1: {weighted_f1:.4f}\")\n",
    "print(classification_report(y_test_enc, y_pred, target_names=label_encoder.classes_))\n",
    "\n",
    "cm = confusion_matrix(y_test_enc, y_pred)\n",
    "plt.figure(figsize=(10, 7))\n",
    "sns.heatmap(\n",
    "    cm,\n",
    "    annot=True,\n",
    "    fmt=\"d\",\n",
    "    xticklabels=label_encoder.classes_,\n",
    "    yticklabels=label_encoder.classes_,\n",
    "    cmap=\"Blues\",\n",
    ")\n",
    "plt.xlabel(\"Predicted\")\n",
    "plt.ylabel(\"True\")\n",
    "plt.title(\"Confusion Matrix\")\n",
    "plt.show()"
   ]
  },
  {
   "cell_type": "markdown",
   "id": "d2db6e8c",
   "metadata": {},
   "source": [
    "On balanced eval set"
   ]
  },
  {
   "cell_type": "code",
   "execution_count": null,
   "id": "190b3785",
   "metadata": {},
   "outputs": [
    {
     "name": "stdout",
     "output_type": "stream",
     "text": [
      "accuracy = 0.3698\n",
      "Macro F1: 0.3712\n",
      "Weighted F1: 0.3712\n",
      "                                 precision    recall  f1-score   support\n",
      "\n",
      "           Billing and Payments       0.66      0.74      0.70        53\n",
      "               Customer Service       0.19      0.28      0.23        53\n",
      "                General Inquiry       0.45      0.36      0.40        53\n",
      "                Human Resources       0.62      0.45      0.52        53\n",
      "                     IT Support       0.30      0.26      0.28        53\n",
      "                Product Support       0.13      0.11      0.12        53\n",
      "          Returns and Exchanges       0.25      0.21      0.23        53\n",
      "            Sales and Pre-Sales       0.41      0.49      0.44        53\n",
      "Service Outages and Maintenance       0.55      0.49      0.52        53\n",
      "              Technical Support       0.24      0.30      0.27        53\n",
      "\n",
      "                       accuracy                           0.37       530\n",
      "                      macro avg       0.38      0.37      0.37       530\n",
      "                   weighted avg       0.38      0.37      0.37       530\n",
      "\n"
     ]
    },
    {
     "data": {
      "image/png": "[encoded data removed]",
      "text/plain": [
       "<Figure size 1000x700 with 2 Axes>"
      ]
     },
     "metadata": {},
     "output_type": "display_data"
    }
   ],
   "source": [
    "X_eval = balanced_eval_df[\"text\"].astype(str)\n",
    "X_eval_tfidf = vectorizer.transform(X_eval)\n",
    "\n",
    "y_eval_true = label_encoder.transform(balanced_eval_df[\"queue\"])\n",
    "y_eval_pred = clf.predict(X_eval_tfidf)\n",
    "\n",
    "print(f\"accuracy = {accuracy_score(y_eval_true, y_eval_pred):.4f}\")\n",
    "print(f\"Macro F1: {f1_score(y_eval_true, y_eval_pred, average='macro'):.4f}\")\n",
    "print(f\"Weighted F1: {f1_score(y_eval_true, y_eval_pred, average='weighted'):.4f}\")\n",
    "print(classification_report(y_eval_true, y_eval_pred, target_names=label_encoder.classes_))\n",
    "\n",
    "cm = confusion_matrix(y_eval_true, y_eval_pred)\n",
    "plt.figure(figsize=(10, 7))\n",
    "sns.heatmap(\n",
    "    cm,\n",
    "    annot=True,\n",
    "    fmt=\"d\",\n",
    "    xticklabels=label_encoder.classes_,\n",
    "    yticklabels=label_encoder.classes_,\n",
    "    cmap=\"Blues\",\n",
    ")\n",
    "plt.xlabel(\"Predicted\")\n",
    "plt.ylabel(\"True\")\n",
    "plt.title(\"Confusion Matrix - Balanced Eval Set\")\n",
    "plt.show()"
   ]
  },
  {
   "cell_type": "markdown",
   "id": "95c164d5",
   "metadata": {},
   "source": [
    "## Non-LLM Baseline Model 2: AutoModelForSequenceClassification"
   ]
  },
  {
   "cell_type": "code",
   "execution_count": null,
   "id": "53cdc533",
   "metadata": {},
   "outputs": [],
   "source": [
    "from datasets import Dataset\n",
    "from transformers import (\n",
    "    AutoTokenizer,\n",
    "    AutoModelForSequenceClassification,\n",
    "    TrainingArguments,\n",
    "    Trainer,\n",
    ")\n",
    "import torch\n",
    "import numpy as np\n",
    "import pandas as pd\n",
    "from sklearn.metrics import classification_report\n",
    "from sklearn.utils.class_weight import compute_class_weight "
   ]
  },
  {
   "cell_type": "code",
   "execution_count": null,
   "id": "f166e641",
   "metadata": {},
   "outputs": [],
   "source": [
    "# Build label mappings from train_df only (avoid label leakage from test)\n",
    "queue_list = sorted(train_df[\"queue\"].unique().tolist())\n",
    "label2id = {label: i for i, label in enumerate(queue_list)}\n",
    "id2label = {i: label for label, i in label2id.items()}\n",
    "\n",
    "train_df[\"label\"] = train_df[\"queue\"].map(label2id)\n",
    "test_df[\"label\"] = test_df[\"queue\"].map(label2id)\n",
    "\n",
    "train_ds = Dataset.from_pandas(\n",
    "    train_df[[\"text\", \"label\"]].rename(columns={\"text\": \"text\"})\n",
    ")\n",
    "test_ds = Dataset.from_pandas(\n",
    "    test_df[[\"text\", \"label\"]].rename(columns={\"text\": \"text\"})\n",
    ")"
   ]
  },
  {
   "cell_type": "code",
   "execution_count": null,
   "id": "5c4b4285",
   "metadata": {},
   "outputs": [
    {
     "name": "stderr",
     "output_type": "stream",
     "text": [
      "Map: 100%|██████████| 16000/16000 [00:02<00:00, 6856.82 examples/s]\n",
      "Map: 100%|██████████| 4000/4000 [00:00<00:00, 6626.97 examples/s]\n",
      "/Users/nathanpollet/Desktop/mistralAI/mistral_final/lib/python3.9/site-packages/huggingface_hub/file_download.py:943: FutureWarning: `resume_download` is deprecated and will be removed in version 1.0.0. Downloads always resume when possible. If you want to force a new download, use `force_download=True`.\n",
      "  warnings.warn(\n",
      "Some weights of WeightedDistilBERT were not initialized from the model checkpoint at distilbert-base-uncased and are newly initialized: ['classifier.bias', 'classifier.weight', 'pre_classifier.bias', 'pre_classifier.weight']\n",
      "You should probably TRAIN this model on a down-stream task to be able to use it for predictions and inference.\n",
      "/Users/nathanpollet/Desktop/mistralAI/mistral_final/lib/python3.9/site-packages/transformers/training_args.py:1474: FutureWarning: `evaluation_strategy` is deprecated and will be removed in version 4.46 of 🤗 Transformers. Use `eval_strategy` instead\n",
      "  warnings.warn(\n",
      "  0%|          | 10/3000 [00:08<31:54,  1.56it/s] "
     ]
    },
    {
     "name": "stdout",
     "output_type": "stream",
     "text": [
      "{'loss': 2.2956, 'grad_norm': 2.7257604598999023, 'learning_rate': 1.9933333333333334e-05, 'epoch': 0.01}\n"
     ]
    },
    {
     "name": "stderr",
     "output_type": "stream",
     "text": [
      "  1%|          | 20/3000 [00:14<30:08,  1.65it/s]"
     ]
    },
    {
     "name": "stdout",
     "output_type": "stream",
     "text": [
      "{'loss': 2.2857, 'grad_norm': 3.658959150314331, 'learning_rate': 1.9866666666666667e-05, 'epoch': 0.02}\n"
     ]
    },
    {
     "name": "stderr",
     "output_type": "stream",
     "text": [
      "  1%|          | 30/3000 [00:20<30:17,  1.63it/s]"
     ]
    },
    {
     "name": "stdout",
     "output_type": "stream",
     "text": [
      "{'loss': 2.3287, 'grad_norm': 2.916342258453369, 'learning_rate': 1.98e-05, 'epoch': 0.03}\n"
     ]
    },
    {
     "name": "stderr",
     "output_type": "stream",
     "text": [
      "  1%|▏         | 40/3000 [00:26<29:57,  1.65it/s]"
     ]
    },
    {
     "name": "stdout",
     "output_type": "stream",
     "text": [
      "{'loss': 2.2703, 'grad_norm': 3.2453513145446777, 'learning_rate': 1.9733333333333336e-05, 'epoch': 0.04}\n"
     ]
    },
    {
     "name": "stderr",
     "output_type": "stream",
     "text": [
      "  2%|▏         | 50/3000 [00:32<29:44,  1.65it/s]"
     ]
    },
    {
     "name": "stdout",
     "output_type": "stream",
     "text": [
      "{'loss': 2.3051, 'grad_norm': 3.4975757598876953, 'learning_rate': 1.9666666666666666e-05, 'epoch': 0.05}\n"
     ]
    },
    {
     "name": "stderr",
     "output_type": "stream",
     "text": [
      "  2%|▏         | 60/3000 [00:38<30:08,  1.63it/s]"
     ]
    },
    {
     "name": "stdout",
     "output_type": "stream",
     "text": [
      "{'loss': 2.1703, 'grad_norm': 3.2752645015716553, 'learning_rate': 1.9600000000000002e-05, 'epoch': 0.06}\n"
     ]
    },
    {
     "name": "stderr",
     "output_type": "stream",
     "text": [
      "  2%|▏         | 70/3000 [00:44<29:07,  1.68it/s]"
     ]
    },
    {
     "name": "stdout",
     "output_type": "stream",
     "text": [
      "{'loss': 2.1761, 'grad_norm': 5.209772109985352, 'learning_rate': 1.9533333333333335e-05, 'epoch': 0.07}\n"
     ]
    },
    {
     "name": "stderr",
     "output_type": "stream",
     "text": [
      "  3%|▎         | 80/3000 [00:51<30:05,  1.62it/s]"
     ]
    },
    {
     "name": "stdout",
     "output_type": "stream",
     "text": [
      "{'loss': 2.3594, 'grad_norm': 3.994194507598877, 'learning_rate': 1.9466666666666668e-05, 'epoch': 0.08}\n"
     ]
    },
    {
     "name": "stderr",
     "output_type": "stream",
     "text": [
      "  3%|▎         | 90/3000 [00:57<29:09,  1.66it/s]"
     ]
    },
    {
     "name": "stdout",
     "output_type": "stream",
     "text": [
      "{'loss': 2.378, 'grad_norm': 4.360691547393799, 'learning_rate': 1.94e-05, 'epoch': 0.09}\n"
     ]
    },
    {
     "name": "stderr",
     "output_type": "stream",
     "text": [
      "  3%|▎         | 100/3000 [01:03<29:34,  1.63it/s]"
     ]
    },
    {
     "name": "stdout",
     "output_type": "stream",
     "text": [
      "{'loss': 2.3816, 'grad_norm': 5.209447383880615, 'learning_rate': 1.9333333333333333e-05, 'epoch': 0.1}\n"
     ]
    },
    {
     "name": "stderr",
     "output_type": "stream",
     "text": [
      "  4%|▎         | 110/3000 [01:09<30:17,  1.59it/s]"
     ]
    },
    {
     "name": "stdout",
     "output_type": "stream",
     "text": [
      "{'loss': 2.3042, 'grad_norm': 4.775691032409668, 'learning_rate': 1.926666666666667e-05, 'epoch': 0.11}\n"
     ]
    },
    {
     "name": "stderr",
     "output_type": "stream",
     "text": [
      "  4%|▍         | 120/3000 [01:15<28:56,  1.66it/s]"
     ]
    },
    {
     "name": "stdout",
     "output_type": "stream",
     "text": [
      "{'loss': 2.2441, 'grad_norm': 3.6576740741729736, 'learning_rate': 1.9200000000000003e-05, 'epoch': 0.12}\n"
     ]
    },
    {
     "name": "stderr",
     "output_type": "stream",
     "text": [
      "  4%|▍         | 130/3000 [01:21<28:53,  1.66it/s]"
     ]
    },
    {
     "name": "stdout",
     "output_type": "stream",
     "text": [
      "{'loss': 2.2294, 'grad_norm': 3.429121494293213, 'learning_rate': 1.9133333333333335e-05, 'epoch': 0.13}\n"
     ]
    },
    {
     "name": "stderr",
     "output_type": "stream",
     "text": [
      "  5%|▍         | 140/3000 [01:27<29:09,  1.63it/s]"
     ]
    },
    {
     "name": "stdout",
     "output_type": "stream",
     "text": [
      "{'loss': 2.2305, 'grad_norm': 4.693971633911133, 'learning_rate': 1.9066666666666668e-05, 'epoch': 0.14}\n"
     ]
    },
    {
     "name": "stderr",
     "output_type": "stream",
     "text": [
      "  5%|▌         | 150/3000 [01:34<28:57,  1.64it/s]"
     ]
    },
    {
     "name": "stdout",
     "output_type": "stream",
     "text": [
      "{'loss': 2.314, 'grad_norm': 4.539451599121094, 'learning_rate': 1.9e-05, 'epoch': 0.15}\n"
     ]
    },
    {
     "name": "stderr",
     "output_type": "stream",
     "text": [
      "  5%|▌         | 160/3000 [01:40<28:44,  1.65it/s]"
     ]
    },
    {
     "name": "stdout",
     "output_type": "stream",
     "text": [
      "{'loss': 2.2089, 'grad_norm': 5.828730583190918, 'learning_rate': 1.8933333333333334e-05, 'epoch': 0.16}\n"
     ]
    },
    {
     "name": "stderr",
     "output_type": "stream",
     "text": [
      "  6%|▌         | 170/3000 [01:46<28:14,  1.67it/s]"
     ]
    },
    {
     "name": "stdout",
     "output_type": "stream",
     "text": [
      "{'loss': 2.252, 'grad_norm': 3.5933003425598145, 'learning_rate': 1.886666666666667e-05, 'epoch': 0.17}\n"
     ]
    },
    {
     "name": "stderr",
     "output_type": "stream",
     "text": [
      "  6%|▌         | 180/3000 [01:52<28:16,  1.66it/s]"
     ]
    },
    {
     "name": "stdout",
     "output_type": "stream",
     "text": [
      "{'loss': 2.2506, 'grad_norm': 4.304105758666992, 'learning_rate': 1.88e-05, 'epoch': 0.18}\n"
     ]
    },
    {
     "name": "stderr",
     "output_type": "stream",
     "text": [
      "  6%|▋         | 190/3000 [01:58<29:14,  1.60it/s]"
     ]
    },
    {
     "name": "stdout",
     "output_type": "stream",
     "text": [
      "{'loss': 2.2148, 'grad_norm': 3.6785366535186768, 'learning_rate': 1.8733333333333336e-05, 'epoch': 0.19}\n"
     ]
    },
    {
     "name": "stderr",
     "output_type": "stream",
     "text": [
      "  7%|▋         | 200/3000 [02:04<27:32,  1.69it/s]"
     ]
    },
    {
     "name": "stdout",
     "output_type": "stream",
     "text": [
      "{'loss': 2.1918, 'grad_norm': 3.7772953510284424, 'learning_rate': 1.866666666666667e-05, 'epoch': 0.2}\n"
     ]
    },
    {
     "name": "stderr",
     "output_type": "stream",
     "text": [
      "  7%|▋         | 210/3000 [02:10<27:37,  1.68it/s]"
     ]
    },
    {
     "name": "stdout",
     "output_type": "stream",
     "text": [
      "{'loss': 2.2015, 'grad_norm': 4.175792217254639, 'learning_rate': 1.86e-05, 'epoch': 0.21}\n"
     ]
    },
    {
     "name": "stderr",
     "output_type": "stream",
     "text": [
      "  7%|▋         | 220/3000 [02:16<27:42,  1.67it/s]"
     ]
    },
    {
     "name": "stdout",
     "output_type": "stream",
     "text": [
      "{'loss': 2.2429, 'grad_norm': 4.649766445159912, 'learning_rate': 1.8533333333333334e-05, 'epoch': 0.22}\n"
     ]
    },
    {
     "name": "stderr",
     "output_type": "stream",
     "text": [
      "  8%|▊         | 230/3000 [02:22<28:19,  1.63it/s]"
     ]
    },
    {
     "name": "stdout",
     "output_type": "stream",
     "text": [
      "{'loss': 2.1274, 'grad_norm': 2.7924699783325195, 'learning_rate': 1.8466666666666667e-05, 'epoch': 0.23}\n"
     ]
    },
    {
     "name": "stderr",
     "output_type": "stream",
     "text": [
      "  8%|▊         | 240/3000 [02:28<28:08,  1.63it/s]"
     ]
    },
    {
     "name": "stdout",
     "output_type": "stream",
     "text": [
      "{'loss': 2.1499, 'grad_norm': 4.056840419769287, 'learning_rate': 1.8400000000000003e-05, 'epoch': 0.24}\n"
     ]
    },
    {
     "name": "stderr",
     "output_type": "stream",
     "text": [
      "  8%|▊         | 250/3000 [02:34<28:01,  1.64it/s]"
     ]
    },
    {
     "name": "stdout",
     "output_type": "stream",
     "text": [
      "{'loss': 2.2051, 'grad_norm': 4.628086090087891, 'learning_rate': 1.8333333333333333e-05, 'epoch': 0.25}\n"
     ]
    },
    {
     "name": "stderr",
     "output_type": "stream",
     "text": [
      "  9%|▊         | 260/3000 [02:41<29:38,  1.54it/s]"
     ]
    },
    {
     "name": "stdout",
     "output_type": "stream",
     "text": [
      "{'loss': 2.1588, 'grad_norm': 5.929550647735596, 'learning_rate': 1.826666666666667e-05, 'epoch': 0.26}\n"
     ]
    },
    {
     "name": "stderr",
     "output_type": "stream",
     "text": [
      "  9%|▉         | 270/3000 [02:47<28:26,  1.60it/s]"
     ]
    },
    {
     "name": "stdout",
     "output_type": "stream",
     "text": [
      "{'loss': 2.196, 'grad_norm': 5.087509632110596, 'learning_rate': 1.8200000000000002e-05, 'epoch': 0.27}\n"
     ]
    },
    {
     "name": "stderr",
     "output_type": "stream",
     "text": [
      "  9%|▉         | 280/3000 [02:53<27:24,  1.65it/s]"
     ]
    },
    {
     "name": "stdout",
     "output_type": "stream",
     "text": [
      "{'loss': 2.2261, 'grad_norm': 4.916280746459961, 'learning_rate': 1.8133333333333335e-05, 'epoch': 0.28}\n"
     ]
    },
    {
     "name": "stderr",
     "output_type": "stream",
     "text": [
      " 10%|▉         | 290/3000 [02:59<27:55,  1.62it/s]"
     ]
    },
    {
     "name": "stdout",
     "output_type": "stream",
     "text": [
      "{'loss': 2.1864, 'grad_norm': 5.122697830200195, 'learning_rate': 1.8066666666666668e-05, 'epoch': 0.29}\n"
     ]
    },
    {
     "name": "stderr",
     "output_type": "stream",
     "text": [
      " 10%|█         | 300/3000 [03:06<27:32,  1.63it/s]"
     ]
    },
    {
     "name": "stdout",
     "output_type": "stream",
     "text": [
      "{'loss': 2.1691, 'grad_norm': 4.254566669464111, 'learning_rate': 1.8e-05, 'epoch': 0.3}\n"
     ]
    },
    {
     "name": "stderr",
     "output_type": "stream",
     "text": [
      " 10%|█         | 310/3000 [03:12<27:46,  1.61it/s]"
     ]
    },
    {
     "name": "stdout",
     "output_type": "stream",
     "text": [
      "{'loss': 2.0355, 'grad_norm': 5.971311569213867, 'learning_rate': 1.7933333333333333e-05, 'epoch': 0.31}\n"
     ]
    },
    {
     "name": "stderr",
     "output_type": "stream",
     "text": [
      " 11%|█         | 320/3000 [03:18<27:43,  1.61it/s]"
     ]
    },
    {
     "name": "stdout",
     "output_type": "stream",
     "text": [
      "{'loss': 2.0795, 'grad_norm': 5.346206188201904, 'learning_rate': 1.7866666666666666e-05, 'epoch': 0.32}\n"
     ]
    },
    {
     "name": "stderr",
     "output_type": "stream",
     "text": [
      " 11%|█         | 330/3000 [03:24<26:44,  1.66it/s]"
     ]
    },
    {
     "name": "stdout",
     "output_type": "stream",
     "text": [
      "{'loss': 2.1692, 'grad_norm': 6.971174716949463, 'learning_rate': 1.7800000000000002e-05, 'epoch': 0.33}\n"
     ]
    },
    {
     "name": "stderr",
     "output_type": "stream",
     "text": [
      " 11%|█▏        | 340/3000 [03:30<27:08,  1.63it/s]"
     ]
    },
    {
     "name": "stdout",
     "output_type": "stream",
     "text": [
      "{'loss': 2.0295, 'grad_norm': 4.434657096862793, 'learning_rate': 1.7733333333333335e-05, 'epoch': 0.34}\n"
     ]
    },
    {
     "name": "stderr",
     "output_type": "stream",
     "text": [
      " 12%|█▏        | 350/3000 [03:36<27:53,  1.58it/s]"
     ]
    },
    {
     "name": "stdout",
     "output_type": "stream",
     "text": [
      "{'loss': 2.1419, 'grad_norm': 4.072935104370117, 'learning_rate': 1.7666666666666668e-05, 'epoch': 0.35}\n"
     ]
    },
    {
     "name": "stderr",
     "output_type": "stream",
     "text": [
      " 12%|█▏        | 360/3000 [03:43<26:21,  1.67it/s]"
     ]
    },
    {
     "name": "stdout",
     "output_type": "stream",
     "text": [
      "{'loss': 2.1398, 'grad_norm': 3.2991671562194824, 'learning_rate': 1.76e-05, 'epoch': 0.36}\n"
     ]
    },
    {
     "name": "stderr",
     "output_type": "stream",
     "text": [
      " 12%|█▏        | 370/3000 [03:49<26:33,  1.65it/s]"
     ]
    },
    {
     "name": "stdout",
     "output_type": "stream",
     "text": [
      "{'loss': 2.1704, 'grad_norm': 4.337084770202637, 'learning_rate': 1.7533333333333337e-05, 'epoch': 0.37}\n"
     ]
    },
    {
     "name": "stderr",
     "output_type": "stream",
     "text": [
      " 13%|█▎        | 380/3000 [03:55<27:28,  1.59it/s]"
     ]
    },
    {
     "name": "stdout",
     "output_type": "stream",
     "text": [
      "{'loss': 2.1493, 'grad_norm': 4.274227142333984, 'learning_rate': 1.7466666666666667e-05, 'epoch': 0.38}\n"
     ]
    },
    {
     "name": "stderr",
     "output_type": "stream",
     "text": [
      " 13%|█▎        | 390/3000 [04:01<25:56,  1.68it/s]"
     ]
    },
    {
     "name": "stdout",
     "output_type": "stream",
     "text": [
      "{'loss': 2.1013, 'grad_norm': 3.4413955211639404, 'learning_rate': 1.7400000000000003e-05, 'epoch': 0.39}\n"
     ]
    },
    {
     "name": "stderr",
     "output_type": "stream",
     "text": [
      " 13%|█▎        | 400/3000 [04:07<26:16,  1.65it/s]"
     ]
    },
    {
     "name": "stdout",
     "output_type": "stream",
     "text": [
      "{'loss': 2.1451, 'grad_norm': 6.801745891571045, 'learning_rate': 1.7333333333333336e-05, 'epoch': 0.4}\n"
     ]
    },
    {
     "name": "stderr",
     "output_type": "stream",
     "text": [
      " 14%|█▎        | 410/3000 [04:13<25:42,  1.68it/s]"
     ]
    },
    {
     "name": "stdout",
     "output_type": "stream",
     "text": [
      "{'loss': 2.1772, 'grad_norm': 6.488500118255615, 'learning_rate': 1.726666666666667e-05, 'epoch': 0.41}\n"
     ]
    },
    {
     "name": "stderr",
     "output_type": "stream",
     "text": [
      " 14%|█▍        | 420/3000 [04:19<25:20,  1.70it/s]"
     ]
    },
    {
     "name": "stdout",
     "output_type": "stream",
     "text": [
      "{'loss': 2.053, 'grad_norm': 5.249702453613281, 'learning_rate': 1.72e-05, 'epoch': 0.42}\n"
     ]
    },
    {
     "name": "stderr",
     "output_type": "stream",
     "text": [
      " 14%|█▍        | 430/3000 [04:25<26:48,  1.60it/s]"
     ]
    },
    {
     "name": "stdout",
     "output_type": "stream",
     "text": [
      "{'loss': 2.1772, 'grad_norm': 4.540463924407959, 'learning_rate': 1.7133333333333334e-05, 'epoch': 0.43}\n"
     ]
    },
    {
     "name": "stderr",
     "output_type": "stream",
     "text": [
      " 15%|█▍        | 440/3000 [04:31<26:12,  1.63it/s]"
     ]
    },
    {
     "name": "stdout",
     "output_type": "stream",
     "text": [
      "{'loss': 2.1243, 'grad_norm': 5.225100994110107, 'learning_rate': 1.706666666666667e-05, 'epoch': 0.44}\n"
     ]
    },
    {
     "name": "stderr",
     "output_type": "stream",
     "text": [
      " 15%|█▌        | 450/3000 [04:37<26:05,  1.63it/s]"
     ]
    },
    {
     "name": "stdout",
     "output_type": "stream",
     "text": [
      "{'loss': 2.08, 'grad_norm': 4.418342590332031, 'learning_rate': 1.7e-05, 'epoch': 0.45}\n"
     ]
    },
    {
     "name": "stderr",
     "output_type": "stream",
     "text": [
      " 15%|█▌        | 460/3000 [04:43<25:57,  1.63it/s]"
     ]
    },
    {
     "name": "stdout",
     "output_type": "stream",
     "text": [
      "{'loss': 2.0456, 'grad_norm': 2.973752737045288, 'learning_rate': 1.6933333333333336e-05, 'epoch': 0.46}\n"
     ]
    },
    {
     "name": "stderr",
     "output_type": "stream",
     "text": [
      " 16%|█▌        | 470/3000 [04:50<26:39,  1.58it/s]"
     ]
    },
    {
     "name": "stdout",
     "output_type": "stream",
     "text": [
      "{'loss': 2.0365, 'grad_norm': 4.811718940734863, 'learning_rate': 1.686666666666667e-05, 'epoch': 0.47}\n"
     ]
    },
    {
     "name": "stderr",
     "output_type": "stream",
     "text": [
      " 16%|█▌        | 480/3000 [04:56<26:21,  1.59it/s]"
     ]
    },
    {
     "name": "stdout",
     "output_type": "stream",
     "text": [
      "{'loss': 2.0421, 'grad_norm': 5.079024791717529, 'learning_rate': 1.6800000000000002e-05, 'epoch': 0.48}\n"
     ]
    },
    {
     "name": "stderr",
     "output_type": "stream",
     "text": [
      " 16%|█▋        | 490/3000 [05:03<25:40,  1.63it/s]"
     ]
    },
    {
     "name": "stdout",
     "output_type": "stream",
     "text": [
      "{'loss': 2.1284, 'grad_norm': 3.701338768005371, 'learning_rate': 1.6733333333333335e-05, 'epoch': 0.49}\n"
     ]
    },
    {
     "name": "stderr",
     "output_type": "stream",
     "text": [
      " 17%|█▋        | 500/3000 [05:09<24:54,  1.67it/s]"
     ]
    },
    {
     "name": "stdout",
     "output_type": "stream",
     "text": [
      "{'loss': 1.8714, 'grad_norm': 4.720098972320557, 'learning_rate': 1.6666666666666667e-05, 'epoch': 0.5}\n"
     ]
    },
    {
     "name": "stderr",
     "output_type": "stream",
     "text": [
      " 17%|█▋        | 510/3000 [05:15<24:47,  1.67it/s]"
     ]
    },
    {
     "name": "stdout",
     "output_type": "stream",
     "text": [
      "{'loss': 2.0925, 'grad_norm': 8.902749061584473, 'learning_rate': 1.66e-05, 'epoch': 0.51}\n"
     ]
    },
    {
     "name": "stderr",
     "output_type": "stream",
     "text": [
      " 17%|█▋        | 520/3000 [05:21<24:57,  1.66it/s]"
     ]
    },
    {
     "name": "stdout",
     "output_type": "stream",
     "text": [
      "{'loss': 2.0443, 'grad_norm': 6.5412702560424805, 'learning_rate': 1.6533333333333333e-05, 'epoch': 0.52}\n"
     ]
    },
    {
     "name": "stderr",
     "output_type": "stream",
     "text": [
      " 18%|█▊        | 530/3000 [05:27<25:09,  1.64it/s]"
     ]
    },
    {
     "name": "stdout",
     "output_type": "stream",
     "text": [
      "{'loss': 2.1374, 'grad_norm': 7.404802322387695, 'learning_rate': 1.646666666666667e-05, 'epoch': 0.53}\n"
     ]
    },
    {
     "name": "stderr",
     "output_type": "stream",
     "text": [
      " 18%|█▊        | 540/3000 [05:33<24:18,  1.69it/s]"
     ]
    },
    {
     "name": "stdout",
     "output_type": "stream",
     "text": [
      "{'loss': 2.0622, 'grad_norm': 4.41434907913208, 'learning_rate': 1.64e-05, 'epoch': 0.54}\n"
     ]
    },
    {
     "name": "stderr",
     "output_type": "stream",
     "text": [
      " 18%|█▊        | 550/3000 [05:39<24:58,  1.63it/s]"
     ]
    },
    {
     "name": "stdout",
     "output_type": "stream",
     "text": [
      "{'loss': 2.0005, 'grad_norm': 4.832180976867676, 'learning_rate': 1.6333333333333335e-05, 'epoch': 0.55}\n"
     ]
    },
    {
     "name": "stderr",
     "output_type": "stream",
     "text": [
      " 19%|█▊        | 560/3000 [05:45<24:53,  1.63it/s]"
     ]
    },
    {
     "name": "stdout",
     "output_type": "stream",
     "text": [
      "{'loss': 2.0012, 'grad_norm': 4.938592910766602, 'learning_rate': 1.6266666666666668e-05, 'epoch': 0.56}\n"
     ]
    },
    {
     "name": "stderr",
     "output_type": "stream",
     "text": [
      " 19%|█▉        | 570/3000 [05:52<25:01,  1.62it/s]"
     ]
    },
    {
     "name": "stdout",
     "output_type": "stream",
     "text": [
      "{'loss': 2.0772, 'grad_norm': 6.404397964477539, 'learning_rate': 1.62e-05, 'epoch': 0.57}\n"
     ]
    },
    {
     "name": "stderr",
     "output_type": "stream",
     "text": [
      " 19%|█▉        | 580/3000 [05:58<25:18,  1.59it/s]"
     ]
    },
    {
     "name": "stdout",
     "output_type": "stream",
     "text": [
      "{'loss': 2.0494, 'grad_norm': 4.29243803024292, 'learning_rate': 1.6133333333333334e-05, 'epoch': 0.58}\n"
     ]
    },
    {
     "name": "stderr",
     "output_type": "stream",
     "text": [
      " 20%|█▉        | 590/3000 [06:04<24:30,  1.64it/s]"
     ]
    },
    {
     "name": "stdout",
     "output_type": "stream",
     "text": [
      "{'loss': 2.0896, 'grad_norm': 6.26973819732666, 'learning_rate': 1.606666666666667e-05, 'epoch': 0.59}\n"
     ]
    },
    {
     "name": "stderr",
     "output_type": "stream",
     "text": [
      " 20%|██        | 600/3000 [06:10<24:58,  1.60it/s]"
     ]
    },
    {
     "name": "stdout",
     "output_type": "stream",
     "text": [
      "{'loss': 2.13, 'grad_norm': 5.8165764808654785, 'learning_rate': 1.6000000000000003e-05, 'epoch': 0.6}\n"
     ]
    },
    {
     "name": "stderr",
     "output_type": "stream",
     "text": [
      " 20%|██        | 610/3000 [06:17<25:02,  1.59it/s]"
     ]
    },
    {
     "name": "stdout",
     "output_type": "stream",
     "text": [
      "{'loss': 1.9554, 'grad_norm': 5.09574031829834, 'learning_rate': 1.5933333333333336e-05, 'epoch': 0.61}\n"
     ]
    },
    {
     "name": "stderr",
     "output_type": "stream",
     "text": [
      " 21%|██        | 620/3000 [06:23<23:48,  1.67it/s]"
     ]
    },
    {
     "name": "stdout",
     "output_type": "stream",
     "text": [
      "{'loss': 2.1399, 'grad_norm': 5.0341949462890625, 'learning_rate': 1.586666666666667e-05, 'epoch': 0.62}\n"
     ]
    },
    {
     "name": "stderr",
     "output_type": "stream",
     "text": [
      " 21%|██        | 630/3000 [06:29<24:08,  1.64it/s]"
     ]
    },
    {
     "name": "stdout",
     "output_type": "stream",
     "text": [
      "{'loss': 2.1947, 'grad_norm': 7.746234893798828, 'learning_rate': 1.58e-05, 'epoch': 0.63}\n"
     ]
    },
    {
     "name": "stderr",
     "output_type": "stream",
     "text": [
      " 21%|██▏       | 640/3000 [06:35<23:57,  1.64it/s]"
     ]
    },
    {
     "name": "stdout",
     "output_type": "stream",
     "text": [
      "{'loss': 2.0979, 'grad_norm': 5.829328536987305, 'learning_rate': 1.5733333333333334e-05, 'epoch': 0.64}\n"
     ]
    },
    {
     "name": "stderr",
     "output_type": "stream",
     "text": [
      " 22%|██▏       | 650/3000 [06:41<24:40,  1.59it/s]"
     ]
    },
    {
     "name": "stdout",
     "output_type": "stream",
     "text": [
      "{'loss': 2.0516, 'grad_norm': 5.685219764709473, 'learning_rate': 1.5666666666666667e-05, 'epoch': 0.65}\n"
     ]
    },
    {
     "name": "stderr",
     "output_type": "stream",
     "text": [
      " 22%|██▏       | 660/3000 [06:47<24:01,  1.62it/s]"
     ]
    },
    {
     "name": "stdout",
     "output_type": "stream",
     "text": [
      "{'loss': 2.1447, 'grad_norm': 5.378170013427734, 'learning_rate': 1.5600000000000003e-05, 'epoch': 0.66}\n"
     ]
    },
    {
     "name": "stderr",
     "output_type": "stream",
     "text": [
      " 22%|██▏       | 670/3000 [06:54<25:28,  1.52it/s]"
     ]
    },
    {
     "name": "stdout",
     "output_type": "stream",
     "text": [
      "{'loss': 1.9844, 'grad_norm': 3.5910637378692627, 'learning_rate': 1.5533333333333333e-05, 'epoch': 0.67}\n"
     ]
    },
    {
     "name": "stderr",
     "output_type": "stream",
     "text": [
      " 23%|██▎       | 680/3000 [07:01<24:29,  1.58it/s]"
     ]
    },
    {
     "name": "stdout",
     "output_type": "stream",
     "text": [
      "{'loss': 2.0729, 'grad_norm': 6.408186912536621, 'learning_rate': 1.546666666666667e-05, 'epoch': 0.68}\n"
     ]
    },
    {
     "name": "stderr",
     "output_type": "stream",
     "text": [
      " 23%|██▎       | 690/3000 [07:07<22:43,  1.69it/s]"
     ]
    },
    {
     "name": "stdout",
     "output_type": "stream",
     "text": [
      "{'loss': 2.0266, 'grad_norm': 6.139950752258301, 'learning_rate': 1.54e-05, 'epoch': 0.69}\n"
     ]
    },
    {
     "name": "stderr",
     "output_type": "stream",
     "text": [
      " 23%|██▎       | 700/3000 [07:13<23:18,  1.64it/s]"
     ]
    },
    {
     "name": "stdout",
     "output_type": "stream",
     "text": [
      "{'loss': 1.9488, 'grad_norm': 6.457363605499268, 'learning_rate': 1.5333333333333334e-05, 'epoch': 0.7}\n"
     ]
    },
    {
     "name": "stderr",
     "output_type": "stream",
     "text": [
      " 24%|██▎       | 710/3000 [07:19<24:02,  1.59it/s]"
     ]
    },
    {
     "name": "stdout",
     "output_type": "stream",
     "text": [
      "{'loss': 2.0877, 'grad_norm': 7.019565105438232, 'learning_rate': 1.5266666666666667e-05, 'epoch': 0.71}\n"
     ]
    },
    {
     "name": "stderr",
     "output_type": "stream",
     "text": [
      " 24%|██▍       | 720/3000 [07:25<23:07,  1.64it/s]"
     ]
    },
    {
     "name": "stdout",
     "output_type": "stream",
     "text": [
      "{'loss': 1.9377, 'grad_norm': 6.5786285400390625, 'learning_rate': 1.5200000000000002e-05, 'epoch': 0.72}\n"
     ]
    },
    {
     "name": "stderr",
     "output_type": "stream",
     "text": [
      " 24%|██▍       | 730/3000 [07:31<22:24,  1.69it/s]"
     ]
    },
    {
     "name": "stdout",
     "output_type": "stream",
     "text": [
      "{'loss': 2.0865, 'grad_norm': 4.836508750915527, 'learning_rate': 1.5133333333333335e-05, 'epoch': 0.73}\n"
     ]
    },
    {
     "name": "stderr",
     "output_type": "stream",
     "text": [
      " 25%|██▍       | 740/3000 [07:37<23:08,  1.63it/s]"
     ]
    },
    {
     "name": "stdout",
     "output_type": "stream",
     "text": [
      "{'loss': 1.9969, 'grad_norm': 5.0001373291015625, 'learning_rate': 1.5066666666666668e-05, 'epoch': 0.74}\n"
     ]
    },
    {
     "name": "stderr",
     "output_type": "stream",
     "text": [
      " 25%|██▌       | 750/3000 [07:43<23:51,  1.57it/s]"
     ]
    },
    {
     "name": "stdout",
     "output_type": "stream",
     "text": [
      "{'loss': 2.1679, 'grad_norm': 7.521150588989258, 'learning_rate': 1.5000000000000002e-05, 'epoch': 0.75}\n"
     ]
    },
    {
     "name": "stderr",
     "output_type": "stream",
     "text": [
      " 25%|██▌       | 760/3000 [07:49<22:07,  1.69it/s]"
     ]
    },
    {
     "name": "stdout",
     "output_type": "stream",
     "text": [
      "{'loss': 2.0331, 'grad_norm': 3.9060745239257812, 'learning_rate': 1.4933333333333335e-05, 'epoch': 0.76}\n"
     ]
    },
    {
     "name": "stderr",
     "output_type": "stream",
     "text": [
      " 26%|██▌       | 770/3000 [07:55<22:09,  1.68it/s]"
     ]
    },
    {
     "name": "stdout",
     "output_type": "stream",
     "text": [
      "{'loss': 2.1014, 'grad_norm': 6.022496700286865, 'learning_rate': 1.4866666666666668e-05, 'epoch': 0.77}\n"
     ]
    },
    {
     "name": "stderr",
     "output_type": "stream",
     "text": [
      " 26%|██▌       | 780/3000 [08:01<22:08,  1.67it/s]"
     ]
    },
    {
     "name": "stdout",
     "output_type": "stream",
     "text": [
      "{'loss': 1.9429, 'grad_norm': 4.306221961975098, 'learning_rate': 1.48e-05, 'epoch': 0.78}\n"
     ]
    },
    {
     "name": "stderr",
     "output_type": "stream",
     "text": [
      " 26%|██▋       | 790/3000 [08:07<21:52,  1.68it/s]"
     ]
    },
    {
     "name": "stdout",
     "output_type": "stream",
     "text": [
      "{'loss': 2.0314, 'grad_norm': 4.492798328399658, 'learning_rate': 1.4733333333333335e-05, 'epoch': 0.79}\n"
     ]
    },
    {
     "name": "stderr",
     "output_type": "stream",
     "text": [
      " 27%|██▋       | 800/3000 [08:13<22:25,  1.64it/s]"
     ]
    },
    {
     "name": "stdout",
     "output_type": "stream",
     "text": [
      "{'loss': 2.0862, 'grad_norm': 7.2188191413879395, 'learning_rate': 1.4666666666666666e-05, 'epoch': 0.8}\n"
     ]
    },
    {
     "name": "stderr",
     "output_type": "stream",
     "text": [
      " 27%|██▋       | 810/3000 [08:20<22:00,  1.66it/s]"
     ]
    },
    {
     "name": "stdout",
     "output_type": "stream",
     "text": [
      "{'loss': 2.0967, 'grad_norm': 5.62614107131958, 'learning_rate': 1.46e-05, 'epoch': 0.81}\n"
     ]
    },
    {
     "name": "stderr",
     "output_type": "stream",
     "text": [
      " 27%|██▋       | 820/3000 [08:26<21:51,  1.66it/s]"
     ]
    },
    {
     "name": "stdout",
     "output_type": "stream",
     "text": [
      "{'loss': 1.955, 'grad_norm': 3.9320051670074463, 'learning_rate': 1.4533333333333335e-05, 'epoch': 0.82}\n"
     ]
    },
    {
     "name": "stderr",
     "output_type": "stream",
     "text": [
      " 28%|██▊       | 830/3000 [08:32<21:22,  1.69it/s]"
     ]
    },
    {
     "name": "stdout",
     "output_type": "stream",
     "text": [
      "{'loss': 2.0952, 'grad_norm': 7.729252815246582, 'learning_rate': 1.4466666666666668e-05, 'epoch': 0.83}\n"
     ]
    },
    {
     "name": "stderr",
     "output_type": "stream",
     "text": [
      " 28%|██▊       | 840/3000 [08:38<22:43,  1.58it/s]"
     ]
    },
    {
     "name": "stdout",
     "output_type": "stream",
     "text": [
      "{'loss': 2.1741, 'grad_norm': 5.401730060577393, 'learning_rate': 1.4400000000000001e-05, 'epoch': 0.84}\n"
     ]
    },
    {
     "name": "stderr",
     "output_type": "stream",
     "text": [
      " 28%|██▊       | 850/3000 [08:44<21:41,  1.65it/s]"
     ]
    },
    {
     "name": "stdout",
     "output_type": "stream",
     "text": [
      "{'loss': 1.9638, 'grad_norm': 5.128213405609131, 'learning_rate': 1.4333333333333334e-05, 'epoch': 0.85}\n"
     ]
    },
    {
     "name": "stderr",
     "output_type": "stream",
     "text": [
      " 29%|██▊       | 860/3000 [08:50<21:35,  1.65it/s]"
     ]
    },
    {
     "name": "stdout",
     "output_type": "stream",
     "text": [
      "{'loss': 2.0234, 'grad_norm': 6.832418441772461, 'learning_rate': 1.4266666666666668e-05, 'epoch': 0.86}\n"
     ]
    },
    {
     "name": "stderr",
     "output_type": "stream",
     "text": [
      " 29%|██▉       | 870/3000 [08:56<21:18,  1.67it/s]"
     ]
    },
    {
     "name": "stdout",
     "output_type": "stream",
     "text": [
      "{'loss': 1.905, 'grad_norm': 5.346518039703369, 'learning_rate': 1.4200000000000001e-05, 'epoch': 0.87}\n"
     ]
    },
    {
     "name": "stderr",
     "output_type": "stream",
     "text": [
      " 29%|██▉       | 880/3000 [09:02<21:51,  1.62it/s]"
     ]
    },
    {
     "name": "stdout",
     "output_type": "stream",
     "text": [
      "{'loss': 1.9927, 'grad_norm': 7.306212902069092, 'learning_rate': 1.4133333333333334e-05, 'epoch': 0.88}\n"
     ]
    },
    {
     "name": "stderr",
     "output_type": "stream",
     "text": [
      " 30%|██▉       | 890/3000 [09:08<21:06,  1.67it/s]"
     ]
    },
    {
     "name": "stdout",
     "output_type": "stream",
     "text": [
      "{'loss': 1.8857, 'grad_norm': 5.682937145233154, 'learning_rate': 1.4066666666666669e-05, 'epoch': 0.89}\n"
     ]
    },
    {
     "name": "stderr",
     "output_type": "stream",
     "text": [
      " 30%|███       | 900/3000 [09:14<20:53,  1.68it/s]"
     ]
    },
    {
     "name": "stdout",
     "output_type": "stream",
     "text": [
      "{'loss': 1.9184, 'grad_norm': 6.096678256988525, 'learning_rate': 1.4e-05, 'epoch': 0.9}\n"
     ]
    },
    {
     "name": "stderr",
     "output_type": "stream",
     "text": [
      " 30%|███       | 910/3000 [09:20<20:46,  1.68it/s]"
     ]
    },
    {
     "name": "stdout",
     "output_type": "stream",
     "text": [
      "{'loss': 2.183, 'grad_norm': 9.174843788146973, 'learning_rate': 1.3933333333333334e-05, 'epoch': 0.91}\n"
     ]
    },
    {
     "name": "stderr",
     "output_type": "stream",
     "text": [
      " 31%|███       | 920/3000 [09:26<20:58,  1.65it/s]"
     ]
    },
    {
     "name": "stdout",
     "output_type": "stream",
     "text": [
      "{'loss': 2.1346, 'grad_norm': 5.581978797912598, 'learning_rate': 1.3866666666666669e-05, 'epoch': 0.92}\n"
     ]
    },
    {
     "name": "stderr",
     "output_type": "stream",
     "text": [
      " 31%|███       | 930/3000 [09:32<20:57,  1.65it/s]"
     ]
    },
    {
     "name": "stdout",
     "output_type": "stream",
     "text": [
      "{'loss': 2.0767, 'grad_norm': 8.186237335205078, 'learning_rate': 1.38e-05, 'epoch': 0.93}\n"
     ]
    },
    {
     "name": "stderr",
     "output_type": "stream",
     "text": [
      " 31%|███▏      | 940/3000 [09:39<21:16,  1.61it/s]"
     ]
    },
    {
     "name": "stdout",
     "output_type": "stream",
     "text": [
      "{'loss': 2.0392, 'grad_norm': 8.018896102905273, 'learning_rate': 1.3733333333333335e-05, 'epoch': 0.94}\n"
     ]
    },
    {
     "name": "stderr",
     "output_type": "stream",
     "text": [
      " 32%|███▏      | 950/3000 [09:45<20:36,  1.66it/s]"
     ]
    },
    {
     "name": "stdout",
     "output_type": "stream",
     "text": [
      "{'loss': 1.864, 'grad_norm': 5.862875461578369, 'learning_rate': 1.3666666666666667e-05, 'epoch': 0.95}\n"
     ]
    },
    {
     "name": "stderr",
     "output_type": "stream",
     "text": [
      " 32%|███▏      | 960/3000 [09:51<20:37,  1.65it/s]"
     ]
    },
    {
     "name": "stdout",
     "output_type": "stream",
     "text": [
      "{'loss': 2.0101, 'grad_norm': 5.5074005126953125, 'learning_rate': 1.3600000000000002e-05, 'epoch': 0.96}\n"
     ]
    },
    {
     "name": "stderr",
     "output_type": "stream",
     "text": [
      " 32%|███▏      | 970/3000 [09:57<21:26,  1.58it/s]"
     ]
    },
    {
     "name": "stdout",
     "output_type": "stream",
     "text": [
      "{'loss': 2.0768, 'grad_norm': 11.28966236114502, 'learning_rate': 1.3533333333333333e-05, 'epoch': 0.97}\n"
     ]
    },
    {
     "name": "stderr",
     "output_type": "stream",
     "text": [
      " 33%|███▎      | 980/3000 [10:03<20:16,  1.66it/s]"
     ]
    },
    {
     "name": "stdout",
     "output_type": "stream",
     "text": [
      "{'loss': 1.9903, 'grad_norm': 7.122635364532471, 'learning_rate': 1.3466666666666668e-05, 'epoch': 0.98}\n"
     ]
    },
    {
     "name": "stderr",
     "output_type": "stream",
     "text": [
      " 33%|███▎      | 990/3000 [10:09<20:17,  1.65it/s]"
     ]
    },
    {
     "name": "stdout",
     "output_type": "stream",
     "text": [
      "{'loss': 1.8964, 'grad_norm': 9.361948013305664, 'learning_rate': 1.3400000000000002e-05, 'epoch': 0.99}\n"
     ]
    },
    {
     "name": "stderr",
     "output_type": "stream",
     "text": [
      " 33%|███▎      | 1000/3000 [10:15<19:51,  1.68it/s]"
     ]
    },
    {
     "name": "stdout",
     "output_type": "stream",
     "text": [
      "{'loss': 2.054, 'grad_norm': 5.56491231918335, 'learning_rate': 1.3333333333333333e-05, 'epoch': 1.0}\n"
     ]
    },
    {
     "name": "stderr",
     "output_type": "stream",
     "text": [
      "/Users/nathanpollet/Desktop/mistralAI/mistral_final/lib/python3.9/site-packages/sklearn/metrics/_classification.py:1565: UndefinedMetricWarning: Precision is ill-defined and being set to 0.0 in labels with no predicted samples. Use `zero_division` parameter to control this behavior.\n",
      "  _warn_prf(average, modifier, f\"{metric.capitalize()} is\", len(result))\n",
      "/Users/nathanpollet/Desktop/mistralAI/mistral_final/lib/python3.9/site-packages/sklearn/metrics/_classification.py:1565: UndefinedMetricWarning: Precision is ill-defined and being set to 0.0 in labels with no predicted samples. Use `zero_division` parameter to control this behavior.\n",
      "  _warn_prf(average, modifier, f\"{metric.capitalize()} is\", len(result))\n",
      "/Users/nathanpollet/Desktop/mistralAI/mistral_final/lib/python3.9/site-packages/sklearn/metrics/_classification.py:1565: UndefinedMetricWarning: Precision is ill-defined and being set to 0.0 in labels with no predicted samples. Use `zero_division` parameter to control this behavior.\n",
      "  _warn_prf(average, modifier, f\"{metric.capitalize()} is\", len(result))\n",
      "                                                   \n",
      " 33%|███▎      | 1000/3000 [10:58<19:51,  1.68it/s]"
     ]
    },
    {
     "name": "stdout",
     "output_type": "stream",
     "text": [
      "{'eval_loss': 1.9823569059371948, 'eval_accuracy': 0.30625, 'eval_macro_f1': 0.22858524501556293, 'eval_weighted_f1': 0.29819690470537985, 'eval_runtime': 42.6398, 'eval_samples_per_second': 93.809, 'eval_steps_per_second': 2.932, 'epoch': 1.0}\n"
     ]
    },
    {
     "name": "stderr",
     "output_type": "stream",
     "text": [
      " 34%|███▎      | 1010/3000 [11:06<37:54,  1.14s/it]  "
     ]
    },
    {
     "name": "stdout",
     "output_type": "stream",
     "text": [
      "{'loss': 1.8502, 'grad_norm': 5.863493919372559, 'learning_rate': 1.3266666666666668e-05, 'epoch': 1.01}\n"
     ]
    },
    {
     "name": "stderr",
     "output_type": "stream",
     "text": [
      " 34%|███▍      | 1020/3000 [11:12<20:40,  1.60it/s]"
     ]
    },
    {
     "name": "stdout",
     "output_type": "stream",
     "text": [
      "{'loss': 1.8858, 'grad_norm': 5.835988998413086, 'learning_rate': 1.3200000000000002e-05, 'epoch': 1.02}\n"
     ]
    },
    {
     "name": "stderr",
     "output_type": "stream",
     "text": [
      " 34%|███▍      | 1030/3000 [11:18<19:53,  1.65it/s]"
     ]
    },
    {
     "name": "stdout",
     "output_type": "stream",
     "text": [
      "{'loss': 1.7958, 'grad_norm': 8.07608413696289, 'learning_rate': 1.3133333333333334e-05, 'epoch': 1.03}\n"
     ]
    },
    {
     "name": "stderr",
     "output_type": "stream",
     "text": [
      " 35%|███▍      | 1040/3000 [11:24<19:58,  1.64it/s]"
     ]
    },
    {
     "name": "stdout",
     "output_type": "stream",
     "text": [
      "{'loss': 1.9408, 'grad_norm': 11.592534065246582, 'learning_rate': 1.3066666666666668e-05, 'epoch': 1.04}\n"
     ]
    },
    {
     "name": "stderr",
     "output_type": "stream",
     "text": [
      " 35%|███▌      | 1050/3000 [11:30<20:11,  1.61it/s]"
     ]
    },
    {
     "name": "stdout",
     "output_type": "stream",
     "text": [
      "{'loss': 1.9971, 'grad_norm': 5.629626274108887, 'learning_rate': 1.3000000000000001e-05, 'epoch': 1.05}\n"
     ]
    },
    {
     "name": "stderr",
     "output_type": "stream",
     "text": [
      " 35%|███▌      | 1060/3000 [11:37<19:44,  1.64it/s]"
     ]
    },
    {
     "name": "stdout",
     "output_type": "stream",
     "text": [
      "{'loss': 1.9589, 'grad_norm': 4.449641227722168, 'learning_rate': 1.2933333333333334e-05, 'epoch': 1.06}\n"
     ]
    },
    {
     "name": "stderr",
     "output_type": "stream",
     "text": [
      " 36%|███▌      | 1070/3000 [11:43<19:35,  1.64it/s]"
     ]
    },
    {
     "name": "stdout",
     "output_type": "stream",
     "text": [
      "{'loss': 1.7641, 'grad_norm': 3.0880980491638184, 'learning_rate': 1.2866666666666667e-05, 'epoch': 1.07}\n"
     ]
    },
    {
     "name": "stderr",
     "output_type": "stream",
     "text": [
      " 36%|███▌      | 1080/3000 [11:49<19:46,  1.62it/s]"
     ]
    },
    {
     "name": "stdout",
     "output_type": "stream",
     "text": [
      "{'loss': 2.0111, 'grad_norm': 5.977596282958984, 'learning_rate': 1.2800000000000001e-05, 'epoch': 1.08}\n"
     ]
    },
    {
     "name": "stderr",
     "output_type": "stream",
     "text": [
      " 36%|███▋      | 1090/3000 [11:55<19:27,  1.64it/s]"
     ]
    },
    {
     "name": "stdout",
     "output_type": "stream",
     "text": [
      "{'loss': 1.9982, 'grad_norm': 7.8501129150390625, 'learning_rate': 1.2733333333333336e-05, 'epoch': 1.09}\n"
     ]
    },
    {
     "name": "stderr",
     "output_type": "stream",
     "text": [
      " 37%|███▋      | 1100/3000 [12:01<19:01,  1.66it/s]"
     ]
    },
    {
     "name": "stdout",
     "output_type": "stream",
     "text": [
      "{'loss': 1.9283, 'grad_norm': 4.404535293579102, 'learning_rate': 1.2666666666666667e-05, 'epoch': 1.1}\n"
     ]
    },
    {
     "name": "stderr",
     "output_type": "stream",
     "text": [
      " 37%|███▋      | 1110/3000 [12:07<18:53,  1.67it/s]"
     ]
    },
    {
     "name": "stdout",
     "output_type": "stream",
     "text": [
      "{'loss': 2.0733, 'grad_norm': 9.16597843170166, 'learning_rate': 1.2600000000000001e-05, 'epoch': 1.11}\n"
     ]
    },
    {
     "name": "stderr",
     "output_type": "stream",
     "text": [
      " 37%|███▋      | 1120/3000 [12:13<18:52,  1.66it/s]"
     ]
    },
    {
     "name": "stdout",
     "output_type": "stream",
     "text": [
      "{'loss': 1.9319, 'grad_norm': 7.589605808258057, 'learning_rate': 1.2533333333333336e-05, 'epoch': 1.12}\n"
     ]
    },
    {
     "name": "stderr",
     "output_type": "stream",
     "text": [
      " 38%|███▊      | 1130/3000 [12:20<19:09,  1.63it/s]"
     ]
    },
    {
     "name": "stdout",
     "output_type": "stream",
     "text": [
      "{'loss': 2.0314, 'grad_norm': 7.554965972900391, 'learning_rate': 1.2466666666666667e-05, 'epoch': 1.13}\n"
     ]
    },
    {
     "name": "stderr",
     "output_type": "stream",
     "text": [
      " 38%|███▊      | 1140/3000 [12:26<18:32,  1.67it/s]"
     ]
    },
    {
     "name": "stdout",
     "output_type": "stream",
     "text": [
      "{'loss': 2.0196, 'grad_norm': 5.4203104972839355, 'learning_rate': 1.2400000000000002e-05, 'epoch': 1.14}\n"
     ]
    },
    {
     "name": "stderr",
     "output_type": "stream",
     "text": [
      " 38%|███▊      | 1150/3000 [12:32<18:13,  1.69it/s]"
     ]
    },
    {
     "name": "stdout",
     "output_type": "stream",
     "text": [
      "{'loss': 1.9728, 'grad_norm': 5.200467586517334, 'learning_rate': 1.2333333333333334e-05, 'epoch': 1.15}\n"
     ]
    },
    {
     "name": "stderr",
     "output_type": "stream",
     "text": [
      " 39%|███▊      | 1160/3000 [12:38<18:26,  1.66it/s]"
     ]
    },
    {
     "name": "stdout",
     "output_type": "stream",
     "text": [
      "{'loss': 1.9512, 'grad_norm': 7.18501091003418, 'learning_rate': 1.2266666666666667e-05, 'epoch': 1.16}\n"
     ]
    },
    {
     "name": "stderr",
     "output_type": "stream",
     "text": [
      " 39%|███▉      | 1170/3000 [12:44<18:28,  1.65it/s]"
     ]
    },
    {
     "name": "stdout",
     "output_type": "stream",
     "text": [
      "{'loss': 1.9907, 'grad_norm': 8.819061279296875, 'learning_rate': 1.22e-05, 'epoch': 1.17}\n"
     ]
    },
    {
     "name": "stderr",
     "output_type": "stream",
     "text": [
      " 39%|███▉      | 1180/3000 [12:50<18:07,  1.67it/s]"
     ]
    },
    {
     "name": "stdout",
     "output_type": "stream",
     "text": [
      "{'loss': 1.7452, 'grad_norm': 4.562429904937744, 'learning_rate': 1.2133333333333335e-05, 'epoch': 1.18}\n"
     ]
    },
    {
     "name": "stderr",
     "output_type": "stream",
     "text": [
      " 40%|███▉      | 1190/3000 [12:56<17:49,  1.69it/s]"
     ]
    },
    {
     "name": "stdout",
     "output_type": "stream",
     "text": [
      "{'loss': 1.7962, 'grad_norm': 8.7090482711792, 'learning_rate': 1.206666666666667e-05, 'epoch': 1.19}\n"
     ]
    },
    {
     "name": "stderr",
     "output_type": "stream",
     "text": [
      " 40%|████      | 1200/3000 [13:02<17:54,  1.67it/s]"
     ]
    },
    {
     "name": "stdout",
     "output_type": "stream",
     "text": [
      "{'loss': 1.9555, 'grad_norm': 4.909654140472412, 'learning_rate': 1.2e-05, 'epoch': 1.2}\n"
     ]
    },
    {
     "name": "stderr",
     "output_type": "stream",
     "text": [
      " 40%|████      | 1210/3000 [13:08<18:00,  1.66it/s]"
     ]
    },
    {
     "name": "stdout",
     "output_type": "stream",
     "text": [
      "{'loss': 1.9354, 'grad_norm': 5.090780735015869, 'learning_rate': 1.1933333333333335e-05, 'epoch': 1.21}\n"
     ]
    },
    {
     "name": "stderr",
     "output_type": "stream",
     "text": [
      " 41%|████      | 1220/3000 [13:14<17:53,  1.66it/s]"
     ]
    },
    {
     "name": "stdout",
     "output_type": "stream",
     "text": [
      "{'loss': 1.8371, 'grad_norm': 5.628774166107178, 'learning_rate': 1.186666666666667e-05, 'epoch': 1.22}\n"
     ]
    },
    {
     "name": "stderr",
     "output_type": "stream",
     "text": [
      " 41%|████      | 1230/3000 [13:20<17:48,  1.66it/s]"
     ]
    },
    {
     "name": "stdout",
     "output_type": "stream",
     "text": [
      "{'loss': 1.9811, 'grad_norm': 9.809450149536133, 'learning_rate': 1.18e-05, 'epoch': 1.23}\n"
     ]
    },
    {
     "name": "stderr",
     "output_type": "stream",
     "text": [
      " 41%|████▏     | 1240/3000 [13:26<17:30,  1.68it/s]"
     ]
    },
    {
     "name": "stdout",
     "output_type": "stream",
     "text": [
      "{'loss': 1.7641, 'grad_norm': 5.220813274383545, 'learning_rate': 1.1733333333333335e-05, 'epoch': 1.24}\n"
     ]
    },
    {
     "name": "stderr",
     "output_type": "stream",
     "text": [
      " 42%|████▏     | 1250/3000 [13:32<17:09,  1.70it/s]"
     ]
    },
    {
     "name": "stdout",
     "output_type": "stream",
     "text": [
      "{'loss': 1.8864, 'grad_norm': 5.697664737701416, 'learning_rate': 1.1666666666666668e-05, 'epoch': 1.25}\n"
     ]
    },
    {
     "name": "stderr",
     "output_type": "stream",
     "text": [
      " 42%|████▏     | 1260/3000 [13:38<17:42,  1.64it/s]"
     ]
    },
    {
     "name": "stdout",
     "output_type": "stream",
     "text": [
      "{'loss': 1.8771, 'grad_norm': 7.932008743286133, 'learning_rate': 1.16e-05, 'epoch': 1.26}\n"
     ]
    },
    {
     "name": "stderr",
     "output_type": "stream",
     "text": [
      " 42%|████▏     | 1270/3000 [13:44<17:44,  1.63it/s]"
     ]
    },
    {
     "name": "stdout",
     "output_type": "stream",
     "text": [
      "{'loss': 1.8199, 'grad_norm': 7.8523125648498535, 'learning_rate': 1.1533333333333334e-05, 'epoch': 1.27}\n"
     ]
    },
    {
     "name": "stderr",
     "output_type": "stream",
     "text": [
      " 43%|████▎     | 1280/3000 [13:50<17:22,  1.65it/s]"
     ]
    },
    {
     "name": "stdout",
     "output_type": "stream",
     "text": [
      "{'loss': 1.9813, 'grad_norm': 12.114872932434082, 'learning_rate': 1.1466666666666668e-05, 'epoch': 1.28}\n"
     ]
    },
    {
     "name": "stderr",
     "output_type": "stream",
     "text": [
      " 43%|████▎     | 1290/3000 [13:56<17:12,  1.66it/s]"
     ]
    },
    {
     "name": "stdout",
     "output_type": "stream",
     "text": [
      "{'loss': 2.0056, 'grad_norm': 13.505431175231934, 'learning_rate': 1.14e-05, 'epoch': 1.29}\n"
     ]
    },
    {
     "name": "stderr",
     "output_type": "stream",
     "text": [
      " 43%|████▎     | 1300/3000 [14:02<17:00,  1.67it/s]"
     ]
    },
    {
     "name": "stdout",
     "output_type": "stream",
     "text": [
      "{'loss': 1.8934, 'grad_norm': 6.487798690795898, 'learning_rate': 1.1333333333333334e-05, 'epoch': 1.3}\n"
     ]
    },
    {
     "name": "stderr",
     "output_type": "stream",
     "text": [
      " 44%|████▎     | 1310/3000 [14:08<16:37,  1.69it/s]"
     ]
    },
    {
     "name": "stdout",
     "output_type": "stream",
     "text": [
      "{'loss': 1.6999, 'grad_norm': 6.597742557525635, 'learning_rate': 1.1266666666666668e-05, 'epoch': 1.31}\n"
     ]
    },
    {
     "name": "stderr",
     "output_type": "stream",
     "text": [
      " 44%|████▍     | 1320/3000 [14:14<16:35,  1.69it/s]"
     ]
    },
    {
     "name": "stdout",
     "output_type": "stream",
     "text": [
      "{'loss': 1.9111, 'grad_norm': 4.5382513999938965, 'learning_rate': 1.1200000000000001e-05, 'epoch': 1.32}\n"
     ]
    },
    {
     "name": "stderr",
     "output_type": "stream",
     "text": [
      " 44%|████▍     | 1330/3000 [14:20<16:23,  1.70it/s]"
     ]
    },
    {
     "name": "stdout",
     "output_type": "stream",
     "text": [
      "{'loss': 1.7877, 'grad_norm': 6.487301349639893, 'learning_rate': 1.1133333333333334e-05, 'epoch': 1.33}\n"
     ]
    },
    {
     "name": "stderr",
     "output_type": "stream",
     "text": [
      " 45%|████▍     | 1340/3000 [14:26<16:29,  1.68it/s]"
     ]
    },
    {
     "name": "stdout",
     "output_type": "stream",
     "text": [
      "{'loss': 1.7852, 'grad_norm': 7.367372512817383, 'learning_rate': 1.1066666666666669e-05, 'epoch': 1.34}\n"
     ]
    },
    {
     "name": "stderr",
     "output_type": "stream",
     "text": [
      " 45%|████▌     | 1350/3000 [14:32<16:31,  1.66it/s]"
     ]
    },
    {
     "name": "stdout",
     "output_type": "stream",
     "text": [
      "{'loss': 1.9272, 'grad_norm': 4.90889310836792, 'learning_rate': 1.1000000000000001e-05, 'epoch': 1.35}\n"
     ]
    },
    {
     "name": "stderr",
     "output_type": "stream",
     "text": [
      " 45%|████▌     | 1360/3000 [14:38<16:04,  1.70it/s]"
     ]
    },
    {
     "name": "stdout",
     "output_type": "stream",
     "text": [
      "{'loss': 1.813, 'grad_norm': 7.08887243270874, 'learning_rate': 1.0933333333333334e-05, 'epoch': 1.36}\n"
     ]
    },
    {
     "name": "stderr",
     "output_type": "stream",
     "text": [
      " 46%|████▌     | 1370/3000 [14:44<16:20,  1.66it/s]"
     ]
    },
    {
     "name": "stdout",
     "output_type": "stream",
     "text": [
      "{'loss': 1.953, 'grad_norm': 5.369739055633545, 'learning_rate': 1.0866666666666667e-05, 'epoch': 1.37}\n"
     ]
    },
    {
     "name": "stderr",
     "output_type": "stream",
     "text": [
      " 46%|████▌     | 1380/3000 [14:50<16:15,  1.66it/s]"
     ]
    },
    {
     "name": "stdout",
     "output_type": "stream",
     "text": [
      "{'loss': 1.6768, 'grad_norm': 5.738529682159424, 'learning_rate': 1.0800000000000002e-05, 'epoch': 1.38}\n"
     ]
    },
    {
     "name": "stderr",
     "output_type": "stream",
     "text": [
      " 46%|████▋     | 1390/3000 [14:56<15:58,  1.68it/s]"
     ]
    },
    {
     "name": "stdout",
     "output_type": "stream",
     "text": [
      "{'loss': 1.8371, 'grad_norm': 7.108755588531494, 'learning_rate': 1.0733333333333333e-05, 'epoch': 1.39}\n"
     ]
    },
    {
     "name": "stderr",
     "output_type": "stream",
     "text": [
      " 47%|████▋     | 1400/3000 [15:02<16:06,  1.66it/s]"
     ]
    },
    {
     "name": "stdout",
     "output_type": "stream",
     "text": [
      "{'loss': 2.0733, 'grad_norm': 6.751580238342285, 'learning_rate': 1.0666666666666667e-05, 'epoch': 1.4}\n"
     ]
    },
    {
     "name": "stderr",
     "output_type": "stream",
     "text": [
      " 47%|████▋     | 1410/3000 [15:08<16:12,  1.64it/s]"
     ]
    },
    {
     "name": "stdout",
     "output_type": "stream",
     "text": [
      "{'loss': 1.7874, 'grad_norm': 7.5222673416137695, 'learning_rate': 1.0600000000000002e-05, 'epoch': 1.41}\n"
     ]
    },
    {
     "name": "stderr",
     "output_type": "stream",
     "text": [
      " 47%|████▋     | 1420/3000 [15:14<15:39,  1.68it/s]"
     ]
    },
    {
     "name": "stdout",
     "output_type": "stream",
     "text": [
      "{'loss': 1.9533, 'grad_norm': 5.891559600830078, 'learning_rate': 1.0533333333333333e-05, 'epoch': 1.42}\n"
     ]
    },
    {
     "name": "stderr",
     "output_type": "stream",
     "text": [
      " 48%|████▊     | 1430/3000 [15:20<16:11,  1.62it/s]"
     ]
    },
    {
     "name": "stdout",
     "output_type": "stream",
     "text": [
      "{'loss': 1.9328, 'grad_norm': 9.144116401672363, 'learning_rate': 1.0466666666666668e-05, 'epoch': 1.43}\n"
     ]
    },
    {
     "name": "stderr",
     "output_type": "stream",
     "text": [
      " 48%|████▊     | 1440/3000 [15:26<16:18,  1.59it/s]"
     ]
    },
    {
     "name": "stdout",
     "output_type": "stream",
     "text": [
      "{'loss': 1.8903, 'grad_norm': 6.331881046295166, 'learning_rate': 1.04e-05, 'epoch': 1.44}\n"
     ]
    },
    {
     "name": "stderr",
     "output_type": "stream",
     "text": [
      " 48%|████▊     | 1450/3000 [15:32<15:35,  1.66it/s]"
     ]
    },
    {
     "name": "stdout",
     "output_type": "stream",
     "text": [
      "{'loss': 1.9059, 'grad_norm': 10.57801342010498, 'learning_rate': 1.0333333333333335e-05, 'epoch': 1.45}\n"
     ]
    },
    {
     "name": "stderr",
     "output_type": "stream",
     "text": [
      " 49%|████▊     | 1460/3000 [15:38<15:59,  1.61it/s]"
     ]
    },
    {
     "name": "stdout",
     "output_type": "stream",
     "text": [
      "{'loss': 1.8703, 'grad_norm': 5.302905082702637, 'learning_rate': 1.0266666666666668e-05, 'epoch': 1.46}\n"
     ]
    },
    {
     "name": "stderr",
     "output_type": "stream",
     "text": [
      " 49%|████▉     | 1470/3000 [15:44<15:18,  1.67it/s]"
     ]
    },
    {
     "name": "stdout",
     "output_type": "stream",
     "text": [
      "{'loss': 1.8128, 'grad_norm': 10.018414497375488, 'learning_rate': 1.02e-05, 'epoch': 1.47}\n"
     ]
    },
    {
     "name": "stderr",
     "output_type": "stream",
     "text": [
      " 49%|████▉     | 1480/3000 [15:50<15:12,  1.67it/s]"
     ]
    },
    {
     "name": "stdout",
     "output_type": "stream",
     "text": [
      "{'loss': 2.0206, 'grad_norm': 5.061209201812744, 'learning_rate': 1.0133333333333335e-05, 'epoch': 1.48}\n"
     ]
    },
    {
     "name": "stderr",
     "output_type": "stream",
     "text": [
      " 50%|████▉     | 1490/3000 [15:56<15:08,  1.66it/s]"
     ]
    },
    {
     "name": "stdout",
     "output_type": "stream",
     "text": [
      "{'loss': 1.9714, 'grad_norm': 5.473067283630371, 'learning_rate': 1.0066666666666666e-05, 'epoch': 1.49}\n"
     ]
    },
    {
     "name": "stderr",
     "output_type": "stream",
     "text": [
      " 50%|█████     | 1500/3000 [16:02<14:59,  1.67it/s]"
     ]
    },
    {
     "name": "stdout",
     "output_type": "stream",
     "text": [
      "{'loss': 1.8316, 'grad_norm': 9.425240516662598, 'learning_rate': 1e-05, 'epoch': 1.5}\n"
     ]
    },
    {
     "name": "stderr",
     "output_type": "stream",
     "text": [
      " 50%|█████     | 1510/3000 [16:09<15:26,  1.61it/s]"
     ]
    },
    {
     "name": "stdout",
     "output_type": "stream",
     "text": [
      "{'loss': 1.9495, 'grad_norm': 9.189141273498535, 'learning_rate': 9.933333333333334e-06, 'epoch': 1.51}\n"
     ]
    },
    {
     "name": "stderr",
     "output_type": "stream",
     "text": [
      " 51%|█████     | 1520/3000 [16:15<15:50,  1.56it/s]"
     ]
    },
    {
     "name": "stdout",
     "output_type": "stream",
     "text": [
      "{'loss': 1.8019, 'grad_norm': 8.506806373596191, 'learning_rate': 9.866666666666668e-06, 'epoch': 1.52}\n"
     ]
    },
    {
     "name": "stderr",
     "output_type": "stream",
     "text": [
      " 51%|█████     | 1530/3000 [16:21<14:47,  1.66it/s]"
     ]
    },
    {
     "name": "stdout",
     "output_type": "stream",
     "text": [
      "{'loss': 1.8717, 'grad_norm': 8.264008522033691, 'learning_rate': 9.800000000000001e-06, 'epoch': 1.53}\n"
     ]
    },
    {
     "name": "stderr",
     "output_type": "stream",
     "text": [
      " 51%|█████▏    | 1540/3000 [16:27<15:11,  1.60it/s]"
     ]
    },
    {
     "name": "stdout",
     "output_type": "stream",
     "text": [
      "{'loss': 1.9049, 'grad_norm': 11.184906959533691, 'learning_rate': 9.733333333333334e-06, 'epoch': 1.54}\n"
     ]
    },
    {
     "name": "stderr",
     "output_type": "stream",
     "text": [
      " 52%|█████▏    | 1550/3000 [16:33<14:26,  1.67it/s]"
     ]
    },
    {
     "name": "stdout",
     "output_type": "stream",
     "text": [
      "{'loss': 1.7795, 'grad_norm': 6.761251926422119, 'learning_rate': 9.666666666666667e-06, 'epoch': 1.55}\n"
     ]
    },
    {
     "name": "stderr",
     "output_type": "stream",
     "text": [
      " 52%|█████▏    | 1560/3000 [16:40<14:37,  1.64it/s]"
     ]
    },
    {
     "name": "stdout",
     "output_type": "stream",
     "text": [
      "{'loss': 1.9748, 'grad_norm': 6.867840766906738, 'learning_rate': 9.600000000000001e-06, 'epoch': 1.56}\n"
     ]
    },
    {
     "name": "stderr",
     "output_type": "stream",
     "text": [
      " 52%|█████▏    | 1570/3000 [16:46<14:20,  1.66it/s]"
     ]
    },
    {
     "name": "stdout",
     "output_type": "stream",
     "text": [
      "{'loss': 1.9479, 'grad_norm': 7.629475116729736, 'learning_rate': 9.533333333333334e-06, 'epoch': 1.57}\n"
     ]
    },
    {
     "name": "stderr",
     "output_type": "stream",
     "text": [
      " 53%|█████▎    | 1580/3000 [16:52<14:46,  1.60it/s]"
     ]
    },
    {
     "name": "stdout",
     "output_type": "stream",
     "text": [
      "{'loss': 1.8936, 'grad_norm': 6.937442779541016, 'learning_rate': 9.466666666666667e-06, 'epoch': 1.58}\n"
     ]
    },
    {
     "name": "stderr",
     "output_type": "stream",
     "text": [
      " 53%|█████▎    | 1590/3000 [16:58<14:12,  1.65it/s]"
     ]
    },
    {
     "name": "stdout",
     "output_type": "stream",
     "text": [
      "{'loss': 2.0557, 'grad_norm': 8.819276809692383, 'learning_rate': 9.4e-06, 'epoch': 1.59}\n"
     ]
    },
    {
     "name": "stderr",
     "output_type": "stream",
     "text": [
      " 53%|█████▎    | 1600/3000 [17:04<14:35,  1.60it/s]"
     ]
    },
    {
     "name": "stdout",
     "output_type": "stream",
     "text": [
      "{'loss': 1.7087, 'grad_norm': 4.641712665557861, 'learning_rate': 9.333333333333334e-06, 'epoch': 1.6}\n"
     ]
    },
    {
     "name": "stderr",
     "output_type": "stream",
     "text": [
      " 54%|█████▎    | 1610/3000 [17:10<14:40,  1.58it/s]"
     ]
    },
    {
     "name": "stdout",
     "output_type": "stream",
     "text": [
      "{'loss': 1.7112, 'grad_norm': 5.773305892944336, 'learning_rate': 9.266666666666667e-06, 'epoch': 1.61}\n"
     ]
    },
    {
     "name": "stderr",
     "output_type": "stream",
     "text": [
      " 54%|█████▍    | 1620/3000 [17:16<14:11,  1.62it/s]"
     ]
    },
    {
     "name": "stdout",
     "output_type": "stream",
     "text": [
      "{'loss': 1.739, 'grad_norm': 6.515130043029785, 'learning_rate': 9.200000000000002e-06, 'epoch': 1.62}\n"
     ]
    },
    {
     "name": "stderr",
     "output_type": "stream",
     "text": [
      " 54%|█████▍    | 1630/3000 [17:22<13:37,  1.68it/s]"
     ]
    },
    {
     "name": "stdout",
     "output_type": "stream",
     "text": [
      "{'loss': 1.8891, 'grad_norm': 13.385921478271484, 'learning_rate': 9.133333333333335e-06, 'epoch': 1.63}\n"
     ]
    },
    {
     "name": "stderr",
     "output_type": "stream",
     "text": [
      " 55%|█████▍    | 1640/3000 [17:28<13:57,  1.62it/s]"
     ]
    },
    {
     "name": "stdout",
     "output_type": "stream",
     "text": [
      "{'loss': 1.7042, 'grad_norm': 5.573990345001221, 'learning_rate': 9.066666666666667e-06, 'epoch': 1.64}\n"
     ]
    },
    {
     "name": "stderr",
     "output_type": "stream",
     "text": [
      " 55%|█████▌    | 1650/3000 [17:35<14:00,  1.61it/s]"
     ]
    },
    {
     "name": "stdout",
     "output_type": "stream",
     "text": [
      "{'loss': 2.0668, 'grad_norm': 9.757883071899414, 'learning_rate': 9e-06, 'epoch': 1.65}\n"
     ]
    },
    {
     "name": "stderr",
     "output_type": "stream",
     "text": [
      " 55%|█████▌    | 1660/3000 [17:41<13:50,  1.61it/s]"
     ]
    },
    {
     "name": "stdout",
     "output_type": "stream",
     "text": [
      "{'loss': 1.9685, 'grad_norm': 5.545691967010498, 'learning_rate': 8.933333333333333e-06, 'epoch': 1.66}\n"
     ]
    },
    {
     "name": "stderr",
     "output_type": "stream",
     "text": [
      " 56%|█████▌    | 1670/3000 [17:47<13:22,  1.66it/s]"
     ]
    },
    {
     "name": "stdout",
     "output_type": "stream",
     "text": [
      "{'loss': 2.0309, 'grad_norm': 9.390759468078613, 'learning_rate': 8.866666666666668e-06, 'epoch': 1.67}\n"
     ]
    },
    {
     "name": "stderr",
     "output_type": "stream",
     "text": [
      " 56%|█████▌    | 1680/3000 [17:53<13:31,  1.63it/s]"
     ]
    },
    {
     "name": "stdout",
     "output_type": "stream",
     "text": [
      "{'loss': 1.7595, 'grad_norm': 10.236387252807617, 'learning_rate': 8.8e-06, 'epoch': 1.68}\n"
     ]
    },
    {
     "name": "stderr",
     "output_type": "stream",
     "text": [
      " 56%|█████▋    | 1690/3000 [17:59<13:13,  1.65it/s]"
     ]
    },
    {
     "name": "stdout",
     "output_type": "stream",
     "text": [
      "{'loss': 1.7616, 'grad_norm': 6.768287658691406, 'learning_rate': 8.733333333333333e-06, 'epoch': 1.69}\n"
     ]
    },
    {
     "name": "stderr",
     "output_type": "stream",
     "text": [
      " 57%|█████▋    | 1700/3000 [18:05<13:07,  1.65it/s]"
     ]
    },
    {
     "name": "stdout",
     "output_type": "stream",
     "text": [
      "{'loss': 1.8074, 'grad_norm': 7.915379524230957, 'learning_rate': 8.666666666666668e-06, 'epoch': 1.7}\n"
     ]
    },
    {
     "name": "stderr",
     "output_type": "stream",
     "text": [
      " 57%|█████▋    | 1710/3000 [18:11<12:53,  1.67it/s]"
     ]
    },
    {
     "name": "stdout",
     "output_type": "stream",
     "text": [
      "{'loss': 1.7184, 'grad_norm': 7.565346717834473, 'learning_rate': 8.6e-06, 'epoch': 1.71}\n"
     ]
    },
    {
     "name": "stderr",
     "output_type": "stream",
     "text": [
      " 57%|█████▋    | 1720/3000 [18:18<12:54,  1.65it/s]"
     ]
    },
    {
     "name": "stdout",
     "output_type": "stream",
     "text": [
      "{'loss': 1.8053, 'grad_norm': 7.209375858306885, 'learning_rate': 8.533333333333335e-06, 'epoch': 1.72}\n"
     ]
    },
    {
     "name": "stderr",
     "output_type": "stream",
     "text": [
      " 58%|█████▊    | 1730/3000 [18:24<12:52,  1.64it/s]"
     ]
    },
    {
     "name": "stdout",
     "output_type": "stream",
     "text": [
      "{'loss': 1.84, 'grad_norm': 6.502810955047607, 'learning_rate': 8.466666666666668e-06, 'epoch': 1.73}\n"
     ]
    },
    {
     "name": "stderr",
     "output_type": "stream",
     "text": [
      " 58%|█████▊    | 1740/3000 [18:30<13:00,  1.61it/s]"
     ]
    },
    {
     "name": "stdout",
     "output_type": "stream",
     "text": [
      "{'loss': 1.8088, 'grad_norm': 7.970771789550781, 'learning_rate': 8.400000000000001e-06, 'epoch': 1.74}\n"
     ]
    },
    {
     "name": "stderr",
     "output_type": "stream",
     "text": [
      " 58%|█████▊    | 1750/3000 [18:36<12:29,  1.67it/s]"
     ]
    },
    {
     "name": "stdout",
     "output_type": "stream",
     "text": [
      "{'loss': 1.834, 'grad_norm': 7.290569305419922, 'learning_rate': 8.333333333333334e-06, 'epoch': 1.75}\n"
     ]
    },
    {
     "name": "stderr",
     "output_type": "stream",
     "text": [
      " 59%|█████▊    | 1760/3000 [18:42<12:36,  1.64it/s]"
     ]
    },
    {
     "name": "stdout",
     "output_type": "stream",
     "text": [
      "{'loss': 1.7928, 'grad_norm': 5.597127437591553, 'learning_rate': 8.266666666666667e-06, 'epoch': 1.76}\n"
     ]
    },
    {
     "name": "stderr",
     "output_type": "stream",
     "text": [
      " 59%|█████▉    | 1770/3000 [18:48<12:36,  1.63it/s]"
     ]
    },
    {
     "name": "stdout",
     "output_type": "stream",
     "text": [
      "{'loss': 1.8043, 'grad_norm': 9.145177841186523, 'learning_rate': 8.2e-06, 'epoch': 1.77}\n"
     ]
    },
    {
     "name": "stderr",
     "output_type": "stream",
     "text": [
      " 59%|█████▉    | 1780/3000 [18:54<12:32,  1.62it/s]"
     ]
    },
    {
     "name": "stdout",
     "output_type": "stream",
     "text": [
      "{'loss': 1.8115, 'grad_norm': 10.449954986572266, 'learning_rate': 8.133333333333334e-06, 'epoch': 1.78}\n"
     ]
    },
    {
     "name": "stderr",
     "output_type": "stream",
     "text": [
      " 60%|█████▉    | 1790/3000 [19:00<12:10,  1.66it/s]"
     ]
    },
    {
     "name": "stdout",
     "output_type": "stream",
     "text": [
      "{'loss': 1.752, 'grad_norm': 8.281965255737305, 'learning_rate': 8.066666666666667e-06, 'epoch': 1.79}\n"
     ]
    },
    {
     "name": "stderr",
     "output_type": "stream",
     "text": [
      " 60%|██████    | 1800/3000 [19:06<11:57,  1.67it/s]"
     ]
    },
    {
     "name": "stdout",
     "output_type": "stream",
     "text": [
      "{'loss': 1.9088, 'grad_norm': 8.745080947875977, 'learning_rate': 8.000000000000001e-06, 'epoch': 1.8}\n"
     ]
    },
    {
     "name": "stderr",
     "output_type": "stream",
     "text": [
      " 60%|██████    | 1810/3000 [19:12<11:54,  1.66it/s]"
     ]
    },
    {
     "name": "stdout",
     "output_type": "stream",
     "text": [
      "{'loss': 1.9068, 'grad_norm': 11.242568969726562, 'learning_rate': 7.933333333333334e-06, 'epoch': 1.81}\n"
     ]
    },
    {
     "name": "stderr",
     "output_type": "stream",
     "text": [
      " 61%|██████    | 1820/3000 [19:18<11:45,  1.67it/s]"
     ]
    },
    {
     "name": "stdout",
     "output_type": "stream",
     "text": [
      "{'loss': 1.8738, 'grad_norm': 7.56441068649292, 'learning_rate': 7.866666666666667e-06, 'epoch': 1.82}\n"
     ]
    },
    {
     "name": "stderr",
     "output_type": "stream",
     "text": [
      " 61%|██████    | 1830/3000 [19:24<11:42,  1.66it/s]"
     ]
    },
    {
     "name": "stdout",
     "output_type": "stream",
     "text": [
      "{'loss': 1.6689, 'grad_norm': 11.864508628845215, 'learning_rate': 7.800000000000002e-06, 'epoch': 1.83}\n"
     ]
    },
    {
     "name": "stderr",
     "output_type": "stream",
     "text": [
      " 61%|██████▏   | 1840/3000 [19:30<11:37,  1.66it/s]"
     ]
    },
    {
     "name": "stdout",
     "output_type": "stream",
     "text": [
      "{'loss': 1.8713, 'grad_norm': 11.08420467376709, 'learning_rate': 7.733333333333334e-06, 'epoch': 1.84}\n"
     ]
    },
    {
     "name": "stderr",
     "output_type": "stream",
     "text": [
      " 62%|██████▏   | 1850/3000 [19:36<11:27,  1.67it/s]"
     ]
    },
    {
     "name": "stdout",
     "output_type": "stream",
     "text": [
      "{'loss': 1.8139, 'grad_norm': 5.83773136138916, 'learning_rate': 7.666666666666667e-06, 'epoch': 1.85}\n"
     ]
    },
    {
     "name": "stderr",
     "output_type": "stream",
     "text": [
      " 62%|██████▏   | 1860/3000 [19:42<11:15,  1.69it/s]"
     ]
    },
    {
     "name": "stdout",
     "output_type": "stream",
     "text": [
      "{'loss': 2.1139, 'grad_norm': 8.670737266540527, 'learning_rate': 7.600000000000001e-06, 'epoch': 1.86}\n"
     ]
    },
    {
     "name": "stderr",
     "output_type": "stream",
     "text": [
      " 62%|██████▏   | 1870/3000 [19:48<11:10,  1.69it/s]"
     ]
    },
    {
     "name": "stdout",
     "output_type": "stream",
     "text": [
      "{'loss': 1.896, 'grad_norm': 8.593222618103027, 'learning_rate': 7.533333333333334e-06, 'epoch': 1.87}\n"
     ]
    },
    {
     "name": "stderr",
     "output_type": "stream",
     "text": [
      " 63%|██████▎   | 1880/3000 [19:54<11:08,  1.68it/s]"
     ]
    },
    {
     "name": "stdout",
     "output_type": "stream",
     "text": [
      "{'loss': 1.6739, 'grad_norm': 9.659551620483398, 'learning_rate': 7.4666666666666675e-06, 'epoch': 1.88}\n"
     ]
    },
    {
     "name": "stderr",
     "output_type": "stream",
     "text": [
      " 63%|██████▎   | 1890/3000 [20:00<10:51,  1.70it/s]"
     ]
    },
    {
     "name": "stdout",
     "output_type": "stream",
     "text": [
      "{'loss': 1.8568, 'grad_norm': 10.795689582824707, 'learning_rate': 7.4e-06, 'epoch': 1.89}\n"
     ]
    },
    {
     "name": "stderr",
     "output_type": "stream",
     "text": [
      " 63%|██████▎   | 1900/3000 [20:06<10:45,  1.71it/s]"
     ]
    },
    {
     "name": "stdout",
     "output_type": "stream",
     "text": [
      "{'loss': 1.9046, 'grad_norm': 10.550686836242676, 'learning_rate': 7.333333333333333e-06, 'epoch': 1.9}\n"
     ]
    },
    {
     "name": "stderr",
     "output_type": "stream",
     "text": [
      " 64%|██████▎   | 1910/3000 [20:12<10:58,  1.66it/s]"
     ]
    },
    {
     "name": "stdout",
     "output_type": "stream",
     "text": [
      "{'loss': 1.8141, 'grad_norm': 16.8344669342041, 'learning_rate': 7.266666666666668e-06, 'epoch': 1.91}\n"
     ]
    },
    {
     "name": "stderr",
     "output_type": "stream",
     "text": [
      " 64%|██████▍   | 1920/3000 [20:18<10:42,  1.68it/s]"
     ]
    },
    {
     "name": "stdout",
     "output_type": "stream",
     "text": [
      "{'loss': 1.5358, 'grad_norm': 7.953066825866699, 'learning_rate': 7.2000000000000005e-06, 'epoch': 1.92}\n"
     ]
    },
    {
     "name": "stderr",
     "output_type": "stream",
     "text": [
      " 64%|██████▍   | 1930/3000 [20:24<10:45,  1.66it/s]"
     ]
    },
    {
     "name": "stdout",
     "output_type": "stream",
     "text": [
      "{'loss': 1.7239, 'grad_norm': 7.123324394226074, 'learning_rate': 7.133333333333334e-06, 'epoch': 1.93}\n"
     ]
    },
    {
     "name": "stderr",
     "output_type": "stream",
     "text": [
      " 65%|██████▍   | 1940/3000 [20:30<10:26,  1.69it/s]"
     ]
    },
    {
     "name": "stdout",
     "output_type": "stream",
     "text": [
      "{'loss': 1.7623, 'grad_norm': 16.240856170654297, 'learning_rate': 7.066666666666667e-06, 'epoch': 1.94}\n"
     ]
    },
    {
     "name": "stderr",
     "output_type": "stream",
     "text": [
      " 65%|██████▌   | 1950/3000 [20:36<10:25,  1.68it/s]"
     ]
    },
    {
     "name": "stdout",
     "output_type": "stream",
     "text": [
      "{'loss': 1.939, 'grad_norm': 6.802609443664551, 'learning_rate': 7e-06, 'epoch': 1.95}\n"
     ]
    },
    {
     "name": "stderr",
     "output_type": "stream",
     "text": [
      " 65%|██████▌   | 1960/3000 [20:42<10:19,  1.68it/s]"
     ]
    },
    {
     "name": "stdout",
     "output_type": "stream",
     "text": [
      "{'loss': 1.8571, 'grad_norm': 11.475676536560059, 'learning_rate': 6.9333333333333344e-06, 'epoch': 1.96}\n"
     ]
    },
    {
     "name": "stderr",
     "output_type": "stream",
     "text": [
      " 66%|██████▌   | 1970/3000 [20:48<10:11,  1.69it/s]"
     ]
    },
    {
     "name": "stdout",
     "output_type": "stream",
     "text": [
      "{'loss': 1.8003, 'grad_norm': 4.910493850708008, 'learning_rate': 6.866666666666667e-06, 'epoch': 1.97}\n"
     ]
    },
    {
     "name": "stderr",
     "output_type": "stream",
     "text": [
      " 66%|██████▌   | 1980/3000 [20:55<10:55,  1.56it/s]"
     ]
    },
    {
     "name": "stdout",
     "output_type": "stream",
     "text": [
      "{'loss': 2.0395, 'grad_norm': 10.838937759399414, 'learning_rate': 6.800000000000001e-06, 'epoch': 1.98}\n"
     ]
    },
    {
     "name": "stderr",
     "output_type": "stream",
     "text": [
      " 66%|██████▋   | 1990/3000 [21:00<09:58,  1.69it/s]"
     ]
    },
    {
     "name": "stdout",
     "output_type": "stream",
     "text": [
      "{'loss': 1.8909, 'grad_norm': 12.03951644897461, 'learning_rate': 6.733333333333334e-06, 'epoch': 1.99}\n"
     ]
    },
    {
     "name": "stderr",
     "output_type": "stream",
     "text": [
      " 67%|██████▋   | 2000/3000 [21:06<09:57,  1.67it/s]"
     ]
    },
    {
     "name": "stdout",
     "output_type": "stream",
     "text": [
      "{'loss': 1.7832, 'grad_norm': 10.734064102172852, 'learning_rate': 6.666666666666667e-06, 'epoch': 2.0}\n"
     ]
    },
    {
     "name": "stderr",
     "output_type": "stream",
     "text": [
      "                                                   \n",
      " 67%|██████▋   | 2000/3000 [21:47<09:57,  1.67it/s]"
     ]
    },
    {
     "name": "stdout",
     "output_type": "stream",
     "text": [
      "{'eval_loss': 1.878942608833313, 'eval_accuracy': 0.308, 'eval_macro_f1': 0.28502327301117786, 'eval_weighted_f1': 0.316570723645297, 'eval_runtime': 40.2268, 'eval_samples_per_second': 99.436, 'eval_steps_per_second': 3.107, 'epoch': 2.0}\n"
     ]
    },
    {
     "name": "stderr",
     "output_type": "stream",
     "text": [
      " 67%|██████▋   | 2010/3000 [21:55<18:35,  1.13s/it]  "
     ]
    },
    {
     "name": "stdout",
     "output_type": "stream",
     "text": [
      "{'loss': 1.8144, 'grad_norm': 13.728886604309082, 'learning_rate': 6.600000000000001e-06, 'epoch': 2.01}\n"
     ]
    },
    {
     "name": "stderr",
     "output_type": "stream",
     "text": [
      " 67%|██████▋   | 2020/3000 [22:01<10:22,  1.57it/s]"
     ]
    },
    {
     "name": "stdout",
     "output_type": "stream",
     "text": [
      "{'loss': 1.7289, 'grad_norm': 14.882726669311523, 'learning_rate': 6.533333333333334e-06, 'epoch': 2.02}\n"
     ]
    },
    {
     "name": "stderr",
     "output_type": "stream",
     "text": [
      " 68%|██████▊   | 2030/3000 [22:07<09:48,  1.65it/s]"
     ]
    },
    {
     "name": "stdout",
     "output_type": "stream",
     "text": [
      "{'loss': 1.6898, 'grad_norm': 8.452184677124023, 'learning_rate': 6.466666666666667e-06, 'epoch': 2.03}\n"
     ]
    },
    {
     "name": "stderr",
     "output_type": "stream",
     "text": [
      " 68%|██████▊   | 2040/3000 [22:13<09:31,  1.68it/s]"
     ]
    },
    {
     "name": "stdout",
     "output_type": "stream",
     "text": [
      "{'loss': 1.6565, 'grad_norm': 6.20682430267334, 'learning_rate': 6.4000000000000006e-06, 'epoch': 2.04}\n"
     ]
    },
    {
     "name": "stderr",
     "output_type": "stream",
     "text": [
      " 68%|██████▊   | 2050/3000 [22:19<09:28,  1.67it/s]"
     ]
    },
    {
     "name": "stdout",
     "output_type": "stream",
     "text": [
      "{'loss': 1.8392, 'grad_norm': 7.223418712615967, 'learning_rate': 6.333333333333333e-06, 'epoch': 2.05}\n"
     ]
    },
    {
     "name": "stderr",
     "output_type": "stream",
     "text": [
      " 69%|██████▊   | 2060/3000 [22:25<09:31,  1.65it/s]"
     ]
    },
    {
     "name": "stdout",
     "output_type": "stream",
     "text": [
      "{'loss': 1.7172, 'grad_norm': 5.944705009460449, 'learning_rate': 6.266666666666668e-06, 'epoch': 2.06}\n"
     ]
    },
    {
     "name": "stderr",
     "output_type": "stream",
     "text": [
      " 69%|██████▉   | 2070/3000 [22:31<09:25,  1.64it/s]"
     ]
    },
    {
     "name": "stdout",
     "output_type": "stream",
     "text": [
      "{'loss': 1.7346, 'grad_norm': 14.056635856628418, 'learning_rate': 6.200000000000001e-06, 'epoch': 2.07}\n"
     ]
    },
    {
     "name": "stderr",
     "output_type": "stream",
     "text": [
      " 69%|██████▉   | 2080/3000 [22:37<09:23,  1.63it/s]"
     ]
    },
    {
     "name": "stdout",
     "output_type": "stream",
     "text": [
      "{'loss': 1.63, 'grad_norm': 5.4754862785339355, 'learning_rate': 6.133333333333334e-06, 'epoch': 2.08}\n"
     ]
    },
    {
     "name": "stderr",
     "output_type": "stream",
     "text": [
      " 70%|██████▉   | 2090/3000 [22:43<09:14,  1.64it/s]"
     ]
    },
    {
     "name": "stdout",
     "output_type": "stream",
     "text": [
      "{'loss': 1.7003, 'grad_norm': 21.161218643188477, 'learning_rate': 6.066666666666667e-06, 'epoch': 2.09}\n"
     ]
    },
    {
     "name": "stderr",
     "output_type": "stream",
     "text": [
      " 70%|███████   | 2100/3000 [22:50<09:09,  1.64it/s]"
     ]
    },
    {
     "name": "stdout",
     "output_type": "stream",
     "text": [
      "{'loss': 1.7941, 'grad_norm': 10.221272468566895, 'learning_rate': 6e-06, 'epoch': 2.1}\n"
     ]
    },
    {
     "name": "stderr",
     "output_type": "stream",
     "text": [
      " 70%|███████   | 2110/3000 [22:56<09:14,  1.60it/s]"
     ]
    },
    {
     "name": "stdout",
     "output_type": "stream",
     "text": [
      "{'loss': 1.8089, 'grad_norm': 10.683053016662598, 'learning_rate': 5.933333333333335e-06, 'epoch': 2.11}\n"
     ]
    },
    {
     "name": "stderr",
     "output_type": "stream",
     "text": [
      " 71%|███████   | 2120/3000 [23:02<09:04,  1.62it/s]"
     ]
    },
    {
     "name": "stdout",
     "output_type": "stream",
     "text": [
      "{'loss': 1.6925, 'grad_norm': 6.6463165283203125, 'learning_rate': 5.8666666666666675e-06, 'epoch': 2.12}\n"
     ]
    },
    {
     "name": "stderr",
     "output_type": "stream",
     "text": [
      " 71%|███████   | 2130/3000 [23:08<08:54,  1.63it/s]"
     ]
    },
    {
     "name": "stdout",
     "output_type": "stream",
     "text": [
      "{'loss': 1.8535, 'grad_norm': 9.366443634033203, 'learning_rate': 5.8e-06, 'epoch': 2.13}\n"
     ]
    },
    {
     "name": "stderr",
     "output_type": "stream",
     "text": [
      " 71%|███████▏  | 2140/3000 [23:14<08:36,  1.66it/s]"
     ]
    },
    {
     "name": "stdout",
     "output_type": "stream",
     "text": [
      "{'loss': 1.8063, 'grad_norm': 9.185802459716797, 'learning_rate': 5.733333333333334e-06, 'epoch': 2.14}\n"
     ]
    },
    {
     "name": "stderr",
     "output_type": "stream",
     "text": [
      " 72%|███████▏  | 2150/3000 [23:20<08:33,  1.65it/s]"
     ]
    },
    {
     "name": "stdout",
     "output_type": "stream",
     "text": [
      "{'loss': 1.6662, 'grad_norm': 8.314806938171387, 'learning_rate': 5.666666666666667e-06, 'epoch': 2.15}\n"
     ]
    },
    {
     "name": "stderr",
     "output_type": "stream",
     "text": [
      " 72%|███████▏  | 2160/3000 [23:26<08:19,  1.68it/s]"
     ]
    },
    {
     "name": "stdout",
     "output_type": "stream",
     "text": [
      "{'loss': 1.7846, 'grad_norm': 12.87741470336914, 'learning_rate': 5.600000000000001e-06, 'epoch': 2.16}\n"
     ]
    },
    {
     "name": "stderr",
     "output_type": "stream",
     "text": [
      " 72%|███████▏  | 2170/3000 [23:32<08:17,  1.67it/s]"
     ]
    },
    {
     "name": "stdout",
     "output_type": "stream",
     "text": [
      "{'loss': 1.8655, 'grad_norm': 10.876672744750977, 'learning_rate': 5.533333333333334e-06, 'epoch': 2.17}\n"
     ]
    },
    {
     "name": "stderr",
     "output_type": "stream",
     "text": [
      " 73%|███████▎  | 2180/3000 [23:38<08:12,  1.67it/s]"
     ]
    },
    {
     "name": "stdout",
     "output_type": "stream",
     "text": [
      "{'loss': 1.6102, 'grad_norm': 10.852849960327148, 'learning_rate': 5.466666666666667e-06, 'epoch': 2.18}\n"
     ]
    },
    {
     "name": "stderr",
     "output_type": "stream",
     "text": [
      " 73%|███████▎  | 2190/3000 [23:44<08:02,  1.68it/s]"
     ]
    },
    {
     "name": "stdout",
     "output_type": "stream",
     "text": [
      "{'loss': 1.7722, 'grad_norm': 15.576868057250977, 'learning_rate': 5.400000000000001e-06, 'epoch': 2.19}\n"
     ]
    },
    {
     "name": "stderr",
     "output_type": "stream",
     "text": [
      " 73%|███████▎  | 2200/3000 [23:50<08:01,  1.66it/s]"
     ]
    },
    {
     "name": "stdout",
     "output_type": "stream",
     "text": [
      "{'loss': 1.7199, 'grad_norm': 3.833635091781616, 'learning_rate': 5.333333333333334e-06, 'epoch': 2.2}\n"
     ]
    },
    {
     "name": "stderr",
     "output_type": "stream",
     "text": [
      " 74%|███████▎  | 2210/3000 [23:56<07:55,  1.66it/s]"
     ]
    },
    {
     "name": "stdout",
     "output_type": "stream",
     "text": [
      "{'loss': 1.7973, 'grad_norm': 6.435760021209717, 'learning_rate': 5.2666666666666665e-06, 'epoch': 2.21}\n"
     ]
    },
    {
     "name": "stderr",
     "output_type": "stream",
     "text": [
      " 74%|███████▍  | 2220/3000 [24:02<07:44,  1.68it/s]"
     ]
    },
    {
     "name": "stdout",
     "output_type": "stream",
     "text": [
      "{'loss': 1.545, 'grad_norm': 6.76781702041626, 'learning_rate': 5.2e-06, 'epoch': 2.22}\n"
     ]
    },
    {
     "name": "stderr",
     "output_type": "stream",
     "text": [
      " 74%|███████▍  | 2230/3000 [24:08<07:41,  1.67it/s]"
     ]
    },
    {
     "name": "stdout",
     "output_type": "stream",
     "text": [
      "{'loss': 1.8858, 'grad_norm': 6.659146308898926, 'learning_rate': 5.133333333333334e-06, 'epoch': 2.23}\n"
     ]
    },
    {
     "name": "stderr",
     "output_type": "stream",
     "text": [
      " 75%|███████▍  | 2240/3000 [24:14<07:57,  1.59it/s]"
     ]
    },
    {
     "name": "stdout",
     "output_type": "stream",
     "text": [
      "{'loss': 1.8409, 'grad_norm': 10.485998153686523, 'learning_rate': 5.0666666666666676e-06, 'epoch': 2.24}\n"
     ]
    },
    {
     "name": "stderr",
     "output_type": "stream",
     "text": [
      " 75%|███████▌  | 2250/3000 [24:20<07:34,  1.65it/s]"
     ]
    },
    {
     "name": "stdout",
     "output_type": "stream",
     "text": [
      "{'loss': 1.7612, 'grad_norm': 6.923942565917969, 'learning_rate': 5e-06, 'epoch': 2.25}\n"
     ]
    },
    {
     "name": "stderr",
     "output_type": "stream",
     "text": [
      " 75%|███████▌  | 2260/3000 [24:26<07:30,  1.64it/s]"
     ]
    },
    {
     "name": "stdout",
     "output_type": "stream",
     "text": [
      "{'loss': 1.7568, 'grad_norm': 12.063186645507812, 'learning_rate': 4.933333333333334e-06, 'epoch': 2.26}\n"
     ]
    },
    {
     "name": "stderr",
     "output_type": "stream",
     "text": [
      " 76%|███████▌  | 2270/3000 [24:32<07:40,  1.59it/s]"
     ]
    },
    {
     "name": "stdout",
     "output_type": "stream",
     "text": [
      "{'loss': 1.8595, 'grad_norm': 13.103135108947754, 'learning_rate': 4.866666666666667e-06, 'epoch': 2.27}\n"
     ]
    },
    {
     "name": "stderr",
     "output_type": "stream",
     "text": [
      " 76%|███████▌  | 2280/3000 [24:39<07:28,  1.60it/s]"
     ]
    },
    {
     "name": "stdout",
     "output_type": "stream",
     "text": [
      "{'loss': 1.654, 'grad_norm': 12.315442085266113, 'learning_rate': 4.800000000000001e-06, 'epoch': 2.28}\n"
     ]
    },
    {
     "name": "stderr",
     "output_type": "stream",
     "text": [
      " 76%|███████▋  | 2290/3000 [24:45<07:12,  1.64it/s]"
     ]
    },
    {
     "name": "stdout",
     "output_type": "stream",
     "text": [
      "{'loss': 1.7533, 'grad_norm': 5.844622611999512, 'learning_rate': 4.7333333333333335e-06, 'epoch': 2.29}\n"
     ]
    },
    {
     "name": "stderr",
     "output_type": "stream",
     "text": [
      " 77%|███████▋  | 2300/3000 [24:51<07:07,  1.64it/s]"
     ]
    },
    {
     "name": "stdout",
     "output_type": "stream",
     "text": [
      "{'loss': 1.7659, 'grad_norm': 10.059456825256348, 'learning_rate': 4.666666666666667e-06, 'epoch': 2.3}\n"
     ]
    },
    {
     "name": "stderr",
     "output_type": "stream",
     "text": [
      " 77%|███████▋  | 2310/3000 [24:57<07:02,  1.63it/s]"
     ]
    },
    {
     "name": "stdout",
     "output_type": "stream",
     "text": [
      "{'loss': 1.6275, 'grad_norm': 10.394303321838379, 'learning_rate': 4.600000000000001e-06, 'epoch': 2.31}\n"
     ]
    },
    {
     "name": "stderr",
     "output_type": "stream",
     "text": [
      " 77%|███████▋  | 2320/3000 [25:03<06:48,  1.66it/s]"
     ]
    },
    {
     "name": "stdout",
     "output_type": "stream",
     "text": [
      "{'loss': 1.663, 'grad_norm': 5.708730697631836, 'learning_rate': 4.533333333333334e-06, 'epoch': 2.32}\n"
     ]
    },
    {
     "name": "stderr",
     "output_type": "stream",
     "text": [
      " 78%|███████▊  | 2330/3000 [25:09<06:47,  1.64it/s]"
     ]
    },
    {
     "name": "stdout",
     "output_type": "stream",
     "text": [
      "{'loss': 1.6696, 'grad_norm': 7.842414855957031, 'learning_rate': 4.4666666666666665e-06, 'epoch': 2.33}\n"
     ]
    },
    {
     "name": "stderr",
     "output_type": "stream",
     "text": [
      " 78%|███████▊  | 2340/3000 [25:15<06:38,  1.66it/s]"
     ]
    },
    {
     "name": "stdout",
     "output_type": "stream",
     "text": [
      "{'loss': 1.6291, 'grad_norm': 6.527716159820557, 'learning_rate': 4.4e-06, 'epoch': 2.34}\n"
     ]
    },
    {
     "name": "stderr",
     "output_type": "stream",
     "text": [
      " 78%|███████▊  | 2350/3000 [25:21<06:27,  1.68it/s]"
     ]
    },
    {
     "name": "stdout",
     "output_type": "stream",
     "text": [
      "{'loss': 1.634, 'grad_norm': 6.492064476013184, 'learning_rate': 4.333333333333334e-06, 'epoch': 2.35}\n"
     ]
    },
    {
     "name": "stderr",
     "output_type": "stream",
     "text": [
      " 79%|███████▊  | 2360/3000 [25:27<06:22,  1.67it/s]"
     ]
    },
    {
     "name": "stdout",
     "output_type": "stream",
     "text": [
      "{'loss': 1.7154, 'grad_norm': 8.776121139526367, 'learning_rate': 4.266666666666668e-06, 'epoch': 2.36}\n"
     ]
    },
    {
     "name": "stderr",
     "output_type": "stream",
     "text": [
      " 79%|███████▉  | 2370/3000 [25:34<06:33,  1.60it/s]"
     ]
    },
    {
     "name": "stdout",
     "output_type": "stream",
     "text": [
      "{'loss': 1.6539, 'grad_norm': 6.646394729614258, 'learning_rate': 4.2000000000000004e-06, 'epoch': 2.37}\n"
     ]
    },
    {
     "name": "stderr",
     "output_type": "stream",
     "text": [
      " 79%|███████▉  | 2380/3000 [25:40<06:13,  1.66it/s]"
     ]
    },
    {
     "name": "stdout",
     "output_type": "stream",
     "text": [
      "{'loss': 1.686, 'grad_norm': 6.783534526824951, 'learning_rate': 4.133333333333333e-06, 'epoch': 2.38}\n"
     ]
    },
    {
     "name": "stderr",
     "output_type": "stream",
     "text": [
      " 80%|███████▉  | 2390/3000 [25:46<06:05,  1.67it/s]"
     ]
    },
    {
     "name": "stdout",
     "output_type": "stream",
     "text": [
      "{'loss': 1.5986, 'grad_norm': 5.818539142608643, 'learning_rate': 4.066666666666667e-06, 'epoch': 2.39}\n"
     ]
    },
    {
     "name": "stderr",
     "output_type": "stream",
     "text": [
      " 80%|████████  | 2400/3000 [25:52<06:05,  1.64it/s]"
     ]
    },
    {
     "name": "stdout",
     "output_type": "stream",
     "text": [
      "{'loss': 1.5498, 'grad_norm': 8.066267013549805, 'learning_rate': 4.000000000000001e-06, 'epoch': 2.4}\n"
     ]
    },
    {
     "name": "stderr",
     "output_type": "stream",
     "text": [
      " 80%|████████  | 2410/3000 [25:58<05:58,  1.65it/s]"
     ]
    },
    {
     "name": "stdout",
     "output_type": "stream",
     "text": [
      "{'loss': 1.7291, 'grad_norm': 10.997426986694336, 'learning_rate': 3.9333333333333335e-06, 'epoch': 2.41}\n"
     ]
    },
    {
     "name": "stderr",
     "output_type": "stream",
     "text": [
      " 81%|████████  | 2420/3000 [26:04<05:57,  1.62it/s]"
     ]
    },
    {
     "name": "stdout",
     "output_type": "stream",
     "text": [
      "{'loss': 1.6649, 'grad_norm': 15.947236061096191, 'learning_rate': 3.866666666666667e-06, 'epoch': 2.42}\n"
     ]
    },
    {
     "name": "stderr",
     "output_type": "stream",
     "text": [
      " 81%|████████  | 2430/3000 [26:10<05:43,  1.66it/s]"
     ]
    },
    {
     "name": "stdout",
     "output_type": "stream",
     "text": [
      "{'loss': 1.8837, 'grad_norm': 15.215889930725098, 'learning_rate': 3.8000000000000005e-06, 'epoch': 2.43}\n"
     ]
    },
    {
     "name": "stderr",
     "output_type": "stream",
     "text": [
      " 81%|████████▏ | 2440/3000 [26:16<05:37,  1.66it/s]"
     ]
    },
    {
     "name": "stdout",
     "output_type": "stream",
     "text": [
      "{'loss': 1.811, 'grad_norm': 9.819185256958008, 'learning_rate': 3.7333333333333337e-06, 'epoch': 2.44}\n"
     ]
    },
    {
     "name": "stderr",
     "output_type": "stream",
     "text": [
      " 82%|████████▏ | 2450/3000 [26:22<05:26,  1.68it/s]"
     ]
    },
    {
     "name": "stdout",
     "output_type": "stream",
     "text": [
      "{'loss': 1.7782, 'grad_norm': 9.379120826721191, 'learning_rate': 3.6666666666666666e-06, 'epoch': 2.45}\n"
     ]
    },
    {
     "name": "stderr",
     "output_type": "stream",
     "text": [
      " 82%|████████▏ | 2460/3000 [26:28<05:26,  1.65it/s]"
     ]
    },
    {
     "name": "stdout",
     "output_type": "stream",
     "text": [
      "{'loss': 1.5948, 'grad_norm': 7.984908580780029, 'learning_rate': 3.6000000000000003e-06, 'epoch': 2.46}\n"
     ]
    },
    {
     "name": "stderr",
     "output_type": "stream",
     "text": [
      " 82%|████████▏ | 2470/3000 [26:34<05:22,  1.65it/s]"
     ]
    },
    {
     "name": "stdout",
     "output_type": "stream",
     "text": [
      "{'loss': 1.5751, 'grad_norm': 10.826035499572754, 'learning_rate': 3.5333333333333335e-06, 'epoch': 2.47}\n"
     ]
    },
    {
     "name": "stderr",
     "output_type": "stream",
     "text": [
      " 83%|████████▎ | 2480/3000 [26:40<05:18,  1.63it/s]"
     ]
    },
    {
     "name": "stdout",
     "output_type": "stream",
     "text": [
      "{'loss': 1.6507, 'grad_norm': 6.615539073944092, 'learning_rate': 3.4666666666666672e-06, 'epoch': 2.48}\n"
     ]
    },
    {
     "name": "stderr",
     "output_type": "stream",
     "text": [
      " 83%|████████▎ | 2490/3000 [26:46<05:03,  1.68it/s]"
     ]
    },
    {
     "name": "stdout",
     "output_type": "stream",
     "text": [
      "{'loss': 1.7646, 'grad_norm': 17.682331085205078, 'learning_rate': 3.4000000000000005e-06, 'epoch': 2.49}\n"
     ]
    },
    {
     "name": "stderr",
     "output_type": "stream",
     "text": [
      " 83%|████████▎ | 2500/3000 [26:52<05:06,  1.63it/s]"
     ]
    },
    {
     "name": "stdout",
     "output_type": "stream",
     "text": [
      "{'loss': 1.7445, 'grad_norm': 13.835989952087402, 'learning_rate': 3.3333333333333333e-06, 'epoch': 2.5}\n"
     ]
    },
    {
     "name": "stderr",
     "output_type": "stream",
     "text": [
      " 84%|████████▎ | 2510/3000 [26:58<04:56,  1.65it/s]"
     ]
    },
    {
     "name": "stdout",
     "output_type": "stream",
     "text": [
      "{'loss': 1.7215, 'grad_norm': 7.5108747482299805, 'learning_rate': 3.266666666666667e-06, 'epoch': 2.51}\n"
     ]
    },
    {
     "name": "stderr",
     "output_type": "stream",
     "text": [
      " 84%|████████▍ | 2520/3000 [27:04<04:50,  1.65it/s]"
     ]
    },
    {
     "name": "stdout",
     "output_type": "stream",
     "text": [
      "{'loss': 1.912, 'grad_norm': 8.076567649841309, 'learning_rate': 3.2000000000000003e-06, 'epoch': 2.52}\n"
     ]
    },
    {
     "name": "stderr",
     "output_type": "stream",
     "text": [
      " 84%|████████▍ | 2530/3000 [27:11<04:40,  1.68it/s]"
     ]
    },
    {
     "name": "stdout",
     "output_type": "stream",
     "text": [
      "{'loss': 1.48, 'grad_norm': 14.520188331604004, 'learning_rate': 3.133333333333334e-06, 'epoch': 2.53}\n"
     ]
    },
    {
     "name": "stderr",
     "output_type": "stream",
     "text": [
      " 85%|████████▍ | 2540/3000 [27:16<04:31,  1.69it/s]"
     ]
    },
    {
     "name": "stdout",
     "output_type": "stream",
     "text": [
      "{'loss': 1.5676, 'grad_norm': 10.378527641296387, 'learning_rate': 3.066666666666667e-06, 'epoch': 2.54}\n"
     ]
    },
    {
     "name": "stderr",
     "output_type": "stream",
     "text": [
      " 85%|████████▌ | 2550/3000 [27:23<04:29,  1.67it/s]"
     ]
    },
    {
     "name": "stdout",
     "output_type": "stream",
     "text": [
      "{'loss': 1.7416, 'grad_norm': 10.486700057983398, 'learning_rate': 3e-06, 'epoch': 2.55}\n"
     ]
    },
    {
     "name": "stderr",
     "output_type": "stream",
     "text": [
      " 85%|████████▌ | 2560/3000 [27:29<04:31,  1.62it/s]"
     ]
    },
    {
     "name": "stdout",
     "output_type": "stream",
     "text": [
      "{'loss': 1.7932, 'grad_norm': 7.753139019012451, 'learning_rate': 2.9333333333333338e-06, 'epoch': 2.56}\n"
     ]
    },
    {
     "name": "stderr",
     "output_type": "stream",
     "text": [
      " 86%|████████▌ | 2570/3000 [27:35<04:19,  1.66it/s]"
     ]
    },
    {
     "name": "stdout",
     "output_type": "stream",
     "text": [
      "{'loss': 1.6512, 'grad_norm': 11.54343032836914, 'learning_rate': 2.866666666666667e-06, 'epoch': 2.57}\n"
     ]
    },
    {
     "name": "stderr",
     "output_type": "stream",
     "text": [
      " 86%|████████▌ | 2580/3000 [27:41<04:13,  1.66it/s]"
     ]
    },
    {
     "name": "stdout",
     "output_type": "stream",
     "text": [
      "{'loss': 1.6436, 'grad_norm': 7.188635349273682, 'learning_rate': 2.8000000000000003e-06, 'epoch': 2.58}\n"
     ]
    },
    {
     "name": "stderr",
     "output_type": "stream",
     "text": [
      " 86%|████████▋ | 2590/3000 [27:47<04:08,  1.65it/s]"
     ]
    },
    {
     "name": "stdout",
     "output_type": "stream",
     "text": [
      "{'loss': 1.7514, 'grad_norm': 11.099791526794434, 'learning_rate': 2.7333333333333336e-06, 'epoch': 2.59}\n"
     ]
    },
    {
     "name": "stderr",
     "output_type": "stream",
     "text": [
      " 87%|████████▋ | 2600/3000 [27:53<04:18,  1.55it/s]"
     ]
    },
    {
     "name": "stdout",
     "output_type": "stream",
     "text": [
      "{'loss': 1.6555, 'grad_norm': 6.101871967315674, 'learning_rate': 2.666666666666667e-06, 'epoch': 2.6}\n"
     ]
    },
    {
     "name": "stderr",
     "output_type": "stream",
     "text": [
      " 87%|████████▋ | 2610/3000 [28:00<04:03,  1.60it/s]"
     ]
    },
    {
     "name": "stdout",
     "output_type": "stream",
     "text": [
      "{'loss': 1.7858, 'grad_norm': 8.07986831665039, 'learning_rate': 2.6e-06, 'epoch': 2.61}\n"
     ]
    },
    {
     "name": "stderr",
     "output_type": "stream",
     "text": [
      " 87%|████████▋ | 2620/3000 [28:06<03:55,  1.62it/s]"
     ]
    },
    {
     "name": "stdout",
     "output_type": "stream",
     "text": [
      "{'loss': 1.751, 'grad_norm': 6.438149929046631, 'learning_rate': 2.5333333333333338e-06, 'epoch': 2.62}\n"
     ]
    },
    {
     "name": "stderr",
     "output_type": "stream",
     "text": [
      " 88%|████████▊ | 2630/3000 [28:12<03:49,  1.61it/s]"
     ]
    },
    {
     "name": "stdout",
     "output_type": "stream",
     "text": [
      "{'loss': 1.6234, 'grad_norm': 7.278911113739014, 'learning_rate': 2.466666666666667e-06, 'epoch': 2.63}\n"
     ]
    },
    {
     "name": "stderr",
     "output_type": "stream",
     "text": [
      " 88%|████████▊ | 2640/3000 [28:18<03:40,  1.63it/s]"
     ]
    },
    {
     "name": "stdout",
     "output_type": "stream",
     "text": [
      "{'loss': 1.6262, 'grad_norm': 11.556017875671387, 'learning_rate': 2.4000000000000003e-06, 'epoch': 2.64}\n"
     ]
    },
    {
     "name": "stderr",
     "output_type": "stream",
     "text": [
      " 88%|████████▊ | 2650/3000 [28:24<03:35,  1.63it/s]"
     ]
    },
    {
     "name": "stdout",
     "output_type": "stream",
     "text": [
      "{'loss': 1.7115, 'grad_norm': 8.6075439453125, 'learning_rate': 2.3333333333333336e-06, 'epoch': 2.65}\n"
     ]
    },
    {
     "name": "stderr",
     "output_type": "stream",
     "text": [
      " 89%|████████▊ | 2660/3000 [28:31<03:27,  1.64it/s]"
     ]
    },
    {
     "name": "stdout",
     "output_type": "stream",
     "text": [
      "{'loss': 1.5077, 'grad_norm': 6.146162509918213, 'learning_rate': 2.266666666666667e-06, 'epoch': 2.66}\n"
     ]
    },
    {
     "name": "stderr",
     "output_type": "stream",
     "text": [
      " 89%|████████▉ | 2670/3000 [28:37<03:23,  1.62it/s]"
     ]
    },
    {
     "name": "stdout",
     "output_type": "stream",
     "text": [
      "{'loss': 1.8772, 'grad_norm': 13.448844909667969, 'learning_rate': 2.2e-06, 'epoch': 2.67}\n"
     ]
    },
    {
     "name": "stderr",
     "output_type": "stream",
     "text": [
      " 89%|████████▉ | 2680/3000 [28:43<03:17,  1.62it/s]"
     ]
    },
    {
     "name": "stdout",
     "output_type": "stream",
     "text": [
      "{'loss': 1.6474, 'grad_norm': 7.699353218078613, 'learning_rate': 2.133333333333334e-06, 'epoch': 2.68}\n"
     ]
    },
    {
     "name": "stderr",
     "output_type": "stream",
     "text": [
      " 90%|████████▉ | 2690/3000 [28:49<03:10,  1.63it/s]"
     ]
    },
    {
     "name": "stdout",
     "output_type": "stream",
     "text": [
      "{'loss': 1.5607, 'grad_norm': 4.984523773193359, 'learning_rate': 2.0666666666666666e-06, 'epoch': 2.69}\n"
     ]
    },
    {
     "name": "stderr",
     "output_type": "stream",
     "text": [
      " 90%|█████████ | 2700/3000 [28:55<03:05,  1.62it/s]"
     ]
    },
    {
     "name": "stdout",
     "output_type": "stream",
     "text": [
      "{'loss': 1.7742, 'grad_norm': 7.162813186645508, 'learning_rate': 2.0000000000000003e-06, 'epoch': 2.7}\n"
     ]
    },
    {
     "name": "stderr",
     "output_type": "stream",
     "text": [
      " 90%|█████████ | 2710/3000 [29:01<02:58,  1.62it/s]"
     ]
    },
    {
     "name": "stdout",
     "output_type": "stream",
     "text": [
      "{'loss': 1.726, 'grad_norm': 12.756119728088379, 'learning_rate': 1.9333333333333336e-06, 'epoch': 2.71}\n"
     ]
    },
    {
     "name": "stderr",
     "output_type": "stream",
     "text": [
      " 91%|█████████ | 2720/3000 [29:08<02:53,  1.62it/s]"
     ]
    },
    {
     "name": "stdout",
     "output_type": "stream",
     "text": [
      "{'loss': 1.7957, 'grad_norm': 8.912516593933105, 'learning_rate': 1.8666666666666669e-06, 'epoch': 2.72}\n"
     ]
    },
    {
     "name": "stderr",
     "output_type": "stream",
     "text": [
      " 91%|█████████ | 2730/3000 [29:14<02:46,  1.62it/s]"
     ]
    },
    {
     "name": "stdout",
     "output_type": "stream",
     "text": [
      "{'loss': 1.6147, 'grad_norm': 5.19269323348999, 'learning_rate': 1.8000000000000001e-06, 'epoch': 2.73}\n"
     ]
    },
    {
     "name": "stderr",
     "output_type": "stream",
     "text": [
      " 91%|█████████▏| 2740/3000 [29:20<02:39,  1.63it/s]"
     ]
    },
    {
     "name": "stdout",
     "output_type": "stream",
     "text": [
      "{'loss': 1.6521, 'grad_norm': 8.807106018066406, 'learning_rate': 1.7333333333333336e-06, 'epoch': 2.74}\n"
     ]
    },
    {
     "name": "stderr",
     "output_type": "stream",
     "text": [
      " 92%|█████████▏| 2750/3000 [29:26<02:33,  1.63it/s]"
     ]
    },
    {
     "name": "stdout",
     "output_type": "stream",
     "text": [
      "{'loss': 1.7223, 'grad_norm': 5.840182781219482, 'learning_rate': 1.6666666666666667e-06, 'epoch': 2.75}\n"
     ]
    },
    {
     "name": "stderr",
     "output_type": "stream",
     "text": [
      " 92%|█████████▏| 2760/3000 [29:32<02:31,  1.58it/s]"
     ]
    },
    {
     "name": "stdout",
     "output_type": "stream",
     "text": [
      "{'loss': 1.6534, 'grad_norm': 15.653955459594727, 'learning_rate': 1.6000000000000001e-06, 'epoch': 2.76}\n"
     ]
    },
    {
     "name": "stderr",
     "output_type": "stream",
     "text": [
      " 92%|█████████▏| 2770/3000 [29:39<02:22,  1.61it/s]"
     ]
    },
    {
     "name": "stdout",
     "output_type": "stream",
     "text": [
      "{'loss': 1.5182, 'grad_norm': 12.878232955932617, 'learning_rate': 1.5333333333333334e-06, 'epoch': 2.77}\n"
     ]
    },
    {
     "name": "stderr",
     "output_type": "stream",
     "text": [
      " 93%|█████████▎| 2780/3000 [29:45<02:14,  1.63it/s]"
     ]
    },
    {
     "name": "stdout",
     "output_type": "stream",
     "text": [
      "{'loss': 1.6375, 'grad_norm': 16.610370635986328, 'learning_rate': 1.4666666666666669e-06, 'epoch': 2.78}\n"
     ]
    },
    {
     "name": "stderr",
     "output_type": "stream",
     "text": [
      " 93%|█████████▎| 2790/3000 [29:51<02:09,  1.62it/s]"
     ]
    },
    {
     "name": "stdout",
     "output_type": "stream",
     "text": [
      "{'loss': 1.7521, 'grad_norm': 19.06203842163086, 'learning_rate': 1.4000000000000001e-06, 'epoch': 2.79}\n"
     ]
    },
    {
     "name": "stderr",
     "output_type": "stream",
     "text": [
      " 93%|█████████▎| 2800/3000 [29:57<02:02,  1.64it/s]"
     ]
    },
    {
     "name": "stdout",
     "output_type": "stream",
     "text": [
      "{'loss': 1.8656, 'grad_norm': 8.003785133361816, 'learning_rate': 1.3333333333333334e-06, 'epoch': 2.8}\n"
     ]
    },
    {
     "name": "stderr",
     "output_type": "stream",
     "text": [
      " 94%|█████████▎| 2810/3000 [30:03<01:55,  1.64it/s]"
     ]
    },
    {
     "name": "stdout",
     "output_type": "stream",
     "text": [
      "{'loss': 1.8252, 'grad_norm': 12.5971040725708, 'learning_rate': 1.2666666666666669e-06, 'epoch': 2.81}\n"
     ]
    },
    {
     "name": "stderr",
     "output_type": "stream",
     "text": [
      " 94%|█████████▍| 2820/3000 [30:09<01:50,  1.62it/s]"
     ]
    },
    {
     "name": "stdout",
     "output_type": "stream",
     "text": [
      "{'loss': 1.8847, 'grad_norm': 12.080615043640137, 'learning_rate': 1.2000000000000002e-06, 'epoch': 2.82}\n"
     ]
    },
    {
     "name": "stderr",
     "output_type": "stream",
     "text": [
      " 94%|█████████▍| 2830/3000 [30:15<01:44,  1.63it/s]"
     ]
    },
    {
     "name": "stdout",
     "output_type": "stream",
     "text": [
      "{'loss': 1.7412, 'grad_norm': 17.085296630859375, 'learning_rate': 1.1333333333333334e-06, 'epoch': 2.83}\n"
     ]
    },
    {
     "name": "stderr",
     "output_type": "stream",
     "text": [
      " 95%|█████████▍| 2840/3000 [30:21<01:38,  1.63it/s]"
     ]
    },
    {
     "name": "stdout",
     "output_type": "stream",
     "text": [
      "{'loss': 1.6782, 'grad_norm': 8.829087257385254, 'learning_rate': 1.066666666666667e-06, 'epoch': 2.84}\n"
     ]
    },
    {
     "name": "stderr",
     "output_type": "stream",
     "text": [
      " 95%|█████████▌| 2850/3000 [30:28<01:32,  1.62it/s]"
     ]
    },
    {
     "name": "stdout",
     "output_type": "stream",
     "text": [
      "{'loss': 1.6816, 'grad_norm': 9.43746280670166, 'learning_rate': 1.0000000000000002e-06, 'epoch': 2.85}\n"
     ]
    },
    {
     "name": "stderr",
     "output_type": "stream",
     "text": [
      " 95%|█████████▌| 2860/3000 [30:34<01:26,  1.62it/s]"
     ]
    },
    {
     "name": "stdout",
     "output_type": "stream",
     "text": [
      "{'loss': 1.5461, 'grad_norm': 7.359766006469727, 'learning_rate': 9.333333333333334e-07, 'epoch': 2.86}\n"
     ]
    },
    {
     "name": "stderr",
     "output_type": "stream",
     "text": [
      " 96%|█████████▌| 2870/3000 [30:40<01:20,  1.62it/s]"
     ]
    },
    {
     "name": "stdout",
     "output_type": "stream",
     "text": [
      "{'loss': 1.6746, 'grad_norm': 17.526906967163086, 'learning_rate': 8.666666666666668e-07, 'epoch': 2.87}\n"
     ]
    },
    {
     "name": "stderr",
     "output_type": "stream",
     "text": [
      " 96%|█████████▌| 2880/3000 [30:46<01:13,  1.63it/s]"
     ]
    },
    {
     "name": "stdout",
     "output_type": "stream",
     "text": [
      "{'loss': 1.6512, 'grad_norm': 10.063238143920898, 'learning_rate': 8.000000000000001e-07, 'epoch': 2.88}\n"
     ]
    },
    {
     "name": "stderr",
     "output_type": "stream",
     "text": [
      " 96%|█████████▋| 2890/3000 [30:52<01:08,  1.61it/s]"
     ]
    },
    {
     "name": "stdout",
     "output_type": "stream",
     "text": [
      "{'loss': 1.7588, 'grad_norm': 9.932909965515137, 'learning_rate': 7.333333333333334e-07, 'epoch': 2.89}\n"
     ]
    },
    {
     "name": "stderr",
     "output_type": "stream",
     "text": [
      " 97%|█████████▋| 2900/3000 [30:59<01:02,  1.59it/s]"
     ]
    },
    {
     "name": "stdout",
     "output_type": "stream",
     "text": [
      "{'loss': 1.5524, 'grad_norm': 8.465002059936523, 'learning_rate': 6.666666666666667e-07, 'epoch': 2.9}\n"
     ]
    },
    {
     "name": "stderr",
     "output_type": "stream",
     "text": [
      " 97%|█████████▋| 2910/3000 [31:05<00:55,  1.61it/s]"
     ]
    },
    {
     "name": "stdout",
     "output_type": "stream",
     "text": [
      "{'loss': 1.4651, 'grad_norm': 7.661942958831787, 'learning_rate': 6.000000000000001e-07, 'epoch': 2.91}\n"
     ]
    },
    {
     "name": "stderr",
     "output_type": "stream",
     "text": [
      " 97%|█████████▋| 2920/3000 [31:11<00:49,  1.61it/s]"
     ]
    },
    {
     "name": "stdout",
     "output_type": "stream",
     "text": [
      "{'loss': 1.4148, 'grad_norm': 17.421466827392578, 'learning_rate': 5.333333333333335e-07, 'epoch': 2.92}\n"
     ]
    },
    {
     "name": "stderr",
     "output_type": "stream",
     "text": [
      " 98%|█████████▊| 2930/3000 [31:17<00:44,  1.57it/s]"
     ]
    },
    {
     "name": "stdout",
     "output_type": "stream",
     "text": [
      "{'loss': 1.777, 'grad_norm': 15.854194641113281, 'learning_rate': 4.666666666666667e-07, 'epoch': 2.93}\n"
     ]
    },
    {
     "name": "stderr",
     "output_type": "stream",
     "text": [
      " 98%|█████████▊| 2940/3000 [31:24<00:36,  1.64it/s]"
     ]
    },
    {
     "name": "stdout",
     "output_type": "stream",
     "text": [
      "{'loss': 1.7107, 'grad_norm': 7.738900184631348, 'learning_rate': 4.0000000000000003e-07, 'epoch': 2.94}\n"
     ]
    },
    {
     "name": "stderr",
     "output_type": "stream",
     "text": [
      " 98%|█████████▊| 2950/3000 [31:30<00:30,  1.62it/s]"
     ]
    },
    {
     "name": "stdout",
     "output_type": "stream",
     "text": [
      "{'loss': 1.6749, 'grad_norm': 17.63599395751953, 'learning_rate': 3.3333333333333335e-07, 'epoch': 2.95}\n"
     ]
    },
    {
     "name": "stderr",
     "output_type": "stream",
     "text": [
      " 99%|█████████▊| 2960/3000 [31:36<00:24,  1.61it/s]"
     ]
    },
    {
     "name": "stdout",
     "output_type": "stream",
     "text": [
      "{'loss': 1.7714, 'grad_norm': 12.871935844421387, 'learning_rate': 2.666666666666667e-07, 'epoch': 2.96}\n"
     ]
    },
    {
     "name": "stderr",
     "output_type": "stream",
     "text": [
      " 99%|█████████▉| 2970/3000 [31:42<00:18,  1.62it/s]"
     ]
    },
    {
     "name": "stdout",
     "output_type": "stream",
     "text": [
      "{'loss': 1.8087, 'grad_norm': 14.838088035583496, 'learning_rate': 2.0000000000000002e-07, 'epoch': 2.97}\n"
     ]
    },
    {
     "name": "stderr",
     "output_type": "stream",
     "text": [
      " 99%|█████████▉| 2980/3000 [31:48<00:12,  1.63it/s]"
     ]
    },
    {
     "name": "stdout",
     "output_type": "stream",
     "text": [
      "{'loss': 1.5645, 'grad_norm': 7.511195182800293, 'learning_rate': 1.3333333333333336e-07, 'epoch': 2.98}\n"
     ]
    },
    {
     "name": "stderr",
     "output_type": "stream",
     "text": [
      "100%|█████████▉| 2990/3000 [31:55<00:06,  1.61it/s]"
     ]
    },
    {
     "name": "stdout",
     "output_type": "stream",
     "text": [
      "{'loss': 1.6666, 'grad_norm': 9.395364761352539, 'learning_rate': 6.666666666666668e-08, 'epoch': 2.99}\n"
     ]
    },
    {
     "name": "stderr",
     "output_type": "stream",
     "text": [
      "100%|██████████| 3000/3000 [32:01<00:00,  1.61it/s]"
     ]
    },
    {
     "name": "stdout",
     "output_type": "stream",
     "text": [
      "{'loss': 1.5617, 'grad_norm': 17.429569244384766, 'learning_rate': 0.0, 'epoch': 3.0}\n"
     ]
    },
    {
     "name": "stderr",
     "output_type": "stream",
     "text": [
      "                                                   \n",
      "100%|██████████| 3000/3000 [32:42<00:00,  1.61it/s]"
     ]
    },
    {
     "name": "stdout",
     "output_type": "stream",
     "text": [
      "{'eval_loss': 1.8613311052322388, 'eval_accuracy': 0.30575, 'eval_macro_f1': 0.2768799622962209, 'eval_weighted_f1': 0.30785798969569, 'eval_runtime': 41.1386, 'eval_samples_per_second': 97.232, 'eval_steps_per_second': 3.039, 'epoch': 3.0}\n"
     ]
    },
    {
     "name": "stderr",
     "output_type": "stream",
     "text": [
      "100%|██████████| 3000/3000 [32:44<00:00,  1.53it/s]"
     ]
    },
    {
     "name": "stdout",
     "output_type": "stream",
     "text": [
      "{'train_runtime': 1964.4819, 'train_samples_per_second': 24.434, 'train_steps_per_second': 1.527, 'train_loss': 1.895551063855489, 'epoch': 3.0}\n"
     ]
    },
    {
     "name": "stderr",
     "output_type": "stream",
     "text": [
      "\n"
     ]
    },
    {
     "data": {
      "text/plain": [
       "TrainOutput(global_step=3000, training_loss=1.895551063855489, metrics={'train_runtime': 1964.4819, 'train_samples_per_second': 24.434, 'train_steps_per_second': 1.527, 'total_flos': 3179671142400000.0, 'train_loss': 1.895551063855489, 'epoch': 3.0})"
      ]
     },
     "metadata": {},
     "output_type": "display_data"
    }
   ],
   "source": [
    "model_name = \"distilbert-base-uncased\"\n",
    "tokenizer = AutoTokenizer.from_pretrained(model_name)\n",
    "\n",
    "def tokenize_fn(batch):\n",
    "    return tokenizer(batch[\"text\"], padding=\"max_length\", truncation=True, max_length=256)\n",
    "\n",
    "train_ds = train_ds.map(tokenize_fn, batched=True)\n",
    "test_ds = test_ds.map(tokenize_fn, batched=True)\n",
    "\n",
    "train_ds.set_format(type=\"torch\", columns=[\"input_ids\", \"attention_mask\", \"label\"])\n",
    "test_ds.set_format(type=\"torch\", columns=[\"input_ids\", \"attention_mask\", \"label\"])\n",
    "\n",
    "from transformers import DistilBertForSequenceClassification\n",
    "import torch.nn as nn\n",
    "\n",
    "class WeightedDistilBERT(DistilBertForSequenceClassification):\n",
    "    def __init__(self, config, class_weights):\n",
    "        super().__init__(config)\n",
    "        self.class_weights = class_weights\n",
    "\n",
    "    def forward(self, input_ids=None, attention_mask=None, labels=None, **kwargs):\n",
    "        outputs = super().forward(\n",
    "            input_ids=input_ids,\n",
    "            attention_mask=attention_mask,\n",
    "            labels=None,\n",
    "            **kwargs\n",
    "        )\n",
    "        logits = outputs.logits\n",
    "        loss = None\n",
    "        if labels is not None:\n",
    "            loss_fct = nn.CrossEntropyLoss(weight=self.class_weights.to(logits.device))\n",
    "            loss = loss_fct(logits.view(-1, self.num_labels), labels.view(-1))\n",
    "        return {\"loss\": loss, \"logits\": logits} if loss is not None else {\"logits\": logits}\n",
    "\n",
    "from transformers import AutoConfig\n",
    "\n",
    "class_weights = compute_class_weight(\n",
    "    class_weight=\"balanced\",\n",
    "    classes=np.unique(train_df[\"label\"]),\n",
    "    y=train_df[\"label\"]\n",
    ")\n",
    "class_weights_tensor = torch.tensor(class_weights, dtype=torch.float)\n",
    "\n",
    "# Build model with class weights\n",
    "config = AutoConfig.from_pretrained(model_name, num_labels=len(queue_list), id2label=id2label, label2id=label2id)\n",
    "model = WeightedDistilBERT.from_pretrained(model_name, config=config, class_weights=class_weights_tensor)\n",
    "\n",
    "def compute_metrics(eval_pred):\n",
    "    logits, labels = eval_pred\n",
    "    preds = np.argmax(logits, axis=1)\n",
    "    report = classification_report(\n",
    "        labels,\n",
    "        preds,\n",
    "        labels=list(range(len(queue_list))),\n",
    "        target_names=queue_list,\n",
    "        output_dict=True,\n",
    "    )\n",
    "    return {\n",
    "        \"accuracy\": report[\"accuracy\"],\n",
    "        \"macro_f1\": report[\"macro avg\"][\"f1-score\"],\n",
    "        \"weighted_f1\": report[\"weighted avg\"][\"f1-score\"],\n",
    "    }\n",
    "\n",
    "training_args = TrainingArguments(\n",
    "    output_dir=\"./transformer_baseline\",\n",
    "    evaluation_strategy=\"epoch\",\n",
    "    save_strategy=\"epoch\",\n",
    "    num_train_epochs=3,\n",
    "    per_device_train_batch_size=16,\n",
    "    per_device_eval_batch_size=32,\n",
    "    learning_rate=2e-5,\n",
    "    weight_decay=0.01,\n",
    "    logging_steps=10,\n",
    "    save_total_limit=1,\n",
    "    load_best_model_at_end=True,\n",
    ")\n",
    "\n",
    "trainer = Trainer(\n",
    "    model=model,\n",
    "    args=training_args,\n",
    "    train_dataset=train_ds,\n",
    "    eval_dataset=test_ds,\n",
    "    compute_metrics=compute_metrics,\n",
    ")\n",
    "\n",
    "trainer.train()"
   ]
  },
  {
   "cell_type": "code",
   "execution_count": null,
   "id": "7e855416",
   "metadata": {},
   "outputs": [
    {
     "name": "stderr",
     "output_type": "stream",
     "text": [
      "100%|██████████| 125/125 [00:40<00:00,  3.12it/s]"
     ]
    },
    {
     "name": "stdout",
     "output_type": "stream",
     "text": [
      "                                 precision    recall  f1-score   support\n",
      "\n",
      "           Billing and Payments       0.62      0.72      0.67       417\n",
      "               Customer Service       0.25      0.16      0.19       630\n",
      "                General Inquiry       0.08      0.15      0.10        53\n",
      "                Human Resources       0.20      0.31      0.24        68\n",
      "                     IT Support       0.26      0.36      0.31       458\n",
      "                Product Support       0.27      0.15      0.19       742\n",
      "          Returns and Exchanges       0.12      0.30      0.17       200\n",
      "            Sales and Pre-Sales       0.10      0.31      0.15       114\n",
      "Service Outages and Maintenance       0.32      0.50      0.39       153\n",
      "              Technical Support       0.45      0.30      0.36      1165\n",
      "\n",
      "                       accuracy                           0.31      4000\n",
      "                      macro avg       0.27      0.33      0.28      4000\n",
      "                   weighted avg       0.34      0.31      0.31      4000\n",
      "\n",
      "accuracy = 0.3058\n",
      "Macro F1: 0.2769\n",
      "Weighted F1: 0.3079\n"
     ]
    },
    {
     "name": "stderr",
     "output_type": "stream",
     "text": [
      "\n"
     ]
    }
   ],
   "source": [
    "from sklearn.metrics import classification_report, accuracy_score, f1_score\n",
    "\n",
    "preds = trainer.predict(test_ds)\n",
    "logits, labels = preds.predictions, preds.label_ids\n",
    "y_pred = np.argmax(logits, axis=1)\n",
    "\n",
    "print(classification_report(labels, y_pred, target_names=queue_list))\n",
    "print(f\"accuracy = {accuracy_score(labels, y_pred):.4f}\")\n",
    "print(f\"Macro F1: {f1_score(labels, y_pred, average='macro'):.4f}\")\n",
    "print(f\"Weighted F1: {f1_score(labels, y_pred, average='weighted'):.4f}\")"
   ]
  },
  {
   "cell_type": "markdown",
   "id": "01b0c3f1",
   "metadata": {},
   "source": [
    "On balanced eval set"
   ]
  },
  {
   "cell_type": "code",
   "execution_count": null,
   "id": "cede4620",
   "metadata": {},
   "outputs": [
    {
     "name": "stderr",
     "output_type": "stream",
     "text": [
      "Map: 100%|██████████| 530/530 [00:00<00:00, 4163.04 examples/s]\n",
      "100%|██████████| 17/17 [00:05<00:00,  3.15it/s]"
     ]
    },
    {
     "name": "stdout",
     "output_type": "stream",
     "text": [
      "[Balanced Eval Set]\n",
      "                                 precision    recall  f1-score   support\n",
      "\n",
      "           Billing and Payments       0.62      0.72      0.67        53\n",
      "               Customer Service       0.16      0.17      0.17        53\n",
      "                General Inquiry       0.50      0.15      0.23        53\n",
      "                Human Resources       0.60      0.28      0.38        53\n",
      "                     IT Support       0.36      0.38      0.37        53\n",
      "                Product Support       0.16      0.15      0.16        53\n",
      "          Returns and Exchanges       0.21      0.32      0.25        53\n",
      "            Sales and Pre-Sales       0.34      0.42      0.37        53\n",
      "Service Outages and Maintenance       0.70      0.57      0.62        53\n",
      "              Technical Support       0.22      0.32      0.26        53\n",
      "\n",
      "                       accuracy                           0.35       530\n",
      "                      macro avg       0.39      0.35      0.35       530\n",
      "                   weighted avg       0.39      0.35      0.35       530\n",
      "\n",
      "accuracy = 0.3472\n",
      "Macro F1: 0.3483\n",
      "Weighted F1: 0.3483\n"
     ]
    },
    {
     "name": "stderr",
     "output_type": "stream",
     "text": [
      "\n"
     ]
    }
   ],
   "source": [
    "balanced_eval_df[\"label\"] = balanced_eval_df[\"queue\"].map(label2id)\n",
    "\n",
    "balanced_ds = Dataset.from_pandas(balanced_eval_df[[\"text\", \"label\"]])\n",
    "balanced_ds = balanced_ds.map(tokenize_fn, batched=True)\n",
    "balanced_ds.set_format(type=\"torch\", columns=[\"input_ids\", \"attention_mask\", \"label\"])\n",
    "\n",
    "balanced_preds = trainer.predict(balanced_ds)\n",
    "logits, labels = balanced_preds.predictions, balanced_preds.label_ids\n",
    "y_pred = np.argmax(logits, axis=1)\n",
    "\n",
    "print(\"[Balanced Eval Set]\")\n",
    "print(classification_report(labels, y_pred, target_names=queue_list))\n",
    "print(f\"accuracy = {accuracy_score(labels, y_pred):.4f}\")\n",
    "print(f\"Macro F1: {f1_score(labels, y_pred, average='macro'):.4f}\")\n",
    "print(f\"Weighted F1: {f1_score(labels, y_pred, average='weighted'):.4f}\")"
   ]
  },
  {
   "cell_type": "code",
   "execution_count": null,
   "id": "41294b48",
   "metadata": {},
   "outputs": [],
   "source": []
  }
 ],
 "metadata": {
  "kernelspec": {
   "display_name": "mistral_final",
   "language": "python",
   "name": "python3"
  },
  "language_info": {
   "codemirror_mode": {
    "name": "ipython",
    "version": 3
   },
   "file_extension": ".py",
   "mimetype": "text/x-python",
   "name": "python",
   "nbconvert_exporter": "python",
   "pygments_lexer": "ipython3",
   "version": "3.9.7"
  }
 },
 "nbformat": 4,
 "nbformat_minor": 5
}
